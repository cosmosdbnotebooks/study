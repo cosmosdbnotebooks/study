{
  "cells": [
    {
      "cell_type": "markdown",
      "source": [
        "# Tips for cost-effective usage of Azure Cosmos DB at any scale\n",
        "\n",
        "In this notebook, we'll learn how to scale Azure Cosmos containers manually and using autoscale.\n",
        "\n",
        "To run this C# notebook, be sure to select the **CSharp** kernel in the command bar, so we can get all the language support features we need.\n"
      ],
      "metadata": {
        "nteract": {
          "transient": {
            "deleting": false
          }
        }
      },
      "id": "6db48b52-8631-45d4-946b-9799054f2d10"
    },
    {
      "cell_type": "markdown",
      "source": [
        "## Create database and containers\n",
        "First, we'll create a new database and container to hold our data. Note when we create the container, we select a value for the partition key: we'll partition our data by the item id value, as it has a high cardinality (important for workloads during a lot of writes, e.g. IOT workloads) and evenly distributes the request and storage volume. Choosing a good partition key is \"key\" to getting good scale and performance from Azure Cosmos DB, so it's important we follow the [best practices](https://docs.microsoft.com/azure/cosmos-db/partitioning-overview)!\n",
        "\n",
        "### To start, we'll create a container that has the minimum 400 RU/s of throughput."
      ],
      "metadata": {
        "nteract": {
          "transient": {
            "deleting": false
          }
        }
      },
      "id": "a47bfdc0-7767-4dc6-b089-cd2330a254b3"
    },
    {
      "cell_type": "code",
      "source": [
        "using System;\n",
        "using Microsoft.Azure.Cosmos;\n",
        "using System.Collections;\n",
        "using System.Collections.Generic;\n",
        "\n",
        "// Initialize a new instance of CosmosClient using the built-in account endpoint and key parameters\n",
        "CosmosClient cosmosClient = new CosmosClient(Cosmos.Endpoint, Cosmos.Key);\n",
        "\n",
        "// Create a new database and a new container\n",
        "Microsoft.Azure.Cosmos.Database database = await cosmosClient.CreateDatabaseIfNotExistsAsync(\"WebsiteData\");\n",
        "\n",
        "ContainerProperties containerProperties = new ContainerProperties()\n",
        "{\n",
        "    Id = \"low-throughput\",\n",
        "    PartitionKeyPath = \"/id\",\n",
        "    IndexingPolicy = new IndexingPolicy()\n",
        "   {\n",
        "        Automatic = false,\n",
        "        IndexingMode = IndexingMode.None,\n",
        "   }\n",
        "};\n",
        "\n",
        "Container container = await database.CreateContainerIfNotExistsAsync(containerProperties, throughput: 400);\n",
        "\n",
        "Display.AsMarkdown(@\"\n",
        "Created database WebsiteData and container Sales. You can see these new resources by refreshing your resource pane under the Data section.\n",
        "\");"
      ],
      "outputs": [
        {
          "output_type": "execute_result",
          "execution_count": 1,
          "data": {},
          "metadata": {}
        },
        {
          "output_type": "display_data",
          "data": {
            "text/plain": "<IPython.core.display.Markdown object>",
            "text/markdown": "\nCreated database WebsiteData and container Sales. You can see these new resources by refreshing your resource pane under the Data section.\n"
          },
          "metadata": {}
        }
      ],
      "execution_count": 1,
      "metadata": {
        "collapsed": true,
        "jupyter": {
          "source_hidden": false,
          "outputs_hidden": false
        },
        "nteract": {
          "transient": {
            "deleting": false
          }
        },
        "execution": {
          "iopub.status.busy": "2021-11-30T01:41:46.645Z",
          "iopub.status.idle": "2021-11-30T01:41:46.685Z",
          "shell.execute_reply": "2021-11-30T01:41:46.676Z",
          "iopub.execute_input": "2021-11-30T01:41:46.653Z"
        }
      },
      "id": "e5d8aab7-28ec-430c-844e-752cb5f2dd95"
    },
    {
      "cell_type": "markdown",
      "source": [
        "### Ingesting data\n",
        "\n",
        "We'll ingest an example retail dataset with a similar structure to the retail dataset from the previous example. This retail dataset has approx. 2,600 documents that are 1 KB each. We can estimate how long it will take to ingest 2,600 with our 400 RU/s of provisioned throughput.\n",
        "\n",
        "Since each document is 1 KB, it will cost about 5 RUs of throughput to ingest each document. Since we have 400 RU/s of provisioned throughput, we have 400 RUs of throughput available each second. Therefore, we can ingest approximately 80 documents per second.\n",
        "\n",
        "With a ingestion rate of 80 documents per second, it will take approx. 30 seconds to ingest our full dataset of 2,600 documents."
      ],
      "metadata": {
        "nteract": {
          "transient": {
            "deleting": false
          }
        }
      },
      "id": "b2ee7c9d-b263-4a5b-8fe2-bd1478d6bb3c"
    },
    {
      "cell_type": "code",
      "source": [
        "%%upload --databaseName WebsiteData --containerName low-throughput --url https://cosmosnotebooksdata.blob.core.windows.net/notebookdata/websiteData.json"
      ],
      "outputs": [
        {
          "output_type": "display_data",
          "data": {
            "text/html": "\r\n<span style='color:#0078D4'>\r\nDocuments successfully uploaded to low-throughput <br/>\r\nTotal number of documents imported:<br/>\r\n&nbsp;&nbsp;Success: <b>2654</b> <br/>\r\n&nbsp;&nbsp;Failure: <b>0</b> <br/>\r\nTotal time taken : <b>00:00:58</b> hours <br/>\r\nTotal RUs consumed : <b>26274.600000001028</b> <br/>\r\n<br/>\r\n</span>\r\n"
          },
          "metadata": {}
        }
      ],
      "execution_count": 2,
      "metadata": {
        "collapsed": true,
        "jupyter": {
          "source_hidden": false,
          "outputs_hidden": false
        },
        "nteract": {
          "transient": {
            "deleting": false
          }
        },
        "execution": {
          "iopub.status.busy": "2021-11-30T01:41:49.060Z",
          "iopub.status.idle": "2021-11-30T01:42:48.035Z",
          "shell.execute_reply": "2021-11-30T01:42:48.041Z"
        }
      },
      "id": "1575c9d6-97fc-4d07-ae96-110ec2c574d8"
    },
    {
      "cell_type": "markdown",
      "source": [
        "### Scaling up throughput\n",
        "\n",
        "For workloads with small documents, 400 RU/s allows for 80 writes/sec. While this is sufficient scale in many cases, some customers need a higher provisioned throughput. In the next code sample, we'll create a new container with 4,000 RU/s, allowing data ingestion at 10x the rate of 400 RU/s.\n",
        "\n",
        "When scaling Azure Cosmos containers, it's good to keep in mind that:\n",
        "\n",
        "1. For most changes that are less than a 10x increase, containers scale instantly.\n",
        "2. Scaling a container (either up or down) will never cause downtime. \n",
        "3. You can scale a container programmatically (uses SDKs or Azure CLI) as well as in the Azure Portal\n",
        "\n",
        "Let's try it out!"
      ],
      "metadata": {
        "nteract": {
          "transient": {
            "deleting": false
          }
        }
      },
      "id": "d7b3674d-ecc4-4ae9-995a-c291b04ea33b"
    },
    {
      "cell_type": "code",
      "source": [
        "// Create a new container with 4,000 RUs\n",
        "ContainerProperties containerProperties = new ContainerProperties()\n",
        "{\n",
        "    Id = \"high-throughput\",\n",
        "    PartitionKeyPath = \"/id\",\n",
        "    IndexingPolicy = new IndexingPolicy()\n",
        "   {\n",
        "        Automatic = false,\n",
        "        IndexingMode = IndexingMode.None,\n",
        "   }\n",
        "};\n",
        "\n",
        "Container container = await database.CreateContainerIfNotExistsAsync(containerProperties, throughput: 4000);\n",
        "\n",
        "Display.AsMarkdown(@\"\n",
        "Created high-throughput container with 4,000 RU/s\n",
        "\");"
      ],
      "outputs": [
        {
          "output_type": "execute_result",
          "execution_count": 5,
          "data": {},
          "metadata": {}
        },
        {
          "output_type": "display_data",
          "data": {
            "text/plain": "<IPython.core.display.Markdown object>",
            "text/markdown": "\nCreated high-throughput container with 4,000 RU/s\n"
          },
          "metadata": {}
        }
      ],
      "execution_count": 3,
      "metadata": {
        "collapsed": true,
        "jupyter": {
          "source_hidden": false,
          "outputs_hidden": false
        },
        "nteract": {
          "transient": {
            "deleting": false
          }
        },
        "execution": {
          "iopub.status.busy": "2021-11-30T01:43:32.674Z",
          "iopub.status.idle": "2021-11-30T01:43:32.704Z",
          "shell.execute_reply": "2021-11-30T01:43:32.754Z",
          "iopub.execute_input": "2021-11-30T01:43:32.684Z"
        }
      },
      "id": "381bd979-d569-40a0-afba-7570ac137bf7"
    },
    {
      "cell_type": "code",
      "source": [
        "%%upload --databaseName WebsiteData --containerName high-throughput --url https://cosmosnotebooksdata.blob.core.windows.net/notebookdata/websiteData.json"
      ],
      "outputs": [],
      "execution_count": null,
      "metadata": {
        "collapsed": true,
        "jupyter": {
          "source_hidden": false,
          "outputs_hidden": false
        },
        "nteract": {
          "transient": {
            "deleting": false
          }
        },
        "execution": {
          "iopub.status.busy": "2021-11-30T01:43:34.031Z",
          "iopub.status.idle": "2021-11-30T01:43:14.389Z",
          "shell.execute_reply": "2021-11-30T01:43:14.400Z"
        }
      },
      "id": "842d62f4-4dab-444a-8c87-7d9d3a33b039"
    },
    {
      "cell_type": "markdown",
      "source": [
        "### Interpreting results\n",
        "\n",
        "In this case, by scaling up our scale-test container, we were able to increase the ingestion rate by 10x. In Azure Cosmos DB, you can scale throughput manually or automatically, using autoscale. For most customers, it's impractical to constantly monitor provisioned throughput. By configuring autoscale, you can set a maximum throughput value and Azure Cosmos DB will automatically scale your throughput, scaling between 10% of the max throughput to the full max throughput.\n",
        "\n",
        "Let's try out autoscale! We'll repeat the earlier test but this time set a max autoscale throughput of 4,000 RU/s. That way, we'll be able to use the full 4,000 RUs of throughput when required, but have the advantage of automatically scaling down to 400 RU/s when the added throughput isn't required."
      ],
      "metadata": {
        "nteract": {
          "transient": {
            "deleting": false
          }
        }
      },
      "id": "33d4fbf9-3b74-4a47-968e-739f62a738c0"
    },
    {
      "cell_type": "code",
      "source": [
        "using System;\n",
        "using Microsoft.Azure.Cosmos;\n",
        "using System.Collections;\n",
        "using System.Collections.Generic;\n",
        "\n",
        "// Initialize a new instance of CosmosClient using the built-in account endpoint and key parameters\n",
        "CosmosClient cosmosClient = new CosmosClient(Cosmos.Endpoint, Cosmos.Key);\n",
        "\n",
        "// Create a new database and a new container\n",
        "Microsoft.Azure.Cosmos.Database database = await cosmosClient.CreateDatabaseIfNotExistsAsync(\"WebsiteData\");\n",
        "\n",
        "ContainerProperties containerProperties = new ContainerProperties()\n",
        "{\n",
        "    Id = \"autoscale-test\",\n",
        "    PartitionKeyPath = \"/id\",\n",
        "    IndexingPolicy = new IndexingPolicy()\n",
        "   {\n",
        "        Automatic = false,\n",
        "        IndexingMode = IndexingMode.None,\n",
        "   }\n",
        "};\n",
        "\n",
        "Container container = await database.CreateContainerIfNotExistsAsync(containerProperties, ThroughputProperties.CreateAutoscaleThroughput(4000));\n",
        "\n",
        "Display.AsMarkdown(@\"\n",
        "Created database WebsiteData and container autoscale-test. You can see these new resources by refreshing your resource pane under the Data section.\n",
        "\");"
      ],
      "outputs": [],
      "execution_count": null,
      "metadata": {
        "collapsed": true,
        "jupyter": {
          "source_hidden": false,
          "outputs_hidden": false
        },
        "nteract": {
          "transient": {
            "deleting": false
          }
        },
        "execution": {
          "iopub.status.busy": "2021-11-29T22:26:32.255Z",
          "iopub.status.idle": "2021-11-29T22:26:32.289Z",
          "shell.execute_reply": "2021-11-29T22:26:32.302Z",
          "iopub.execute_input": "2021-11-29T22:26:32.265Z"
        }
      },
      "id": "9f65111a-88f0-4295-8044-c6b04e876731"
    },
    {
      "cell_type": "code",
      "source": [
        "%%upload --databaseName WebsiteData --containerName autoscale-test --url https://cosmosnotebooksdata.blob.core.windows.net/notebookdata/websiteData.json"
      ],
      "outputs": [],
      "execution_count": null,
      "metadata": {
        "collapsed": true,
        "jupyter": {
          "source_hidden": false,
          "outputs_hidden": false
        },
        "nteract": {
          "transient": {
            "deleting": false
          }
        },
        "execution": {
          "iopub.status.busy": "2021-11-29T22:26:36.314Z",
          "iopub.status.idle": "2021-11-29T22:26:38.941Z",
          "shell.execute_reply": "2021-11-29T22:26:38.948Z"
        }
      },
      "id": "e1c2ee13-d7b1-4f74-ae37-a1f1ee1ad537"
    },
    {
      "cell_type": "markdown",
      "source": [
        "## Learn more about options for scaling throughput in Azure Cosmos DB\n",
        "\n",
        "https://www.youtube.com/watch?v=CgYQo6uHyt0&t=1s"
      ],
      "metadata": {
        "nteract": {
          "transient": {
            "deleting": false
          }
        }
      },
      "id": "785fceec-ffa8-4b2b-9a77-48305e6e01d5"
    }
  ],
  "metadata": {
    "language_info": {
      "name": "csharp",
      "version": "7.3",
      "mimetype": "application/json",
      "file_extension": "ipynb",
      "codemirror_mode": "text/x-csharp"
    },
    "kernelspec": {
      "name": "csharp",
      "displayName": "CSharp",
      "language": "csharp"
    },
    "nteract": {
      "version": "dataExplorer 1.0"
    }
  },
  "nbformat": 4,
  "nbformat_minor": 5
}