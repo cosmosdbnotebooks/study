{
  "cells": [
    {
      "cell_type": "markdown",
      "source": [
        "# Tips for cost-effective usage of Azure Cosmos DB at any scale\n",
        "\n",
        "In this notebook, we'll learn how to scale Azure Cosmos containers manually and using autoscale.\n",
        "\n",
        "To run this C# notebook, be sure to select the **CSharp** kernel in the command bar, so we can get all the language support features we need.\n"
      ],
      "metadata": {
        "nteract": {
          "transient": {
            "deleting": false
          }
        }
      },
      "id": "6db48b52-8631-45d4-946b-9799054f2d10"
    },
    {
      "cell_type": "markdown",
      "source": [
        "## Create database and containers\n",
        "First, we'll create a new database and container to hold our data. Note when we create the container, we select a value for the partition key: we'll partition our data by the item id value, as it has a high cardinality (important for workloads during a lot of writes, e.g. IOT workloads) and evenly distributes the request and storage volume. Choosing a good partition key is \"key\" to getting good scale and performance from Azure Cosmos DB, so it's important we follow the [best practices](https://docs.microsoft.com/azure/cosmos-db/partitioning-overview)!\n",
        "\n",
        "### To start, we'll create a container that has the minimum 400 RU/s of throughput."
      ],
      "metadata": {
        "nteract": {
          "transient": {
            "deleting": false
          }
        }
      },
      "id": "a47bfdc0-7767-4dc6-b089-cd2330a254b3"
    },
    {
      "cell_type": "code",
      "source": [
        "using System;\n",
        "using Microsoft.Azure.Cosmos;\n",
        "using System.Collections;\n",
        "using System.Collections.Generic;\n",
        "\n",
        "// Initialize a new instance of CosmosClient using the built-in account endpoint and key parameters\n",
        "CosmosClient cosmosClient = new CosmosClient(Cosmos.Endpoint, Cosmos.Key);\n",
        "\n",
        "// Create a new database and a new container\n",
        "Microsoft.Azure.Cosmos.Database database = await cosmosClient.CreateDatabaseIfNotExistsAsync(\"WebsiteData\");\n",
        "\n",
        "ContainerProperties containerProperties = new ContainerProperties()\n",
        "{\n",
        "    Id = \"scale-test\",\n",
        "    PartitionKeyPath = \"/id\",\n",
        "    IndexingPolicy = new IndexingPolicy()\n",
        "   {\n",
        "        Automatic = false,\n",
        "        IndexingMode = IndexingMode.None,\n",
        "   }\n",
        "};\n",
        "\n",
        "Container container = await database.CreateContainerIfNotExistsAsync(containerProperties, throughput: 400);\n",
        "\n",
        "Display.AsMarkdown(@\"\n",
        "Created database WebsiteData and container Sales. You can see these new resources by refreshing your resource pane under the Data section.\n",
        "\");"
      ],
      "outputs": [
        {
          "output_type": "execute_result",
          "execution_count": 2,
          "data": {},
          "metadata": {}
        },
        {
          "output_type": "display_data",
          "data": {
            "text/plain": "<IPython.core.display.Markdown object>",
            "text/markdown": "\nCreated database WebsiteData and container Sales. You can see these new resources by refreshing your resource pane under the Data section.\n"
          },
          "metadata": {}
        }
      ],
      "execution_count": 1,
      "metadata": {
        "collapsed": true,
        "jupyter": {
          "source_hidden": false,
          "outputs_hidden": false
        },
        "nteract": {
          "transient": {
            "deleting": false
          }
        },
        "execution": {
          "iopub.status.busy": "2021-11-17T18:30:01.839Z",
          "iopub.status.idle": "2021-11-17T18:30:01.892Z",
          "shell.execute_reply": "2021-11-17T18:30:01.885Z",
          "iopub.execute_input": "2021-11-17T18:30:01.852Z"
        }
      },
      "id": "e5d8aab7-28ec-430c-844e-752cb5f2dd95"
    },
    {
      "cell_type": "markdown",
      "source": [
        "### Ingesting data\n",
        "\n",
        "We'll ingest an example retail dataset with a similar structure to the retail dataset from the previous example. This retail dataset has approx. 2,600 documents that are 1 KB each. Let's estimate how long it will take to ingest 2,600 with our 400 RU/s of provisioned throughput.\n",
        "\n",
        "Since each document is 1 KB, it will cost about 5 RUs of throughput to ingest each document. Since we have 400 RU/s of provisioned throughput, we have 400 RUs of throughput available each second. Therefore, we can ingest approximately 80 documents per second.\n",
        "\n",
        "With a ingestion rate of 80 documents per second, it should take approx. 30 seconds to ingest our full dataset of 2,600 documents"
      ],
      "metadata": {
        "nteract": {
          "transient": {
            "deleting": false
          }
        }
      },
      "id": "b2ee7c9d-b263-4a5b-8fe2-bd1478d6bb3c"
    },
    {
      "cell_type": "code",
      "source": [
        "%%upload --databaseName WebsiteData --containerName scale-test --url https://cosmosnotebooksdata.blob.core.windows.net/notebookdata/websiteData.json"
      ],
      "outputs": [
        {
          "output_type": "display_data",
          "data": {
            "text/html": "\r\n<span style='color:#0078D4'>\r\nDocuments successfully uploaded to scale-test <br/>\r\nTotal number of documents imported:<br/>\r\n&nbsp;&nbsp;Success: <b>2654</b> <br/>\r\n&nbsp;&nbsp;Failure: <b>0</b> <br/>\r\nTotal time taken : <b>00:00:30</b> hours <br/>\r\nTotal RUs consumed : <b>13137.300000000514</b> <br/>\r\n<br/>\r\n</span>\r\n"
          },
          "metadata": {}
        }
      ],
      "execution_count": 3,
      "metadata": {
        "collapsed": true,
        "jupyter": {
          "source_hidden": false,
          "outputs_hidden": false
        },
        "nteract": {
          "transient": {
            "deleting": false
          }
        },
        "execution": {
          "iopub.status.busy": "2021-11-17T18:30:04.161Z",
          "iopub.status.idle": "2021-11-17T18:30:34.872Z",
          "shell.execute_reply": "2021-11-17T18:30:34.901Z"
        }
      },
      "id": "1575c9d6-97fc-4d07-ae96-110ec2c574d8"
    },
    {
      "cell_type": "markdown",
      "source": [
        "### Scaling up throughput\n",
        "\n",
        "For workloads with small documents, 400 RU/s allows for 80 writes/sec. While this is sufficient scale in many cases, some customers need a higher provisioned throughput. In the next code sample, we'll scale up our scale-test container to 4,000 RU/s, allowing data ingestion at 10x the rate of 400 RU/s\n",
        "\n",
        "When scaling Azure Cosmos containers, it's good to keep in mind that:\n",
        "\n",
        "- For most changes that are less than a 10x increase, containers scale instantly. In rare cases that require a substantial increase in scale, scaling takes a few hours.\n",
        "- Scaling a container (either up or down) will never cause downtime. \n",
        "- You can scale a container programmatically (uses SDKs or Azure CLI) as well as in the Azure Portal\n",
        "\n",
        "Let's try it out!"
      ],
      "metadata": {
        "nteract": {
          "transient": {
            "deleting": false
          }
        }
      },
      "id": "d7b3674d-ecc4-4ae9-995a-c291b04ea33b"
    },
    {
      "cell_type": "markdown",
      "source": [],
      "metadata": {
        "nteract": {
          "transient": {
            "deleting": false
          }
        }
      },
      "id": "33d4fbf9-3b74-4a47-968e-739f62a738c0"
    }
  ],
  "metadata": {
    "language_info": {
      "name": "csharp",
      "version": "7.3",
      "mimetype": "application/json",
      "file_extension": "ipynb",
      "codemirror_mode": "text/x-csharp"
    },
    "kernelspec": {
      "name": "csharp",
      "displayName": "CSharp",
      "language": "csharp"
    },
    "nteract": {
      "version": "dataExplorer 1.0"
    }
  },
  "nbformat": 4,
  "nbformat_minor": 5
}