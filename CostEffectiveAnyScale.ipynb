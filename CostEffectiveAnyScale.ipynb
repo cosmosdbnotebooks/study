{
  "cells": [
    {
      "cell_type": "code",
      "source": [
        "# Tips for cost-effective usage of Azure Cosmos DB at any scale\n",
        "\n",
        "In this notebook, we'll learn how to scale Azure Cosmos containers manually and using autoscale.\n",
        "\n",
        "To run this C# notebook, be sure to select the **CSharp** kernel in the command bar, so we can get all the language support features we need.\n"
      ],
      "outputs": [],
      "execution_count": null,
      "metadata": {
        "collapsed": true,
        "jupyter": {
          "source_hidden": false,
          "outputs_hidden": false
        },
        "nteract": {
          "transient": {
            "deleting": false
          }
        },
        "execution": {
          "iopub.status.busy": "2021-11-17T02:09:36.492Z",
          "iopub.status.idle": "2021-11-17T02:09:36.723Z",
          "shell.execute_reply": "2021-11-17T02:09:36.732Z"
        }
      },
      "id": "8ee30de7-62f6-446d-87e2-10a2c82a29c4"
    },
    {
      "cell_type": "markdown",
      "source": [
        "## Create database and containers\n",
        "First, we'll create a new database and container to hold our data. Note when we create the container, we select a value for the partition key: we'll partition our data by the item id value, as it has a high cardinality (important for workloads during a lot of writes, e.g. IOT workloads) and evenly distributes the request and storage volume. Choosing a good partition key is \"key\" to getting good scale and performance from Azure Cosmos DB, so it's important we follow the [best practices](https://docs.microsoft.com/azure/cosmos-db/partitioning-overview)!\n",
        "\n",
        "### To start, we'll create a container that has the minimum 400 RU/s of throughput."
      ],
      "metadata": {
        "nteract": {
          "transient": {
            "deleting": false
          }
        }
      },
      "id": "a47bfdc0-7767-4dc6-b089-cd2330a254b3"
    },
    {
      "cell_type": "code",
      "source": [
        "using System;\n",
        "using Microsoft.Azure.Cosmos;\n",
        "using System.Collections;\n",
        "using System.Collections.Generic;\n",
        "\n",
        "// Initialize a new instance of CosmosClient using the built-in account endpoint and key parameters\n",
        "CosmosClient cosmosClient = new CosmosClient(Cosmos.Endpoint, Cosmos.Key);\n",
        "\n",
        "// Create a new database and a new container\n",
        "Microsoft.Azure.Cosmos.Database database = await cosmosClient.CreateDatabaseIfNotExistsAsync(\"WebsiteData\");\n",
        "\n",
        "ContainerProperties containerProperties = new ContainerProperties()\n",
        "{\n",
        "    Id = \"scale-test\",\n",
        "    PartitionKeyPath = \"/id\",\n",
        "    IndexingPolicy = new IndexingPolicy()\n",
        "   {\n",
        "        Automatic = false,\n",
        "        IndexingMode = IndexingMode.None,\n",
        "   }\n",
        "};\n",
        "\n",
        "Container container = await database.CreateContainerIfNotExistsAsync(containerProperties, throughput: 400);\n",
        "\n",
        "Display.AsMarkdown(@\"\n",
        "Created database WebsiteData and container Sales. You can see these new resources by refreshing your resource pane under the Data section.\n",
        "\");"
      ],
      "outputs": [
        {
          "output_type": "execute_result",
          "execution_count": 1,
          "data": {},
          "metadata": {}
        },
        {
          "output_type": "display_data",
          "data": {
            "text/plain": "<IPython.core.display.Markdown object>",
            "text/markdown": "\nCreated database WebsiteData and container Sales. You can see these new resources by refreshing your resource pane under the Data section.\n"
          },
          "metadata": {}
        }
      ],
      "execution_count": 1,
      "metadata": {
        "collapsed": true,
        "jupyter": {
          "source_hidden": false,
          "outputs_hidden": false
        },
        "nteract": {
          "transient": {
            "deleting": false
          }
        },
        "execution": {
          "iopub.status.busy": "2021-11-17T17:09:20.368Z",
          "iopub.status.idle": "2021-11-17T17:09:20.389Z",
          "shell.execute_reply": "2021-11-17T17:09:20.382Z",
          "iopub.execute_input": "2021-11-17T17:09:20.376Z"
        }
      },
      "id": "e5d8aab7-28ec-430c-844e-752cb5f2dd95"
    },
    {
      "cell_type": "markdown",
      "source": [
        "### Ingesting data\n",
        "\n",
        "We'll ingest an example retail dataset with a similar structure to the retail dataset from the previous example. This retail dataset has approx. 2,600 documents that are 1 KB each. Let's estimate how long it will take to ingest 2,600 with our 400 RU/s of provisioned throughput.\n",
        "\n",
        "Since each document is 1 KB, it will cost about 5 RUs of throughput to ingest each document. Since we have 400 RU/s of provisioned throughput, we have 400 RUs of throughput available each second. Therefore, we can ingest approximately 80 documents per second.\n",
        "\n",
        "With a ingestion rate of 80 documents per second, it should take approx. 30 seconds to ingest our full dataset of 2,600 documents"
      ],
      "metadata": {
        "nteract": {
          "transient": {
            "deleting": false
          }
        }
      },
      "id": "b2ee7c9d-b263-4a5b-8fe2-bd1478d6bb3c"
    },
    {
      "cell_type": "code",
      "source": [
        "%%upload --databaseName WebsiteData --containerName scale-test --url https://cosmosnotebooksdata.blob.core.windows.net/notebookdata/websiteData.json"
      ],
      "outputs": [],
      "execution_count": null,
      "metadata": {
        "collapsed": true,
        "jupyter": {
          "source_hidden": false,
          "outputs_hidden": false
        },
        "nteract": {
          "transient": {
            "deleting": false
          }
        }
      },
      "id": "1575c9d6-97fc-4d07-ae96-110ec2c574d8"
    }
  ],
  "metadata": {
    "language_info": {
      "name": "csharp",
      "version": "7.3",
      "mimetype": "application/json",
      "file_extension": "ipynb",
      "codemirror_mode": "text/x-csharp"
    },
    "kernelspec": {
      "name": "csharp",
      "displayName": "CSharp",
      "language": "csharp"
    },
    "nteract": {
      "version": "dataExplorer 1.0"
    }
  },
  "nbformat": 4,
  "nbformat_minor": 5
}