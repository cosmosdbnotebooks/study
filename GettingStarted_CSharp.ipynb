{
  "cells": [
    {
      "cell_type": "markdown",
      "source": [
        "# Get started with Azure Cosmos DB using the .NET SDK for SQL API\n",
        "\n",
        "In this notebook, we'll learn how to do operations against the Azure Cosmos DB SQL API using the .NET SDK client library. We'll use an IOT scenario of vehicle telemetry to illustrate how to create resources, insert data, query and visualize our data. \n",
        "\n",
        "<br>To run this notebook, be sure to select the **CSharp** kernel in the command bar, so we can get all the language support features we need."
      ],
      "metadata": {
        "nteract": {
          "transient": {
            "deleting": false
          }
        }
      }
    },
    {
      "cell_type": "markdown",
      "source": [
        "### Import NuGet packages\n",
        "First, we'll import the NuGet packages we need in this notebook. Use the syntax: ``#r \"nuget: PackageName, OptionalVersionNumber\"``. "
      ],
      "metadata": {
        "nteract": {}
      }
    },
    {
      "cell_type": "code",
      "source": [
        "#r \"nuget: Bogus\"\n",
        "#r \"nuget: System.Linq\"\n",
        "#r \"nuget: System.Linq.Expressions\""
      ],
      "outputs": [
        {
          "output_type": "execute_result",
          "execution_count": 8,
          "data": {},
          "metadata": {}
        }
      ],
      "execution_count": 8,
      "metadata": {
        "nteract": {},
        "collapsed": true,
        "outputExpanded": false,
        "trusted": false
      }
    },
    {
      "cell_type": "markdown",
      "source": [
        "### Create database and containers\n",
        "Next, we'll create a new database and container to hold our data. Note when we create the container, we select a value for the partition key: we'll partition our data by Vehicle Identification Number (VIN), as it has a high cardinality (important for workloads during a lot of writes, e.g. IOT workloads) and evenly distributes the request and storage volume. Choosing a good partition key is \"key\" to getting good scale and performance from Azure Cosmos DB, so it's important we follow the [best practices](https://docs.microsoft.com/azure/cosmos-db/partitioning-overview)!\n",
        "\n",
        "The type of container this will create depends on the capacity mode of your Cosmos DB account:\n",
        "- On a provisioned throughput account, this will create a container provisioned at 400 RU/s, the minimum RU/s for any provisioned throughput container.\n",
        "- On a serverless account, this will create a serverless container.\n"
      ],
      "metadata": {}
    },
    {
      "cell_type": "code",
      "source": [
        "using System;\n",
        "using Microsoft.Azure.Cosmos;\n",
        "using System.Collections;\n",
        "\n",
        "// Initialize a new instance of CosmosClient using the built-in account endpoint and key parameters\n",
        "CosmosClient cosmosClient = new CosmosClient(Cosmos.Endpoint, Cosmos.Key);\n",
        "\n",
        "// Create a new database and a new container\n",
        "Microsoft.Azure.Cosmos.Database database = await cosmosClient.CreateDatabaseIfNotExistsAsync(\"CosmosIOTDemo\");\n",
        "Container container = await database.CreateContainerIfNotExistsAsync(\"VehicleData\", \"/vin\");\n",
        "\n",
        "Display.AsMarkdown(@\"\n",
        "Created database CosmosIOTDemo and container VehicleData. You can see these new resources by refreshing your resource pane under the Data section.\n",
        "\");"
      ],
      "outputs": [
        {
          "output_type": "execute_result",
          "execution_count": 9,
          "data": {},
          "metadata": {}
        },
        {
          "output_type": "display_data",
          "data": {
            "text/markdown": "\nCreated database CosmosIOTDemo and container VehicleData. You can see these new resources by refreshing your resource pane under the Data section.\n",
            "text/plain": "<IPython.core.display.Markdown object>"
          },
          "metadata": {}
        }
      ],
      "execution_count": 3,
      "metadata": {
        "collapsed": false,
        "inputHidden": false,
        "outputHidden": false,
        "trusted": false
      }
    },
    {
      "cell_type": "markdown",
      "source": [
        "### Create C# classes to represent our TelemetryEvent\n",
        "We can create classes to represent the items we will be inserting into our container. In this sample, we'll be working with vehicle telemetry data that contains sensor information."
      ],
      "metadata": {}
    },
    {
      "cell_type": "code",
      "source": [
        "using System;\n",
        "\n",
        "class TelemetryEvent\n",
        "{\n",
        "    public string id { get; set; }\n",
        "    \n",
        "    public string vin { get; set; }\n",
        "\n",
        "    public string eventName { get; set; }\n",
        "\n",
        "    public string vehicleType { get; set; }\n",
        "        \n",
        "    public string fuelType {get; set; }    \n",
        "\n",
        "    public double s1 { get; set; }\n",
        "\n",
        "    public double s2 { get; set; }\n",
        "\n",
        "    public double s3 { get; set; }\n",
        "\n",
        "    public DateTime timestamp { get; set; }\n",
        "\n",
        "    public string date { get; set; }\n",
        "\n",
        "    public string region { get; set; }\n",
        "\n",
        "}"
      ],
      "outputs": [
        {
          "output_type": "execute_result",
          "execution_count": 10,
          "data": {},
          "metadata": {}
        }
      ],
      "execution_count": 10,
      "metadata": {
        "collapsed": false,
        "inputHidden": false,
        "outputHidden": false,
        "trusted": false
      }
    },
    {
      "cell_type": "markdown",
      "source": [
        "### Insert data into our container\n",
        "First, we'll write a helper method we can call that randomly generates a set number of events that we will insert into our container. We'll use the [Bogus](https://github.com/bchavez/Bogus) library for .NET to easily generate sample data."
      ],
      "metadata": {}
    },
    {
      "cell_type": "code",
      "source": [
        "using System.Linq;\n",
        "using System.Collections.Generic;\n",
        "using System.Linq.Expressions;\n",
        "using System;\n",
        "using Bogus;\n",
        "\n",
        "static List<TelemetryEvent> GenerateTelemetryEvents(int numberOfEventsToGenerate)\n",
        "{\n",
        "    var eventTypes = new string[] { \"Harsh_break\", \"Airbag_deploy\", \"Check_engine_light\" };\n",
        "\n",
        "    var faker = new Faker();\n",
        "    \n",
        "    var vinList = Enumerable.Range(1, 10) //Generate 10 different vehicle ids\n",
        "    .Select(_ => _.ToString())\n",
        "    .ToList();\n",
        "    \n",
        "    var telemetryEvent = new Faker<TelemetryEvent>()\n",
        "    .StrictMode(true)\n",
        "    //Generate telemetry event\n",
        "    .RuleFor(o => o.id, f => Guid.NewGuid().ToString())\n",
        "    .RuleFor(o => o.vin, f => f.PickRandom(vinList))\n",
        "    .RuleFor(o => o.eventName, f => f.PickRandom(eventTypes))\n",
        "    .RuleFor(o => o.vehicleType, f => f.Vehicle.Type())\n",
        "    .RuleFor(o => o.fuelType, f => f.Vehicle.Fuel())\n",
        "    .RuleFor(o => o.timestamp, f => DateTime.Now) // just today's date\n",
        "    .RuleFor(o => o.date, (f, m) => $\"{m.timestamp.ToString(\"yyyy-MM-dd\")}\")\n",
        "    .RuleFor(o => o.s1, f => f.Random.Double(1, 2000))\n",
        "    .RuleFor(o => o.s2, f => f.Random.Double(1, 2000))\n",
        "    .RuleFor(o => o.s3, f => f.Random.Double(1, 2000))\n",
        "    .RuleFor(o => o.region, f => f.Address.Country());\n",
        "    \n",
        "    var events = telemetryEvent.Generate(numberOfEventsToGenerate);\n",
        "       \n",
        "    return events;\n",
        "\n",
        "}\n"
      ],
      "outputs": [
        {
          "output_type": "execute_result",
          "execution_count": 11,
          "data": {},
          "metadata": {}
        }
      ],
      "execution_count": 11,
      "metadata": {
        "collapsed": false,
        "inputHidden": false,
        "outputHidden": false,
        "trusted": false
      }
    },
    {
      "cell_type": "markdown",
      "source": [
        "Next, let's generate 100 events and write them to our container."
      ],
      "metadata": {}
    },
    {
      "cell_type": "code",
      "source": [
        "var telemetryEvents = GenerateTelemetryEvents(100);\n",
        "\n",
        "foreach (TelemetryEvent telemetryEvent in telemetryEvents)\n",
        "{\n",
        "    var itemResponse = await container.CreateItemAsync<TelemetryEvent>(telemetryEvent);\n",
        "}\n",
        "\n",
        "Display.AsMarkdown(@\"\n",
        "Created 100 items in VehicleData container. \n",
        "\");\n",
        "\n"
      ],
      "outputs": [],
      "execution_count": null,
      "metadata": {
        "collapsed": false,
        "inputHidden": false,
        "outputHidden": false,
        "trusted": false
      }
    },
    {
      "cell_type": "markdown",
      "source": [
        "### Query for items\n",
        "We can run a [SQL query](https://docs.microsoft.com/azure/cosmos-db/sql-query-getting-started) against our container. Azure Cosmos DB returns results in pages, so we use the pattern of calling the [ReadNextAsync](https://docs.microsoft.com/dotnet/api/microsoft.azure.cosmos.feediterator.readnextasync?view=azure-dotnet) method on a [FeedIterator](https://docs.microsoft.com/dotnet/api/microsoft.azure.cosmos.container.getitemqueryiterator?view=azure-dotnet#Microsoft_Azure_Cosmos_Container_GetItemQueryIterator__1_Microsoft_Azure_Cosmos_QueryDefinition_System_String_Microsoft_Azure_Cosmos_QueryRequestOptions_). \n",
        "\n",
        "The query ``SELECT * FROM c WHERE c.vin = '8'`` will return all documents for the specified ``vin``. Putting the partition key of ``vin`` in the WHERE clause ensures that we can run an efficient query. "
      ],
      "metadata": {}
    },
    {
      "cell_type": "code",
      "source": [
        "QueryDefinition queryDefinition = new QueryDefinition(\"SELECT TOP 5 * FROM c WHERE c.vin = @vin\")\n",
        "                                      .WithParameter(\"@vin\", \"8\");\n",
        "\n",
        "FeedIterator<TelemetryEvent> queryResultSetIterator = container.GetItemQueryIterator<TelemetryEvent>(queryDefinition);\n",
        "\n",
        "List<TelemetryEvent> telemetryEvents = new List<TelemetryEvent>();\n",
        "\n",
        "while (queryResultSetIterator.HasMoreResults)\n",
        "{\n",
        "    FeedResponse<TelemetryEvent> currentResultSet = await queryResultSetIterator.ReadNextAsync();\n",
        "    foreach (TelemetryEvent telemetryEvent in currentResultSet)\n",
        "    {\n",
        "        telemetryEvents.Add(telemetryEvent);\n",
        "    }\n",
        "}\n",
        "\n",
        "telemetryEvents"
      ],
      "outputs": [],
      "execution_count": null,
      "metadata": {
        "nteract": {},
        "collapsed": true,
        "outputExpanded": false,
        "trusted": false
      }
    },
    {
      "cell_type": "markdown",
      "source": [
        "### Next steps\n",
        "- See [samples](https://github.com/Azure/azure-cosmos-dotnet-v3/tree/master/Microsoft.Azure.Cosmos.Samples) for the [Azure Cosmos DB .NET SDK](https://www.nuget.org/packages/Microsoft.Azure.Cosmos/)\n",
        "- Learn how to choose between [provisioned throughput and serverless](https://docs.microsoft.com/en-us/azure/cosmos-db/throughput-serverless)\n",
        "- Learn about how to choose the right [throughput (RU/s)](https://docs.microsoft.com/azure/cosmos-db/estimate-ru-with-capacity-planner) when using provisioned throughput\n",
        "- Learn about how to [choose a good partition key](https://docs.microsoft.com/azure/cosmos-db/partitioning-overview) and [model your data](https://docs.microsoft.com/azure/cosmos-db/how-to-model-partition-example)"
      ],
      "metadata": {}
    }
  ],
  "metadata": {
    "kernelspec": {
      "language": "csharp",
      "name": "csharp"
    },
    "language_info": {
      "name": "csharp",
      "version": "7.3",
      "mimetype": "application/json",
      "file_extension": "ipynb",
      "codemirror_mode": "text/x-csharp"
    },
    "nteract": {
      "version": "dataExplorer 1.0"
    }
  },
  "nbformat": 4,
  "nbformat_minor": 4
}