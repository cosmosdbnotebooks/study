{
  "cells": [
    {
      "cell_type": "markdown",
      "source": [
        "# Get started with Azure Cosmos DB development\n",
        "\n",
        "Built-in Jupyter notebooks in Azure Cosmos DB allow to easily ingest and view your data - all within the Azure Portal. In this notebook, we'll learn how to create an Azure Cosmos container, ingest data, and query data.\n",
        "\n",
        "To run this C# notebook, be sure to select the **CSharp** kernel in the command bar, so we can get all the language support features we need.\n"
      ],
      "metadata": {
        "nteract": {
          "transient": {
            "deleting": false
          }
        }
      },
      "id": "6fbe2861-7208-4c93-9183-02096bd1f6b2"
    },
    {
      "cell_type": "markdown",
      "source": [
        "## Create database and containers\n",
        "First, we'll create a new database and container to hold our data. Note when we create the container, we select a value for the partition key: we'll partition our data by the item id value, as it has a high cardinality (important for workloads during a lot of writes, e.g. IOT workloads) and evenly distributes the request and storage volume. Choosing a good partition key is \"key\" to getting good scale and performance from Azure Cosmos DB, so it's important we follow the [best practices](https://docs.microsoft.com/azure/cosmos-db/partitioning-overview)!\n",
        "\n",
        "### The type of container this will create depends on the capacity mode of your Cosmos DB account:\n",
        "- On a provisioned throughput account, this will create a container provisioned at 400 RU/s, the minimum RU/s for any provisioned throughput container.\n",
        "- On a serverless account, this will create a serverless container."
      ],
      "metadata": {
        "nteract": {
          "transient": {
            "deleting": false
          }
        }
      },
      "id": "8ba5f9b6-0bbf-4c10-a4ee-f1616c91d4af"
    },
    {
      "cell_type": "code",
      "source": [
        "using System;\n",
        "using Microsoft.Azure.Cosmos;\n",
        "using System.Collections;\n",
        "using System.Collections.Generic;\n",
        "\n",
        "// Initialize a new instance of CosmosClient using the built-in account endpoint and key parameters\n",
        "CosmosClient cosmosClient = new CosmosClient(Cosmos.Endpoint, Cosmos.Key);\n",
        "\n",
        "// Create a new database and a new container\n",
        "Microsoft.Azure.Cosmos.Database database = await cosmosClient.CreateDatabaseIfNotExistsAsync(\"WebsiteData\");\n",
        "\n",
        "ContainerProperties containerProperties = new ContainerProperties()\n",
        "{\n",
        "    Id = \"sales\",\n",
        "    PartitionKeyPath = \"/id\",\n",
        "};\n",
        "\n",
        "Container container = await database.CreateContainerIfNotExistsAsync(containerProperties, throughput: 400);\n",
        "\n",
        "Display.AsMarkdown(@\"\n",
        "Created database WebsiteData and container Sales. You can see these new resources by refreshing your resource pane under the Data section.\n",
        "\");"
      ],
      "outputs": [
        {
          "output_type": "execute_result",
          "execution_count": 1,
          "data": {},
          "metadata": {}
        },
        {
          "output_type": "display_data",
          "data": {
            "text/plain": "<IPython.core.display.Markdown object>",
            "text/markdown": "\nCreated database WebsiteData and container Sales. You can see these new resources by refreshing your resource pane under the Data section.\n"
          },
          "metadata": {}
        }
      ],
      "execution_count": 1,
      "metadata": {
        "collapsed": true,
        "jupyter": {
          "source_hidden": false,
          "outputs_hidden": false
        },
        "nteract": {
          "transient": {
            "deleting": false
          }
        },
        "execution": {
          "iopub.status.busy": "2021-11-30T22:35:38.058Z",
          "iopub.execute_input": "2021-11-30T22:35:38.164Z",
          "iopub.status.idle": "2021-11-30T22:35:38.185Z",
          "shell.execute_reply": "2021-11-30T22:35:38.173Z"
        }
      },
      "id": "eced2e04-0b5c-4c65-b3f9-8d32a1ad4e0c"
    },
    {
      "cell_type": "code",
      "source": [
        "// Creating custom classes to use later\n",
        " public class ItemSale\n",
        "    {\n",
        "        public string id { get; set; }\n",
        "        public int CartID { get; set; }\n",
        "        public ActionType Action { get; set; }\n",
        "        public string Item { get; set; }\n",
        "        public double Price { get; set; }\n",
        "        public string UserName { get; set; }\n",
        "        public string Country { get; set; }\n",
        "        public string EventDate { get; set; }\n",
        "        public int Year { get; set; }\n",
        "        public double Latitude { get; set; }\n",
        "        public double Longitude { get; set; }\n",
        "        public string Address { get; set; }\n",
        "    } \n",
        "\n",
        " public class ItemSaleWithDiscount\n",
        "    {\n",
        "        public string id { get; set; }\n",
        "        public int CartID { get; set; }\n",
        "        public ActionType Action { get; set; }\n",
        "        public string Item { get; set; }\n",
        "        public double Price { get; set; }\n",
        "        public string UserName { get; set; }\n",
        "        public string Country { get; set; }\n",
        "        public string EventDate { get; set; }\n",
        "        public int Year { get; set; }\n",
        "        public double Latitude { get; set; }\n",
        "        public double Longitude { get; set; }\n",
        "        public string Address { get; set; }\n",
        "        public bool IsDiscounted { get; set; }\n",
        "    }    \n",
        "\n",
        " public class ItemSaleTotal\n",
        "    {\n",
        "        public string Country { get; set; }\n",
        "        public double ItemRevenue { get; set; }\n",
        "        public int ItemsSold { get; set; }\n",
        "   }\n",
        "    public enum ActionType\n",
        "    {\n",
        "        Viewed,\n",
        "        Added,\n",
        "        Purchased\n",
        "    }"
      ],
      "outputs": [
        {
          "output_type": "execute_result",
          "execution_count": 2,
          "data": {},
          "metadata": {}
        }
      ],
      "execution_count": 2,
      "metadata": {
        "collapsed": true,
        "jupyter": {
          "source_hidden": false,
          "outputs_hidden": false
        },
        "nteract": {
          "transient": {
            "deleting": false
          }
        },
        "execution": {
          "iopub.status.busy": "2021-11-30T22:35:42.481Z",
          "iopub.status.idle": "2021-11-30T22:35:42.910Z",
          "shell.execute_reply": "2021-11-30T22:35:42.943Z"
        }
      },
      "id": "131a66e2-4d64-4e55-b7be-6c5d5a3ac6a5"
    },
    {
      "cell_type": "code",
      "source": [
        "%%upload --databaseName WebsiteData --containerName sales --url https://cosmosnotebooksdata.blob.core.windows.net/notebookdata/websiteData-small.json"
      ],
      "outputs": [
        {
          "output_type": "display_data",
          "data": {
            "text/html": "\r\n<span style='color:#0078D4'>\r\nDocuments successfully uploaded to sales <br/>\r\nTotal number of documents imported:<br/>\r\n&nbsp;&nbsp;Success: <b>7</b> <br/>\r\n&nbsp;&nbsp;Failure: <b>0</b> <br/>\r\nTotal time taken : <b>00:00:00</b> hours <br/>\r\nTotal RUs consumed : <b>67.97</b> <br/>\r\n<br/>\r\n</span>\r\n"
          },
          "metadata": {}
        }
      ],
      "execution_count": 3,
      "metadata": {
        "collapsed": true,
        "jupyter": {
          "source_hidden": false,
          "outputs_hidden": false
        },
        "nteract": {
          "transient": {
            "deleting": false
          }
        },
        "execution": {
          "iopub.status.busy": "2021-11-30T22:35:47.589Z",
          "iopub.status.idle": "2021-11-30T22:35:48.348Z",
          "shell.execute_reply": "2021-11-30T22:35:48.358Z"
        }
      },
      "id": "d5839f59-1de1-4475-a89d-1ad7d2309dac"
    },
    {
      "cell_type": "markdown",
      "source": [
        "## Querying your data\n",
        "\n",
        "Next, we'll write some SQL queries to explore the data in the Sales container. In Azure Cosmos DB SQL API, you can query your data with SQL queries. Azure Cosmos DB SQL is different from the ANSI SQL you might already be familiar with because it's designed for querying JSON documents, as opposed to relational database tables. However, most SQL concepts still apply in Azure Cosmos DB and if you're already familar with SQL, it is easy to learn how to write queries in Azure Cosmos DB.\n",
        "\n",
        "### The below examples will explore basic query features in Azure Cosmos DB. Here are some things to keep in mind:\n",
        "\n",
        "    - Azure Cosmos DB indexes all properties by default, so you don't need to manually create indexes. Later on, you can remove unused indexes and add on composite indexes to further improve query performance\n",
        "    - You don't need to be an expert in database performance to run queries in Azure Cosmos DB. There's virtually no query tuning required and queries automatically use indexes.\n",
        "    - All queries deduct from your per-second budget of request units (RUs). Queries that are more complex or have higher latency tend to consume more RUs. All queries consume at least 2 RUs.\n"
      ],
      "metadata": {
        "nteract": {
          "transient": {
            "deleting": false
          }
        }
      },
      "id": "51708f4c-e129-48ac-943a-8a5f3aab1db1"
    },
    {
      "cell_type": "code",
      "source": [
        "QueryDefinition queryDefinition = new QueryDefinition(\"SELECT c.Action, c.Price as ItemRevenue, c.Country, c.Item FROM c\");\n",
        "\n",
        "FeedIterator<ItemSale> queryResultSetIterator = container.GetItemQueryIterator<ItemSale>(queryDefinition);\n",
        "\n",
        "List<ItemSale> itemSales = new List<ItemSale>();\n",
        "\n",
        "while (queryResultSetIterator.HasMoreResults)\n",
        "{\n",
        "    FeedResponse<ItemSale> currentResultSet = await queryResultSetIterator.ReadNextAsync();\n",
        "    foreach (ItemSale itemSale in currentResultSet)\n",
        "    {\n",
        "        itemSales.Add(itemSale);\n",
        "    }\n",
        "}\n",
        "\n",
        "itemSales"
      ],
      "outputs": [
        {
          "output_type": "execute_result",
          "execution_count": 4,
          "data": {
            "text/plain": "System.Collections.Generic.List`1[Submission#2+ItemSale]",
            "application/vnd.dataresource+json": {
              "data": [
                {
                  "id": null,
                  "CartID": 0,
                  "Action": 0,
                  "Item": "Black Tee",
                  "Price": 0,
                  "UserName": null,
                  "Country": "Tunisia",
                  "EventDate": null,
                  "Year": 0,
                  "Latitude": 0,
                  "Longitude": 0,
                  "Address": null,
                  "index": 0
                },
                {
                  "id": null,
                  "CartID": 0,
                  "Action": 0,
                  "Item": "Rainjacket",
                  "Price": 0,
                  "UserName": null,
                  "Country": "Czech Republic",
                  "EventDate": null,
                  "Year": 0,
                  "Latitude": 0,
                  "Longitude": 0,
                  "Address": null,
                  "index": 1
                },
                {
                  "id": null,
                  "CartID": 0,
                  "Action": 1,
                  "Item": "Socks",
                  "Price": 0,
                  "UserName": null,
                  "Country": "Guinea-Bissau",
                  "EventDate": null,
                  "Year": 0,
                  "Latitude": 0,
                  "Longitude": 0,
                  "Address": null,
                  "index": 2
                },
                {
                  "id": null,
                  "CartID": 0,
                  "Action": 1,
                  "Item": "Button-Up Shirt",
                  "Price": 0,
                  "UserName": null,
                  "Country": "Syrian Arab Republic",
                  "EventDate": null,
                  "Year": 0,
                  "Latitude": 0,
                  "Longitude": 0,
                  "Address": null,
                  "index": 3
                },
                {
                  "id": null,
                  "CartID": 0,
                  "Action": 0,
                  "Item": "Socks",
                  "Price": 0,
                  "UserName": null,
                  "Country": "Guinea-Bissau",
                  "EventDate": null,
                  "Year": 0,
                  "Latitude": 0,
                  "Longitude": 0,
                  "Address": null,
                  "index": 4
                },
                {
                  "id": null,
                  "CartID": 0,
                  "Action": 0,
                  "Item": "Cosmos T-shirt",
                  "Price": 0,
                  "UserName": null,
                  "Country": "Iceland",
                  "EventDate": null,
                  "Year": 0,
                  "Latitude": 0,
                  "Longitude": 0,
                  "Address": null,
                  "index": 5
                },
                {
                  "id": null,
                  "CartID": 0,
                  "Action": 0,
                  "Item": "Flannel Shirt",
                  "Price": 0,
                  "UserName": null,
                  "Country": "Antigua and Barbuda",
                  "EventDate": null,
                  "Year": 0,
                  "Latitude": 0,
                  "Longitude": 0,
                  "Address": null,
                  "index": 6
                }
              ],
              "schema": {
                "fields": [
                  {
                    "name": "index",
                    "type": "integer"
                  },
                  {
                    "name": "id",
                    "type": "null"
                  },
                  {
                    "name": "CartID",
                    "type": "integer"
                  },
                  {
                    "name": "Action",
                    "type": "integer"
                  },
                  {
                    "name": "Item",
                    "type": "string"
                  },
                  {
                    "name": "Price",
                    "type": "number"
                  },
                  {
                    "name": "UserName",
                    "type": "null"
                  },
                  {
                    "name": "Country",
                    "type": "string"
                  },
                  {
                    "name": "EventDate",
                    "type": "null"
                  },
                  {
                    "name": "Year",
                    "type": "integer"
                  },
                  {
                    "name": "Latitude",
                    "type": "number"
                  },
                  {
                    "name": "Longitude",
                    "type": "number"
                  },
                  {
                    "name": "Address",
                    "type": "null"
                  }
                ],
                "primaryKey": [
                  "index"
                ]
              }
            }
          },
          "metadata": {
            "application/vnd.dataresource+json": {
              "size": 4,
              "_root": {
                "ownerID": {},
                "entries": [
                  [
                    "size",
                    1
                  ],
                  [
                    "_root",
                    {
                      "size": 2,
                      "_root": {
                        "ownerID": {},
                        "entries": [
                          [
                            "ownerID",
                            {
                              "size": 0,
                              "__altered": false
                            }
                          ],
                          [
                            "entries",
                            {
                              "size": 1,
                              "_origin": 0,
                              "_capacity": 1,
                              "_level": 5,
                              "_root": null,
                              "_tail": {
                                "array": [
                                  {
                                    "size": 2,
                                    "_origin": 0,
                                    "_capacity": 2,
                                    "_level": 5,
                                    "_root": null,
                                    "_tail": {
                                      "array": [
                                        "dx",
                                        {
                                          "size": 3,
                                          "_root": {
                                            "ownerID": {},
                                            "entries": [
                                              [
                                                "size",
                                                14
                                              ],
                                              [
                                                "_root",
                                                {
                                                  "size": 3,
                                                  "_root": {
                                                    "ownerID": {},
                                                    "entries": [
                                                      [
                                                        "ownerID",
                                                        {
                                                          "size": 0,
                                                          "__altered": false
                                                        }
                                                      ],
                                                      [
                                                        "bitmap",
                                                        1078182321
                                                      ],
                                                      [
                                                        "nodes",
                                                        {
                                                          "size": 11,
                                                          "_origin": 0,
                                                          "_capacity": 11,
                                                          "_level": 5,
                                                          "_root": null,
                                                          "_tail": {
                                                            "array": [
                                                              {
                                                                "size": 3,
                                                                "_root": {
                                                                  "ownerID": {},
                                                                  "entries": [
                                                                    [
                                                                      "ownerID",
                                                                      {
                                                                        "size": 0,
                                                                        "__altered": false
                                                                      }
                                                                    ],
                                                                    [
                                                                      "keyHash",
                                                                      -119117824
                                                                    ],
                                                                    [
                                                                      "entry",
                                                                      {
                                                                        "size": 2,
                                                                        "_origin": 0,
                                                                        "_capacity": 2,
                                                                        "_level": 5,
                                                                        "_root": null,
                                                                        "_tail": {
                                                                          "array": [
                                                                            "summaryType",
                                                                            "violin"
                                                                          ]
                                                                        },
                                                                        "__altered": false
                                                                      }
                                                                    ]
                                                                  ]
                                                                },
                                                                "__altered": false
                                                              },
                                                              {
                                                                "size": 3,
                                                                "_root": {
                                                                  "ownerID": {},
                                                                  "entries": [
                                                                    [
                                                                      "ownerID",
                                                                      {
                                                                        "size": 0,
                                                                        "__altered": false
                                                                      }
                                                                    ],
                                                                    [
                                                                      "keyHash",
                                                                      -345406460
                                                                    ],
                                                                    [
                                                                      "entry",
                                                                      {
                                                                        "size": 2,
                                                                        "_origin": 0,
                                                                        "_capacity": 2,
                                                                        "_level": 5,
                                                                        "_root": null,
                                                                        "_tail": {
                                                                          "array": [
                                                                            "marginalGraphics",
                                                                            "none"
                                                                          ]
                                                                        },
                                                                        "__altered": false
                                                                      }
                                                                    ]
                                                                  ]
                                                                },
                                                                "__altered": false
                                                              },
                                                              {
                                                                "size": 3,
                                                                "_root": {
                                                                  "ownerID": {},
                                                                  "entries": [
                                                                    [
                                                                      "ownerID",
                                                                      {
                                                                        "size": 0,
                                                                        "__altered": false
                                                                      }
                                                                    ],
                                                                    [
                                                                      "keyHash",
                                                                      3619493
                                                                    ],
                                                                    [
                                                                      "entry",
                                                                      {
                                                                        "size": 2,
                                                                        "_origin": 0,
                                                                        "_capacity": 2,
                                                                        "_level": 5,
                                                                        "_root": null,
                                                                        "_tail": {
                                                                          "array": [
                                                                            "view",
                                                                            "grid"
                                                                          ]
                                                                        },
                                                                        "__altered": false
                                                                      }
                                                                    ]
                                                                  ]
                                                                },
                                                                "__altered": false
                                                              },
                                                              {
                                                                "size": 3,
                                                                "_root": {
                                                                  "ownerID": {},
                                                                  "entries": [
                                                                    [
                                                                      "ownerID",
                                                                      {
                                                                        "size": 0,
                                                                        "__altered": false
                                                                      }
                                                                    ],
                                                                    [
                                                                      "keyHash",
                                                                      -592394905
                                                                    ],
                                                                    [
                                                                      "entry",
                                                                      {
                                                                        "size": 2,
                                                                        "_origin": 0,
                                                                        "_capacity": 2,
                                                                        "_level": 5,
                                                                        "_root": null,
                                                                        "_tail": {
                                                                          "array": [
                                                                            "areaType",
                                                                            "hexbin"
                                                                          ]
                                                                        },
                                                                        "__altered": false
                                                                      }
                                                                    ]
                                                                  ]
                                                                },
                                                                "__altered": false
                                                              },
                                                              {
                                                                "size": 3,
                                                                "_root": {
                                                                  "ownerID": {},
                                                                  "entries": [
                                                                    [
                                                                      "ownerID",
                                                                      {
                                                                        "size": 0,
                                                                        "__altered": false
                                                                      }
                                                                    ],
                                                                    [
                                                                      "bitmap",
                                                                      68165696
                                                                    ],
                                                                    [
                                                                      "nodes",
                                                                      {
                                                                        "size": 4,
                                                                        "_origin": 0,
                                                                        "_capacity": 4,
                                                                        "_level": 5,
                                                                        "_root": null,
                                                                        "_tail": {
                                                                          "array": [
                                                                            {
                                                                              "size": 3,
                                                                              "_root": {
                                                                                "ownerID": {},
                                                                                "entries": [
                                                                                  [
                                                                                    "ownerID",
                                                                                    {
                                                                                      "size": 0,
                                                                                      "__altered": false
                                                                                    }
                                                                                  ],
                                                                                  [
                                                                                    "keyHash",
                                                                                    -340014904
                                                                                  ],
                                                                                  [
                                                                                    "entry",
                                                                                    {
                                                                                      "size": 2,
                                                                                      "_origin": 0,
                                                                                      "_capacity": 2,
                                                                                      "_level": 5,
                                                                                      "_root": null,
                                                                                      "_tail": {
                                                                                        "array": [
                                                                                          "selectedDimensions",
                                                                                          {
                                                                                            "size": 7,
                                                                                            "_root": {
                                                                                              "ownerID": {},
                                                                                              "entries": [
                                                                                                [
                                                                                                  "size",
                                                                                                  1
                                                                                                ],
                                                                                                [
                                                                                                  "_origin",
                                                                                                  0
                                                                                                ],
                                                                                                [
                                                                                                  "_capacity",
                                                                                                  1
                                                                                                ],
                                                                                                [
                                                                                                  "_level",
                                                                                                  5
                                                                                                ],
                                                                                                [
                                                                                                  "_root",
                                                                                                  null
                                                                                                ],
                                                                                                [
                                                                                                  "_tail",
                                                                                                  {
                                                                                                    "size": 1,
                                                                                                    "_root": {
                                                                                                      "ownerID": {},
                                                                                                      "entries": [
                                                                                                        [
                                                                                                          "array",
                                                                                                          {
                                                                                                            "size": 1,
                                                                                                            "_origin": 0,
                                                                                                            "_capacity": 1,
                                                                                                            "_level": 5,
                                                                                                            "_root": null,
                                                                                                            "_tail": {
                                                                                                              "array": [
                                                                                                                "Item"
                                                                                                              ]
                                                                                                            },
                                                                                                            "__altered": false
                                                                                                          }
                                                                                                        ]
                                                                                                      ]
                                                                                                    },
                                                                                                    "__altered": false
                                                                                                  }
                                                                                                ],
                                                                                                [
                                                                                                  "__altered",
                                                                                                  false
                                                                                                ]
                                                                                              ]
                                                                                            },
                                                                                            "__altered": false
                                                                                          }
                                                                                        ]
                                                                                      },
                                                                                      "__altered": false
                                                                                    }
                                                                                  ]
                                                                                ]
                                                                              },
                                                                              "__altered": false
                                                                            },
                                                                            {
                                                                              "size": 3,
                                                                              "_root": {
                                                                                "ownerID": {},
                                                                                "entries": [
                                                                                  [
                                                                                    "ownerID",
                                                                                    {
                                                                                      "size": 0,
                                                                                      "__altered": false
                                                                                    }
                                                                                  ],
                                                                                  [
                                                                                    "keyHash",
                                                                                    390943144
                                                                                  ],
                                                                                  [
                                                                                    "entry",
                                                                                    {
                                                                                      "size": 2,
                                                                                      "_origin": 0,
                                                                                      "_capacity": 2,
                                                                                      "_level": 5,
                                                                                      "_root": null,
                                                                                      "_tail": {
                                                                                        "array": [
                                                                                          "selectedMetrics",
                                                                                          {
                                                                                            "size": 5,
                                                                                            "_root": {
                                                                                              "ownerID": {},
                                                                                              "entries": [
                                                                                                [
                                                                                                  "size",
                                                                                                  0
                                                                                                ],
                                                                                                [
                                                                                                  "_origin",
                                                                                                  0
                                                                                                ],
                                                                                                [
                                                                                                  "_capacity",
                                                                                                  0
                                                                                                ],
                                                                                                [
                                                                                                  "_level",
                                                                                                  5
                                                                                                ],
                                                                                                [
                                                                                                  "__altered",
                                                                                                  false
                                                                                                ]
                                                                                              ]
                                                                                            },
                                                                                            "__altered": false
                                                                                          }
                                                                                        ]
                                                                                      },
                                                                                      "__altered": false
                                                                                    }
                                                                                  ]
                                                                                ]
                                                                              },
                                                                              "__altered": false
                                                                            },
                                                                            {
                                                                              "size": 3,
                                                                              "_root": {
                                                                                "ownerID": {},
                                                                                "entries": [
                                                                                  [
                                                                                    "ownerID",
                                                                                    {
                                                                                      "size": 0,
                                                                                      "__altered": false
                                                                                    }
                                                                                  ],
                                                                                  [
                                                                                    "keyHash",
                                                                                    -866871672
                                                                                  ],
                                                                                  [
                                                                                    "entry",
                                                                                    {
                                                                                      "size": 2,
                                                                                      "_origin": 0,
                                                                                      "_capacity": 2,
                                                                                      "_level": 5,
                                                                                      "_root": null,
                                                                                      "_tail": {
                                                                                        "array": [
                                                                                          "networkType",
                                                                                          "force"
                                                                                        ]
                                                                                      },
                                                                                      "__altered": false
                                                                                    }
                                                                                  ]
                                                                                ]
                                                                              },
                                                                              "__altered": false
                                                                            },
                                                                            {
                                                                              "size": 3,
                                                                              "_root": {
                                                                                "ownerID": {},
                                                                                "entries": [
                                                                                  [
                                                                                    "ownerID",
                                                                                    {
                                                                                      "size": 0,
                                                                                      "__altered": false
                                                                                    }
                                                                                  ],
                                                                                  [
                                                                                    "keyHash",
                                                                                    113796936
                                                                                  ],
                                                                                  [
                                                                                    "entry",
                                                                                    {
                                                                                      "size": 2,
                                                                                      "_origin": 0,
                                                                                      "_capacity": 2,
                                                                                      "_level": 5,
                                                                                      "_root": null,
                                                                                      "_tail": {
                                                                                        "array": [
                                                                                          "pieceType",
                                                                                          "bar"
                                                                                        ]
                                                                                      },
                                                                                      "__altered": false
                                                                                    }
                                                                                  ]
                                                                                ]
                                                                              },
                                                                              "__altered": false
                                                                            }
                                                                          ]
                                                                        },
                                                                        "__altered": false
                                                                      }
                                                                    ]
                                                                  ]
                                                                },
                                                                "__altered": false
                                                              },
                                                              {
                                                                "size": 3,
                                                                "_root": {
                                                                  "ownerID": {},
                                                                  "entries": [
                                                                    [
                                                                      "ownerID",
                                                                      {
                                                                        "size": 0,
                                                                        "__altered": false
                                                                      }
                                                                    ],
                                                                    [
                                                                      "keyHash",
                                                                      114923854
                                                                    ],
                                                                    [
                                                                      "entry",
                                                                      {
                                                                        "size": 2,
                                                                        "_origin": 0,
                                                                        "_capacity": 2,
                                                                        "_level": 5,
                                                                        "_root": null,
                                                                        "_tail": {
                                                                          "array": [
                                                                            "lineType",
                                                                            "line"
                                                                          ]
                                                                        },
                                                                        "__altered": false
                                                                      }
                                                                    ]
                                                                  ]
                                                                },
                                                                "__altered": false
                                                              },
                                                              {
                                                                "size": 3,
                                                                "_root": {
                                                                  "ownerID": {},
                                                                  "entries": [
                                                                    [
                                                                      "ownerID",
                                                                      {
                                                                        "size": 0,
                                                                        "__altered": false
                                                                      }
                                                                    ],
                                                                    [
                                                                      "keyHash",
                                                                      831288079
                                                                    ],
                                                                    [
                                                                      "entry",
                                                                      {
                                                                        "size": 2,
                                                                        "_origin": 0,
                                                                        "_capacity": 2,
                                                                        "_level": 5,
                                                                        "_root": null,
                                                                        "_tail": {
                                                                          "array": [
                                                                            "hierarchyType",
                                                                            "dendrogram"
                                                                          ]
                                                                        },
                                                                        "__altered": false
                                                                      }
                                                                    ]
                                                                  ]
                                                                },
                                                                "__altered": false
                                                              },
                                                              {
                                                                "size": 3,
                                                                "_root": {
                                                                  "ownerID": {},
                                                                  "entries": [
                                                                    [
                                                                      "ownerID",
                                                                      {
                                                                        "size": 0,
                                                                        "__altered": false
                                                                      }
                                                                    ],
                                                                    [
                                                                      "keyHash",
                                                                      -281100944
                                                                    ],
                                                                    [
                                                                      "entry",
                                                                      {
                                                                        "size": 2,
                                                                        "_origin": 0,
                                                                        "_capacity": 2,
                                                                        "_level": 5,
                                                                        "_root": null,
                                                                        "_tail": {
                                                                          "array": [
                                                                            "colors",
                                                                            {
                                                                              "size": 7,
                                                                              "_root": {
                                                                                "ownerID": {},
                                                                                "entries": [
                                                                                  [
                                                                                    "size",
                                                                                    19
                                                                                  ],
                                                                                  [
                                                                                    "_origin",
                                                                                    0
                                                                                  ],
                                                                                  [
                                                                                    "_capacity",
                                                                                    19
                                                                                  ],
                                                                                  [
                                                                                    "_level",
                                                                                    5
                                                                                  ],
                                                                                  [
                                                                                    "_root",
                                                                                    null
                                                                                  ],
                                                                                  [
                                                                                    "_tail",
                                                                                    {
                                                                                      "size": 1,
                                                                                      "_root": {
                                                                                        "ownerID": {},
                                                                                        "entries": [
                                                                                          [
                                                                                            "array",
                                                                                            {
                                                                                              "size": 19,
                                                                                              "_origin": 0,
                                                                                              "_capacity": 19,
                                                                                              "_level": 5,
                                                                                              "_root": null,
                                                                                              "_tail": {
                                                                                                "array": [
                                                                                                  "#DA752E",
                                                                                                  "#E5C209",
                                                                                                  "#1441A0",
                                                                                                  "#B86117",
                                                                                                  "#4D430C",
                                                                                                  "#1DB390",
                                                                                                  "#B3331D",
                                                                                                  "#088EB2",
                                                                                                  "#417505",
                                                                                                  "#E479A8",
                                                                                                  "#F9F39E",
                                                                                                  "#5782DC",
                                                                                                  "#EBA97B",
                                                                                                  "#A2AB60",
                                                                                                  "#B291CF",
                                                                                                  "#8DD2C2",
                                                                                                  "#E6A19F",
                                                                                                  "#3DC7E0",
                                                                                                  "#98CE5B"
                                                                                                ]
                                                                                              },
                                                                                              "__altered": false
                                                                                            }
                                                                                          ]
                                                                                        ]
                                                                                      },
                                                                                      "__altered": false
                                                                                    }
                                                                                  ],
                                                                                  [
                                                                                    "__altered",
                                                                                    false
                                                                                  ]
                                                                                ]
                                                                              },
                                                                              "__altered": false
                                                                            }
                                                                          ]
                                                                        },
                                                                        "__altered": false
                                                                      }
                                                                    ]
                                                                  ]
                                                                },
                                                                "__altered": false
                                                              },
                                                              {
                                                                "size": 3,
                                                                "_root": {
                                                                  "ownerID": {},
                                                                  "entries": [
                                                                    [
                                                                      "ownerID",
                                                                      {
                                                                        "size": 0,
                                                                        "__altered": false
                                                                      }
                                                                    ],
                                                                    [
                                                                      "keyHash",
                                                                      293080881
                                                                    ],
                                                                    [
                                                                      "entry",
                                                                      {
                                                                        "size": 2,
                                                                        "_origin": 0,
                                                                        "_capacity": 2,
                                                                        "_level": 5,
                                                                        "_root": null,
                                                                        "_tail": {
                                                                          "array": [
                                                                            "trendLine",
                                                                            "none"
                                                                          ]
                                                                        },
                                                                        "__altered": false
                                                                      }
                                                                    ]
                                                                  ]
                                                                },
                                                                "__altered": false
                                                              },
                                                              {
                                                                "size": 3,
                                                                "_root": {
                                                                  "ownerID": {},
                                                                  "entries": [
                                                                    [
                                                                      "ownerID",
                                                                      {
                                                                        "size": 0,
                                                                        "__altered": false
                                                                      }
                                                                    ],
                                                                    [
                                                                      "keyHash",
                                                                      -136136138
                                                                    ],
                                                                    [
                                                                      "entry",
                                                                      {
                                                                        "size": 2,
                                                                        "_origin": 0,
                                                                        "_capacity": 2,
                                                                        "_level": 5,
                                                                        "_root": null,
                                                                        "_tail": {
                                                                          "array": [
                                                                            "barGrouping",
                                                                            "Clustered"
                                                                          ]
                                                                        },
                                                                        "__altered": false
                                                                      }
                                                                    ]
                                                                  ]
                                                                },
                                                                "__altered": false
                                                              },
                                                              {
                                                                "size": 3,
                                                                "_root": {
                                                                  "ownerID": {},
                                                                  "entries": [
                                                                    [
                                                                      "ownerID",
                                                                      {
                                                                        "size": 0,
                                                                        "__altered": false
                                                                      }
                                                                    ],
                                                                    [
                                                                      "keyHash",
                                                                      94623710
                                                                    ],
                                                                    [
                                                                      "entry",
                                                                      {
                                                                        "size": 2,
                                                                        "_origin": 0,
                                                                        "_capacity": 2,
                                                                        "_level": 5,
                                                                        "_root": null,
                                                                        "_tail": {
                                                                          "array": [
                                                                            "chart",
                                                                            {
                                                                              "size": 3,
                                                                              "_root": {
                                                                                "ownerID": {},
                                                                                "entries": [
                                                                                  [
                                                                                    "size",
                                                                                    9
                                                                                  ],
                                                                                  [
                                                                                    "_root",
                                                                                    {
                                                                                      "size": 3,
                                                                                      "_root": {
                                                                                        "ownerID": {},
                                                                                        "entries": [
                                                                                          [
                                                                                            "ownerID",
                                                                                            {
                                                                                              "size": 0,
                                                                                              "__altered": false
                                                                                            }
                                                                                          ],
                                                                                          [
                                                                                            "bitmap",
                                                                                            3678
                                                                                          ],
                                                                                          [
                                                                                            "nodes",
                                                                                            {
                                                                                              "size": 8,
                                                                                              "_origin": 0,
                                                                                              "_capacity": 8,
                                                                                              "_level": 5,
                                                                                              "_root": null,
                                                                                              "_tail": {
                                                                                                "array": [
                                                                                                  {
                                                                                                    "size": 3,
                                                                                                    "_root": {
                                                                                                      "ownerID": {},
                                                                                                      "entries": [
                                                                                                        [
                                                                                                          "ownerID",
                                                                                                          {
                                                                                                            "size": 0,
                                                                                                            "__altered": false
                                                                                                          }
                                                                                                        ],
                                                                                                        [
                                                                                                          "keyHash",
                                                                                                          955826305
                                                                                                        ],
                                                                                                        [
                                                                                                          "entry",
                                                                                                          {
                                                                                                            "size": 2,
                                                                                                            "_origin": 0,
                                                                                                            "_capacity": 2,
                                                                                                            "_level": 5,
                                                                                                            "_root": null,
                                                                                                            "_tail": {
                                                                                                              "array": [
                                                                                                                "metric1",
                                                                                                                "CartID"
                                                                                                              ]
                                                                                                            },
                                                                                                            "__altered": false
                                                                                                          }
                                                                                                        ]
                                                                                                      ]
                                                                                                    },
                                                                                                    "__altered": false
                                                                                                  },
                                                                                                  {
                                                                                                    "size": 3,
                                                                                                    "_root": {
                                                                                                      "ownerID": {},
                                                                                                      "entries": [
                                                                                                        [
                                                                                                          "ownerID",
                                                                                                          {
                                                                                                            "size": 0,
                                                                                                            "__altered": false
                                                                                                          }
                                                                                                        ],
                                                                                                        [
                                                                                                          "bitmap",
                                                                                                          67108880
                                                                                                        ],
                                                                                                        [
                                                                                                          "nodes",
                                                                                                          {
                                                                                                            "size": 2,
                                                                                                            "_origin": 0,
                                                                                                            "_capacity": 2,
                                                                                                            "_level": 5,
                                                                                                            "_root": null,
                                                                                                            "_tail": {
                                                                                                              "array": [
                                                                                                                {
                                                                                                                  "size": 3,
                                                                                                                  "_root": {
                                                                                                                    "ownerID": {},
                                                                                                                    "entries": [
                                                                                                                      [
                                                                                                                        "ownerID",
                                                                                                                        {
                                                                                                                          "size": 0,
                                                                                                                          "__altered": false
                                                                                                                        }
                                                                                                                      ],
                                                                                                                      [
                                                                                                                        "keyHash",
                                                                                                                        955826306
                                                                                                                      ],
                                                                                                                      [
                                                                                                                        "entry",
                                                                                                                        {
                                                                                                                          "size": 2,
                                                                                                                          "_origin": 0,
                                                                                                                          "_capacity": 2,
                                                                                                                          "_level": 5,
                                                                                                                          "_root": null,
                                                                                                                          "_tail": {
                                                                                                                            "array": [
                                                                                                                              "metric2",
                                                                                                                              "Action"
                                                                                                                            ]
                                                                                                                          },
                                                                                                                          "__altered": false
                                                                                                                        }
                                                                                                                      ]
                                                                                                                    ]
                                                                                                                  },
                                                                                                                  "__altered": false
                                                                                                                },
                                                                                                                {
                                                                                                                  "size": 3,
                                                                                                                  "_root": {
                                                                                                                    "ownerID": {},
                                                                                                                    "entries": [
                                                                                                                      [
                                                                                                                        "ownerID",
                                                                                                                        {
                                                                                                                          "size": 0,
                                                                                                                          "__altered": false
                                                                                                                        }
                                                                                                                      ],
                                                                                                                      [
                                                                                                                        "keyHash",
                                                                                                                        346180418
                                                                                                                      ],
                                                                                                                      [
                                                                                                                        "entry",
                                                                                                                        {
                                                                                                                          "size": 2,
                                                                                                                          "_origin": 0,
                                                                                                                          "_capacity": 2,
                                                                                                                          "_level": 5,
                                                                                                                          "_root": null,
                                                                                                                          "_tail": {
                                                                                                                            "array": [
                                                                                                                              "timeseriesSort",
                                                                                                                              "array-order"
                                                                                                                            ]
                                                                                                                          },
                                                                                                                          "__altered": false
                                                                                                                        }
                                                                                                                      ]
                                                                                                                    ]
                                                                                                                  },
                                                                                                                  "__altered": false
                                                                                                                }
                                                                                                              ]
                                                                                                            },
                                                                                                            "__altered": false
                                                                                                          }
                                                                                                        ]
                                                                                                      ]
                                                                                                    },
                                                                                                    "__altered": false
                                                                                                  },
                                                                                                  {
                                                                                                    "size": 3,
                                                                                                    "_root": {
                                                                                                      "ownerID": {},
                                                                                                      "entries": [
                                                                                                        [
                                                                                                          "ownerID",
                                                                                                          {
                                                                                                            "size": 0,
                                                                                                            "__altered": false
                                                                                                          }
                                                                                                        ],
                                                                                                        [
                                                                                                          "keyHash",
                                                                                                          955826307
                                                                                                        ],
                                                                                                        [
                                                                                                          "entry",
                                                                                                          {
                                                                                                            "size": 2,
                                                                                                            "_origin": 0,
                                                                                                            "_capacity": 2,
                                                                                                            "_level": 5,
                                                                                                            "_root": null,
                                                                                                            "_tail": {
                                                                                                              "array": [
                                                                                                                "metric3",
                                                                                                                "none"
                                                                                                              ]
                                                                                                            },
                                                                                                            "__altered": false
                                                                                                          }
                                                                                                        ]
                                                                                                      ]
                                                                                                    },
                                                                                                    "__altered": false
                                                                                                  },
                                                                                                  {
                                                                                                    "size": 3,
                                                                                                    "_root": {
                                                                                                      "ownerID": {},
                                                                                                      "entries": [
                                                                                                        [
                                                                                                          "ownerID",
                                                                                                          {
                                                                                                            "size": 0,
                                                                                                            "__altered": false
                                                                                                          }
                                                                                                        ],
                                                                                                        [
                                                                                                          "keyHash",
                                                                                                          955826308
                                                                                                        ],
                                                                                                        [
                                                                                                          "entry",
                                                                                                          {
                                                                                                            "size": 2,
                                                                                                            "_origin": 0,
                                                                                                            "_capacity": 2,
                                                                                                            "_level": 5,
                                                                                                            "_root": null,
                                                                                                            "_tail": {
                                                                                                              "array": [
                                                                                                                "metric4",
                                                                                                                "none"
                                                                                                              ]
                                                                                                            },
                                                                                                            "__altered": false
                                                                                                          }
                                                                                                        ]
                                                                                                      ]
                                                                                                    },
                                                                                                    "__altered": false
                                                                                                  },
                                                                                                  {
                                                                                                    "size": 3,
                                                                                                    "_root": {
                                                                                                      "ownerID": {},
                                                                                                      "entries": [
                                                                                                        [
                                                                                                          "ownerID",
                                                                                                          {
                                                                                                            "size": 0,
                                                                                                            "__altered": false
                                                                                                          }
                                                                                                        ],
                                                                                                        [
                                                                                                          "keyHash",
                                                                                                          -37592730
                                                                                                        ],
                                                                                                        [
                                                                                                          "entry",
                                                                                                          {
                                                                                                            "size": 2,
                                                                                                            "_origin": 0,
                                                                                                            "_capacity": 2,
                                                                                                            "_level": 5,
                                                                                                            "_root": null,
                                                                                                            "_tail": {
                                                                                                              "array": [
                                                                                                                "networkLabel",
                                                                                                                "none"
                                                                                                              ]
                                                                                                            },
                                                                                                            "__altered": false
                                                                                                          }
                                                                                                        ]
                                                                                                      ]
                                                                                                    },
                                                                                                    "__altered": false
                                                                                                  },
                                                                                                  {
                                                                                                    "size": 3,
                                                                                                    "_root": {
                                                                                                      "ownerID": {},
                                                                                                      "entries": [
                                                                                                        [
                                                                                                          "ownerID",
                                                                                                          {
                                                                                                            "size": 0,
                                                                                                            "__altered": false
                                                                                                          }
                                                                                                        ],
                                                                                                        [
                                                                                                          "keyHash",
                                                                                                          3083433
                                                                                                        ],
                                                                                                        [
                                                                                                          "entry",
                                                                                                          {
                                                                                                            "size": 2,
                                                                                                            "_origin": 0,
                                                                                                            "_capacity": 2,
                                                                                                            "_level": 5,
                                                                                                            "_root": null,
                                                                                                            "_tail": {
                                                                                                              "array": [
                                                                                                                "dim1",
                                                                                                                "Item"
                                                                                                              ]
                                                                                                            },
                                                                                                            "__altered": false
                                                                                                          }
                                                                                                        ]
                                                                                                      ]
                                                                                                    },
                                                                                                    "__altered": false
                                                                                                  },
                                                                                                  {
                                                                                                    "size": 3,
                                                                                                    "_root": {
                                                                                                      "ownerID": {},
                                                                                                      "entries": [
                                                                                                        [
                                                                                                          "ownerID",
                                                                                                          {
                                                                                                            "size": 0,
                                                                                                            "__altered": false
                                                                                                          }
                                                                                                        ],
                                                                                                        [
                                                                                                          "keyHash",
                                                                                                          3083434
                                                                                                        ],
                                                                                                        [
                                                                                                          "entry",
                                                                                                          {
                                                                                                            "size": 2,
                                                                                                            "_origin": 0,
                                                                                                            "_capacity": 2,
                                                                                                            "_level": 5,
                                                                                                            "_root": null,
                                                                                                            "_tail": {
                                                                                                              "array": [
                                                                                                                "dim2",
                                                                                                                "Country"
                                                                                                              ]
                                                                                                            },
                                                                                                            "__altered": false
                                                                                                          }
                                                                                                        ]
                                                                                                      ]
                                                                                                    },
                                                                                                    "__altered": false
                                                                                                  },
                                                                                                  {
                                                                                                    "size": 3,
                                                                                                    "_root": {
                                                                                                      "ownerID": {},
                                                                                                      "entries": [
                                                                                                        [
                                                                                                          "ownerID",
                                                                                                          {
                                                                                                            "size": 0,
                                                                                                            "__altered": false
                                                                                                          }
                                                                                                        ],
                                                                                                        [
                                                                                                          "keyHash",
                                                                                                          3083435
                                                                                                        ],
                                                                                                        [
                                                                                                          "entry",
                                                                                                          {
                                                                                                            "size": 2,
                                                                                                            "_origin": 0,
                                                                                                            "_capacity": 2,
                                                                                                            "_level": 5,
                                                                                                            "_root": null,
                                                                                                            "_tail": {
                                                                                                              "array": [
                                                                                                                "dim3",
                                                                                                                "none"
                                                                                                              ]
                                                                                                            },
                                                                                                            "__altered": false
                                                                                                          }
                                                                                                        ]
                                                                                                      ]
                                                                                                    },
                                                                                                    "__altered": false
                                                                                                  }
                                                                                                ]
                                                                                              },
                                                                                              "__altered": false
                                                                                            }
                                                                                          ]
                                                                                        ]
                                                                                      },
                                                                                      "__altered": false
                                                                                    }
                                                                                  ],
                                                                                  [
                                                                                    "__altered",
                                                                                    false
                                                                                  ]
                                                                                ]
                                                                              },
                                                                              "__altered": false
                                                                            }
                                                                          ]
                                                                        },
                                                                        "__altered": false
                                                                      }
                                                                    ]
                                                                  ]
                                                                },
                                                                "__altered": false
                                                              }
                                                            ]
                                                          },
                                                          "__altered": false
                                                        }
                                                      ]
                                                    ]
                                                  },
                                                  "__altered": false
                                                }
                                              ],
                                              [
                                                "__altered",
                                                false
                                              ]
                                            ]
                                          },
                                          "__altered": false
                                        }
                                      ]
                                    },
                                    "__altered": false
                                  }
                                ]
                              },
                              "__altered": false
                            }
                          ]
                        ]
                      },
                      "__altered": false
                    }
                  ],
                  [
                    "__altered",
                    false
                  ],
                  [
                    "dx",
                    {
                      "size": 14,
                      "_root": {
                        "ownerID": {},
                        "bitmap": 1078182321,
                        "nodes": [
                          {
                            "ownerID": {},
                            "keyHash": -119117824,
                            "entry": [
                              "summaryType",
                              "violin"
                            ]
                          },
                          {
                            "ownerID": {},
                            "keyHash": -345406460,
                            "entry": [
                              "marginalGraphics",
                              "none"
                            ]
                          },
                          {
                            "ownerID": {},
                            "keyHash": 3619493,
                            "entry": [
                              "view",
                              "grid"
                            ]
                          },
                          {
                            "ownerID": {},
                            "keyHash": -592394905,
                            "entry": [
                              "areaType",
                              "hexbin"
                            ]
                          },
                          {
                            "ownerID": {},
                            "bitmap": 68165696,
                            "nodes": [
                              {
                                "ownerID": {},
                                "keyHash": -340014904,
                                "entry": [
                                  "selectedDimensions",
                                  {
                                    "size": 1,
                                    "_origin": 0,
                                    "_capacity": 1,
                                    "_level": 5,
                                    "_root": null,
                                    "_tail": {
                                      "array": [
                                        "Item"
                                      ]
                                    },
                                    "__altered": false
                                  }
                                ]
                              },
                              {
                                "ownerID": {},
                                "keyHash": 390943144,
                                "entry": [
                                  "selectedMetrics",
                                  {
                                    "size": 0,
                                    "_origin": 0,
                                    "_capacity": 0,
                                    "_level": 5,
                                    "__altered": false
                                  }
                                ]
                              },
                              {
                                "ownerID": {},
                                "keyHash": -866871672,
                                "entry": [
                                  "networkType",
                                  "force"
                                ]
                              },
                              {
                                "ownerID": {},
                                "keyHash": 113796936,
                                "entry": [
                                  "pieceType",
                                  "bar"
                                ]
                              }
                            ]
                          },
                          {
                            "ownerID": {},
                            "keyHash": 114923854,
                            "entry": [
                              "lineType",
                              "line"
                            ]
                          },
                          {
                            "ownerID": {},
                            "keyHash": 831288079,
                            "entry": [
                              "hierarchyType",
                              "dendrogram"
                            ]
                          },
                          {
                            "ownerID": {},
                            "keyHash": -281100944,
                            "entry": [
                              "colors",
                              {
                                "size": 19,
                                "_origin": 0,
                                "_capacity": 19,
                                "_level": 5,
                                "_root": null,
                                "_tail": {
                                  "array": [
                                    "#DA752E",
                                    "#E5C209",
                                    "#1441A0",
                                    "#B86117",
                                    "#4D430C",
                                    "#1DB390",
                                    "#B3331D",
                                    "#088EB2",
                                    "#417505",
                                    "#E479A8",
                                    "#F9F39E",
                                    "#5782DC",
                                    "#EBA97B",
                                    "#A2AB60",
                                    "#B291CF",
                                    "#8DD2C2",
                                    "#E6A19F",
                                    "#3DC7E0",
                                    "#98CE5B"
                                  ]
                                },
                                "__altered": false
                              }
                            ]
                          },
                          {
                            "ownerID": {},
                            "keyHash": 293080881,
                            "entry": [
                              "trendLine",
                              "none"
                            ]
                          },
                          {
                            "ownerID": {},
                            "keyHash": -136136138,
                            "entry": [
                              "barGrouping",
                              "Clustered"
                            ]
                          },
                          {
                            "ownerID": {},
                            "keyHash": 94623710,
                            "entry": [
                              "chart",
                              {
                                "size": 9,
                                "_root": {
                                  "ownerID": {},
                                  "bitmap": 3678,
                                  "nodes": [
                                    {
                                      "ownerID": {},
                                      "keyHash": 955826305,
                                      "entry": [
                                        "metric1",
                                        "CartID"
                                      ]
                                    },
                                    {
                                      "ownerID": {},
                                      "bitmap": 67108880,
                                      "nodes": [
                                        {
                                          "ownerID": {},
                                          "keyHash": 955826306,
                                          "entry": [
                                            "metric2",
                                            "Action"
                                          ]
                                        },
                                        {
                                          "ownerID": {},
                                          "keyHash": 346180418,
                                          "entry": [
                                            "timeseriesSort",
                                            "array-order"
                                          ]
                                        }
                                      ]
                                    },
                                    {
                                      "ownerID": {},
                                      "keyHash": 955826307,
                                      "entry": [
                                        "metric3",
                                        "none"
                                      ]
                                    },
                                    {
                                      "ownerID": {},
                                      "keyHash": 955826308,
                                      "entry": [
                                        "metric4",
                                        "none"
                                      ]
                                    },
                                    {
                                      "ownerID": {},
                                      "keyHash": -37592730,
                                      "entry": [
                                        "networkLabel",
                                        "none"
                                      ]
                                    },
                                    {
                                      "ownerID": {},
                                      "keyHash": 3083433,
                                      "entry": [
                                        "dim1",
                                        "Item"
                                      ]
                                    },
                                    {
                                      "ownerID": {},
                                      "keyHash": 3083434,
                                      "entry": [
                                        "dim2",
                                        "Country"
                                      ]
                                    },
                                    {
                                      "ownerID": {},
                                      "keyHash": 3083435,
                                      "entry": [
                                        "dim3",
                                        "none"
                                      ]
                                    }
                                  ]
                                },
                                "__altered": false
                              }
                            ]
                          }
                        ]
                      },
                      "__altered": false
                    }
                  ]
                ]
              },
              "__altered": false,
              "dx": {
                "summaryType": "violin",
                "marginalGraphics": "none",
                "view": "grid",
                "areaType": "hexbin",
                "selectedDimensions": [
                  "Item"
                ],
                "selectedMetrics": [],
                "networkType": "force",
                "pieceType": "bar",
                "lineType": "line",
                "hierarchyType": "dendrogram",
                "colors": [
                  "#DA752E",
                  "#E5C209",
                  "#1441A0",
                  "#B86117",
                  "#4D430C",
                  "#1DB390",
                  "#B3331D",
                  "#088EB2",
                  "#417505",
                  "#E479A8",
                  "#F9F39E",
                  "#5782DC",
                  "#EBA97B",
                  "#A2AB60",
                  "#B291CF",
                  "#8DD2C2",
                  "#E6A19F",
                  "#3DC7E0",
                  "#98CE5B"
                ],
                "trendLine": "none",
                "barGrouping": "Clustered",
                "chart": {
                  "metric1": "CartID",
                  "metric2": "Action",
                  "timeseriesSort": "array-order",
                  "metric3": "none",
                  "metric4": "none",
                  "networkLabel": "none",
                  "dim1": "Item",
                  "dim2": "Country",
                  "dim3": "none"
                }
              }
            }
          }
        }
      ],
      "execution_count": 4,
      "metadata": {
        "collapsed": true,
        "jupyter": {
          "source_hidden": false,
          "outputs_hidden": false
        },
        "nteract": {
          "transient": {
            "deleting": false
          }
        },
        "execution": {
          "iopub.status.busy": "2021-11-30T22:35:53.454Z",
          "iopub.status.idle": "2021-11-30T22:35:53.879Z",
          "shell.execute_reply": "2021-11-30T22:35:53.889Z"
        }
      },
      "id": "a31ace57-7e8a-4cb9-a500-c9fdc1e0a5ec"
    },
    {
      "cell_type": "code",
      "source": [
        "// Using the WHERE clause to filter to a specific country\n",
        "\n",
        "QueryDefinition queryDefinition = new QueryDefinition(\"SELECT c.Action, c.Price as ItemRevenue, c.Country, c.Item FROM c WHERE c.Country = 'Iceland'\");\n",
        "\n",
        "FeedIterator<ItemSale> queryResultSetIterator = container.GetItemQueryIterator<ItemSale>(queryDefinition);\n",
        "\n",
        "List<ItemSale> itemSales = new List<ItemSale>();\n",
        "\n",
        "while (queryResultSetIterator.HasMoreResults)\n",
        "{\n",
        "    FeedResponse<ItemSale> currentResultSet = await queryResultSetIterator.ReadNextAsync();\n",
        "    foreach (ItemSale itemSale in currentResultSet)\n",
        "    {\n",
        "        itemSales.Add(itemSale);\n",
        "    }\n",
        "}\n",
        "\n",
        "itemSales\n"
      ],
      "outputs": [
        {
          "output_type": "execute_result",
          "execution_count": 5,
          "data": {
            "text/plain": "System.Collections.Generic.List`1[Submission#2+ItemSale]",
            "application/vnd.dataresource+json": {
              "data": [
                {
                  "id": null,
                  "CartID": 0,
                  "Action": 0,
                  "Item": "Cosmos T-shirt",
                  "Price": 0,
                  "UserName": null,
                  "Country": "Iceland",
                  "EventDate": null,
                  "Year": 0,
                  "Latitude": 0,
                  "Longitude": 0,
                  "Address": null,
                  "index": 0
                }
              ],
              "schema": {
                "fields": [
                  {
                    "name": "index",
                    "type": "integer"
                  },
                  {
                    "name": "id",
                    "type": "null"
                  },
                  {
                    "name": "CartID",
                    "type": "integer"
                  },
                  {
                    "name": "Action",
                    "type": "integer"
                  },
                  {
                    "name": "Item",
                    "type": "string"
                  },
                  {
                    "name": "Price",
                    "type": "number"
                  },
                  {
                    "name": "UserName",
                    "type": "null"
                  },
                  {
                    "name": "Country",
                    "type": "string"
                  },
                  {
                    "name": "EventDate",
                    "type": "null"
                  },
                  {
                    "name": "Year",
                    "type": "integer"
                  },
                  {
                    "name": "Latitude",
                    "type": "number"
                  },
                  {
                    "name": "Longitude",
                    "type": "number"
                  },
                  {
                    "name": "Address",
                    "type": "null"
                  }
                ],
                "primaryKey": [
                  "index"
                ]
              }
            }
          },
          "metadata": {
            "application/vnd.dataresource+json": {
              "size": 4,
              "_root": {
                "ownerID": {},
                "entries": [
                  [
                    "size",
                    1
                  ],
                  [
                    "_root",
                    {
                      "size": 2,
                      "_root": {
                        "ownerID": {},
                        "entries": [
                          [
                            "ownerID",
                            {
                              "size": 0,
                              "__altered": false
                            }
                          ],
                          [
                            "entries",
                            {
                              "size": 1,
                              "_origin": 0,
                              "_capacity": 1,
                              "_level": 5,
                              "_root": null,
                              "_tail": {
                                "array": [
                                  {
                                    "size": 2,
                                    "_origin": 0,
                                    "_capacity": 2,
                                    "_level": 5,
                                    "_root": null,
                                    "_tail": {
                                      "array": [
                                        "dx",
                                        {
                                          "size": 3,
                                          "_root": {
                                            "ownerID": {},
                                            "entries": [
                                              [
                                                "size",
                                                14
                                              ],
                                              [
                                                "_root",
                                                {
                                                  "size": 3,
                                                  "_root": {
                                                    "ownerID": {},
                                                    "entries": [
                                                      [
                                                        "ownerID",
                                                        {
                                                          "size": 0,
                                                          "__altered": false
                                                        }
                                                      ],
                                                      [
                                                        "bitmap",
                                                        1078182321
                                                      ],
                                                      [
                                                        "nodes",
                                                        {
                                                          "size": 11,
                                                          "_origin": 0,
                                                          "_capacity": 11,
                                                          "_level": 5,
                                                          "_root": null,
                                                          "_tail": {
                                                            "array": [
                                                              {
                                                                "size": 3,
                                                                "_root": {
                                                                  "ownerID": {},
                                                                  "entries": [
                                                                    [
                                                                      "ownerID",
                                                                      {
                                                                        "size": 0,
                                                                        "__altered": false
                                                                      }
                                                                    ],
                                                                    [
                                                                      "keyHash",
                                                                      -119117824
                                                                    ],
                                                                    [
                                                                      "entry",
                                                                      {
                                                                        "size": 2,
                                                                        "_origin": 0,
                                                                        "_capacity": 2,
                                                                        "_level": 5,
                                                                        "_root": null,
                                                                        "_tail": {
                                                                          "array": [
                                                                            "summaryType",
                                                                            "violin"
                                                                          ]
                                                                        },
                                                                        "__altered": false
                                                                      }
                                                                    ]
                                                                  ]
                                                                },
                                                                "__altered": false
                                                              },
                                                              {
                                                                "size": 3,
                                                                "_root": {
                                                                  "ownerID": {},
                                                                  "entries": [
                                                                    [
                                                                      "ownerID",
                                                                      {
                                                                        "size": 0,
                                                                        "__altered": false
                                                                      }
                                                                    ],
                                                                    [
                                                                      "keyHash",
                                                                      -345406460
                                                                    ],
                                                                    [
                                                                      "entry",
                                                                      {
                                                                        "size": 2,
                                                                        "_origin": 0,
                                                                        "_capacity": 2,
                                                                        "_level": 5,
                                                                        "_root": null,
                                                                        "_tail": {
                                                                          "array": [
                                                                            "marginalGraphics",
                                                                            "none"
                                                                          ]
                                                                        },
                                                                        "__altered": false
                                                                      }
                                                                    ]
                                                                  ]
                                                                },
                                                                "__altered": false
                                                              },
                                                              {
                                                                "size": 3,
                                                                "_root": {
                                                                  "ownerID": {},
                                                                  "entries": [
                                                                    [
                                                                      "ownerID",
                                                                      {
                                                                        "size": 0,
                                                                        "__altered": false
                                                                      }
                                                                    ],
                                                                    [
                                                                      "keyHash",
                                                                      3619493
                                                                    ],
                                                                    [
                                                                      "entry",
                                                                      {
                                                                        "size": 2,
                                                                        "_origin": 0,
                                                                        "_capacity": 2,
                                                                        "_level": 5,
                                                                        "_root": null,
                                                                        "_tail": {
                                                                          "array": [
                                                                            "view",
                                                                            "grid"
                                                                          ]
                                                                        },
                                                                        "__altered": false
                                                                      }
                                                                    ]
                                                                  ]
                                                                },
                                                                "__altered": false
                                                              },
                                                              {
                                                                "size": 3,
                                                                "_root": {
                                                                  "ownerID": {},
                                                                  "entries": [
                                                                    [
                                                                      "ownerID",
                                                                      {
                                                                        "size": 0,
                                                                        "__altered": false
                                                                      }
                                                                    ],
                                                                    [
                                                                      "keyHash",
                                                                      -592394905
                                                                    ],
                                                                    [
                                                                      "entry",
                                                                      {
                                                                        "size": 2,
                                                                        "_origin": 0,
                                                                        "_capacity": 2,
                                                                        "_level": 5,
                                                                        "_root": null,
                                                                        "_tail": {
                                                                          "array": [
                                                                            "areaType",
                                                                            "hexbin"
                                                                          ]
                                                                        },
                                                                        "__altered": false
                                                                      }
                                                                    ]
                                                                  ]
                                                                },
                                                                "__altered": false
                                                              },
                                                              {
                                                                "size": 3,
                                                                "_root": {
                                                                  "ownerID": {},
                                                                  "entries": [
                                                                    [
                                                                      "ownerID",
                                                                      {
                                                                        "size": 0,
                                                                        "__altered": false
                                                                      }
                                                                    ],
                                                                    [
                                                                      "bitmap",
                                                                      68165696
                                                                    ],
                                                                    [
                                                                      "nodes",
                                                                      {
                                                                        "size": 4,
                                                                        "_origin": 0,
                                                                        "_capacity": 4,
                                                                        "_level": 5,
                                                                        "_root": null,
                                                                        "_tail": {
                                                                          "array": [
                                                                            {
                                                                              "size": 3,
                                                                              "_root": {
                                                                                "ownerID": {},
                                                                                "entries": [
                                                                                  [
                                                                                    "ownerID",
                                                                                    {
                                                                                      "size": 0,
                                                                                      "__altered": false
                                                                                    }
                                                                                  ],
                                                                                  [
                                                                                    "keyHash",
                                                                                    -340014904
                                                                                  ],
                                                                                  [
                                                                                    "entry",
                                                                                    {
                                                                                      "size": 2,
                                                                                      "_origin": 0,
                                                                                      "_capacity": 2,
                                                                                      "_level": 5,
                                                                                      "_root": null,
                                                                                      "_tail": {
                                                                                        "array": [
                                                                                          "selectedDimensions",
                                                                                          {
                                                                                            "size": 7,
                                                                                            "_root": {
                                                                                              "ownerID": {},
                                                                                              "entries": [
                                                                                                [
                                                                                                  "size",
                                                                                                  1
                                                                                                ],
                                                                                                [
                                                                                                  "_origin",
                                                                                                  0
                                                                                                ],
                                                                                                [
                                                                                                  "_capacity",
                                                                                                  1
                                                                                                ],
                                                                                                [
                                                                                                  "_level",
                                                                                                  5
                                                                                                ],
                                                                                                [
                                                                                                  "_root",
                                                                                                  null
                                                                                                ],
                                                                                                [
                                                                                                  "_tail",
                                                                                                  {
                                                                                                    "size": 1,
                                                                                                    "_root": {
                                                                                                      "ownerID": {},
                                                                                                      "entries": [
                                                                                                        [
                                                                                                          "array",
                                                                                                          {
                                                                                                            "size": 1,
                                                                                                            "_origin": 0,
                                                                                                            "_capacity": 1,
                                                                                                            "_level": 5,
                                                                                                            "_root": null,
                                                                                                            "_tail": {
                                                                                                              "array": [
                                                                                                                "Item"
                                                                                                              ]
                                                                                                            },
                                                                                                            "__altered": false
                                                                                                          }
                                                                                                        ]
                                                                                                      ]
                                                                                                    },
                                                                                                    "__altered": false
                                                                                                  }
                                                                                                ],
                                                                                                [
                                                                                                  "__altered",
                                                                                                  false
                                                                                                ]
                                                                                              ]
                                                                                            },
                                                                                            "__altered": false
                                                                                          }
                                                                                        ]
                                                                                      },
                                                                                      "__altered": false
                                                                                    }
                                                                                  ]
                                                                                ]
                                                                              },
                                                                              "__altered": false
                                                                            },
                                                                            {
                                                                              "size": 3,
                                                                              "_root": {
                                                                                "ownerID": {},
                                                                                "entries": [
                                                                                  [
                                                                                    "ownerID",
                                                                                    {
                                                                                      "size": 0,
                                                                                      "__altered": false
                                                                                    }
                                                                                  ],
                                                                                  [
                                                                                    "keyHash",
                                                                                    390943144
                                                                                  ],
                                                                                  [
                                                                                    "entry",
                                                                                    {
                                                                                      "size": 2,
                                                                                      "_origin": 0,
                                                                                      "_capacity": 2,
                                                                                      "_level": 5,
                                                                                      "_root": null,
                                                                                      "_tail": {
                                                                                        "array": [
                                                                                          "selectedMetrics",
                                                                                          {
                                                                                            "size": 5,
                                                                                            "_root": {
                                                                                              "ownerID": {},
                                                                                              "entries": [
                                                                                                [
                                                                                                  "size",
                                                                                                  0
                                                                                                ],
                                                                                                [
                                                                                                  "_origin",
                                                                                                  0
                                                                                                ],
                                                                                                [
                                                                                                  "_capacity",
                                                                                                  0
                                                                                                ],
                                                                                                [
                                                                                                  "_level",
                                                                                                  5
                                                                                                ],
                                                                                                [
                                                                                                  "__altered",
                                                                                                  false
                                                                                                ]
                                                                                              ]
                                                                                            },
                                                                                            "__altered": false
                                                                                          }
                                                                                        ]
                                                                                      },
                                                                                      "__altered": false
                                                                                    }
                                                                                  ]
                                                                                ]
                                                                              },
                                                                              "__altered": false
                                                                            },
                                                                            {
                                                                              "size": 3,
                                                                              "_root": {
                                                                                "ownerID": {},
                                                                                "entries": [
                                                                                  [
                                                                                    "ownerID",
                                                                                    {
                                                                                      "size": 0,
                                                                                      "__altered": false
                                                                                    }
                                                                                  ],
                                                                                  [
                                                                                    "keyHash",
                                                                                    -866871672
                                                                                  ],
                                                                                  [
                                                                                    "entry",
                                                                                    {
                                                                                      "size": 2,
                                                                                      "_origin": 0,
                                                                                      "_capacity": 2,
                                                                                      "_level": 5,
                                                                                      "_root": null,
                                                                                      "_tail": {
                                                                                        "array": [
                                                                                          "networkType",
                                                                                          "force"
                                                                                        ]
                                                                                      },
                                                                                      "__altered": false
                                                                                    }
                                                                                  ]
                                                                                ]
                                                                              },
                                                                              "__altered": false
                                                                            },
                                                                            {
                                                                              "size": 3,
                                                                              "_root": {
                                                                                "ownerID": {},
                                                                                "entries": [
                                                                                  [
                                                                                    "ownerID",
                                                                                    {
                                                                                      "size": 0,
                                                                                      "__altered": false
                                                                                    }
                                                                                  ],
                                                                                  [
                                                                                    "keyHash",
                                                                                    113796936
                                                                                  ],
                                                                                  [
                                                                                    "entry",
                                                                                    {
                                                                                      "size": 2,
                                                                                      "_origin": 0,
                                                                                      "_capacity": 2,
                                                                                      "_level": 5,
                                                                                      "_root": null,
                                                                                      "_tail": {
                                                                                        "array": [
                                                                                          "pieceType",
                                                                                          "bar"
                                                                                        ]
                                                                                      },
                                                                                      "__altered": false
                                                                                    }
                                                                                  ]
                                                                                ]
                                                                              },
                                                                              "__altered": false
                                                                            }
                                                                          ]
                                                                        },
                                                                        "__altered": false
                                                                      }
                                                                    ]
                                                                  ]
                                                                },
                                                                "__altered": false
                                                              },
                                                              {
                                                                "size": 3,
                                                                "_root": {
                                                                  "ownerID": {},
                                                                  "entries": [
                                                                    [
                                                                      "ownerID",
                                                                      {
                                                                        "size": 0,
                                                                        "__altered": false
                                                                      }
                                                                    ],
                                                                    [
                                                                      "keyHash",
                                                                      114923854
                                                                    ],
                                                                    [
                                                                      "entry",
                                                                      {
                                                                        "size": 2,
                                                                        "_origin": 0,
                                                                        "_capacity": 2,
                                                                        "_level": 5,
                                                                        "_root": null,
                                                                        "_tail": {
                                                                          "array": [
                                                                            "lineType",
                                                                            "line"
                                                                          ]
                                                                        },
                                                                        "__altered": false
                                                                      }
                                                                    ]
                                                                  ]
                                                                },
                                                                "__altered": false
                                                              },
                                                              {
                                                                "size": 3,
                                                                "_root": {
                                                                  "ownerID": {},
                                                                  "entries": [
                                                                    [
                                                                      "ownerID",
                                                                      {
                                                                        "size": 0,
                                                                        "__altered": false
                                                                      }
                                                                    ],
                                                                    [
                                                                      "keyHash",
                                                                      831288079
                                                                    ],
                                                                    [
                                                                      "entry",
                                                                      {
                                                                        "size": 2,
                                                                        "_origin": 0,
                                                                        "_capacity": 2,
                                                                        "_level": 5,
                                                                        "_root": null,
                                                                        "_tail": {
                                                                          "array": [
                                                                            "hierarchyType",
                                                                            "dendrogram"
                                                                          ]
                                                                        },
                                                                        "__altered": false
                                                                      }
                                                                    ]
                                                                  ]
                                                                },
                                                                "__altered": false
                                                              },
                                                              {
                                                                "size": 3,
                                                                "_root": {
                                                                  "ownerID": {},
                                                                  "entries": [
                                                                    [
                                                                      "ownerID",
                                                                      {
                                                                        "size": 0,
                                                                        "__altered": false
                                                                      }
                                                                    ],
                                                                    [
                                                                      "keyHash",
                                                                      -281100944
                                                                    ],
                                                                    [
                                                                      "entry",
                                                                      {
                                                                        "size": 2,
                                                                        "_origin": 0,
                                                                        "_capacity": 2,
                                                                        "_level": 5,
                                                                        "_root": null,
                                                                        "_tail": {
                                                                          "array": [
                                                                            "colors",
                                                                            {
                                                                              "size": 7,
                                                                              "_root": {
                                                                                "ownerID": {},
                                                                                "entries": [
                                                                                  [
                                                                                    "size",
                                                                                    19
                                                                                  ],
                                                                                  [
                                                                                    "_origin",
                                                                                    0
                                                                                  ],
                                                                                  [
                                                                                    "_capacity",
                                                                                    19
                                                                                  ],
                                                                                  [
                                                                                    "_level",
                                                                                    5
                                                                                  ],
                                                                                  [
                                                                                    "_root",
                                                                                    null
                                                                                  ],
                                                                                  [
                                                                                    "_tail",
                                                                                    {
                                                                                      "size": 1,
                                                                                      "_root": {
                                                                                        "ownerID": {},
                                                                                        "entries": [
                                                                                          [
                                                                                            "array",
                                                                                            {
                                                                                              "size": 19,
                                                                                              "_origin": 0,
                                                                                              "_capacity": 19,
                                                                                              "_level": 5,
                                                                                              "_root": null,
                                                                                              "_tail": {
                                                                                                "array": [
                                                                                                  "#DA752E",
                                                                                                  "#E5C209",
                                                                                                  "#1441A0",
                                                                                                  "#B86117",
                                                                                                  "#4D430C",
                                                                                                  "#1DB390",
                                                                                                  "#B3331D",
                                                                                                  "#088EB2",
                                                                                                  "#417505",
                                                                                                  "#E479A8",
                                                                                                  "#F9F39E",
                                                                                                  "#5782DC",
                                                                                                  "#EBA97B",
                                                                                                  "#A2AB60",
                                                                                                  "#B291CF",
                                                                                                  "#8DD2C2",
                                                                                                  "#E6A19F",
                                                                                                  "#3DC7E0",
                                                                                                  "#98CE5B"
                                                                                                ]
                                                                                              },
                                                                                              "__altered": false
                                                                                            }
                                                                                          ]
                                                                                        ]
                                                                                      },
                                                                                      "__altered": false
                                                                                    }
                                                                                  ],
                                                                                  [
                                                                                    "__altered",
                                                                                    false
                                                                                  ]
                                                                                ]
                                                                              },
                                                                              "__altered": false
                                                                            }
                                                                          ]
                                                                        },
                                                                        "__altered": false
                                                                      }
                                                                    ]
                                                                  ]
                                                                },
                                                                "__altered": false
                                                              },
                                                              {
                                                                "size": 3,
                                                                "_root": {
                                                                  "ownerID": {},
                                                                  "entries": [
                                                                    [
                                                                      "ownerID",
                                                                      {
                                                                        "size": 0,
                                                                        "__altered": false
                                                                      }
                                                                    ],
                                                                    [
                                                                      "keyHash",
                                                                      293080881
                                                                    ],
                                                                    [
                                                                      "entry",
                                                                      {
                                                                        "size": 2,
                                                                        "_origin": 0,
                                                                        "_capacity": 2,
                                                                        "_level": 5,
                                                                        "_root": null,
                                                                        "_tail": {
                                                                          "array": [
                                                                            "trendLine",
                                                                            "none"
                                                                          ]
                                                                        },
                                                                        "__altered": false
                                                                      }
                                                                    ]
                                                                  ]
                                                                },
                                                                "__altered": false
                                                              },
                                                              {
                                                                "size": 3,
                                                                "_root": {
                                                                  "ownerID": {},
                                                                  "entries": [
                                                                    [
                                                                      "ownerID",
                                                                      {
                                                                        "size": 0,
                                                                        "__altered": false
                                                                      }
                                                                    ],
                                                                    [
                                                                      "keyHash",
                                                                      -136136138
                                                                    ],
                                                                    [
                                                                      "entry",
                                                                      {
                                                                        "size": 2,
                                                                        "_origin": 0,
                                                                        "_capacity": 2,
                                                                        "_level": 5,
                                                                        "_root": null,
                                                                        "_tail": {
                                                                          "array": [
                                                                            "barGrouping",
                                                                            "Clustered"
                                                                          ]
                                                                        },
                                                                        "__altered": false
                                                                      }
                                                                    ]
                                                                  ]
                                                                },
                                                                "__altered": false
                                                              },
                                                              {
                                                                "size": 3,
                                                                "_root": {
                                                                  "ownerID": {},
                                                                  "entries": [
                                                                    [
                                                                      "ownerID",
                                                                      {
                                                                        "size": 0,
                                                                        "__altered": false
                                                                      }
                                                                    ],
                                                                    [
                                                                      "keyHash",
                                                                      94623710
                                                                    ],
                                                                    [
                                                                      "entry",
                                                                      {
                                                                        "size": 2,
                                                                        "_origin": 0,
                                                                        "_capacity": 2,
                                                                        "_level": 5,
                                                                        "_root": null,
                                                                        "_tail": {
                                                                          "array": [
                                                                            "chart",
                                                                            {
                                                                              "size": 3,
                                                                              "_root": {
                                                                                "ownerID": {},
                                                                                "entries": [
                                                                                  [
                                                                                    "size",
                                                                                    9
                                                                                  ],
                                                                                  [
                                                                                    "_root",
                                                                                    {
                                                                                      "size": 3,
                                                                                      "_root": {
                                                                                        "ownerID": {},
                                                                                        "entries": [
                                                                                          [
                                                                                            "ownerID",
                                                                                            {
                                                                                              "size": 0,
                                                                                              "__altered": false
                                                                                            }
                                                                                          ],
                                                                                          [
                                                                                            "bitmap",
                                                                                            3678
                                                                                          ],
                                                                                          [
                                                                                            "nodes",
                                                                                            {
                                                                                              "size": 8,
                                                                                              "_origin": 0,
                                                                                              "_capacity": 8,
                                                                                              "_level": 5,
                                                                                              "_root": null,
                                                                                              "_tail": {
                                                                                                "array": [
                                                                                                  {
                                                                                                    "size": 3,
                                                                                                    "_root": {
                                                                                                      "ownerID": {},
                                                                                                      "entries": [
                                                                                                        [
                                                                                                          "ownerID",
                                                                                                          {
                                                                                                            "size": 0,
                                                                                                            "__altered": false
                                                                                                          }
                                                                                                        ],
                                                                                                        [
                                                                                                          "keyHash",
                                                                                                          955826305
                                                                                                        ],
                                                                                                        [
                                                                                                          "entry",
                                                                                                          {
                                                                                                            "size": 2,
                                                                                                            "_origin": 0,
                                                                                                            "_capacity": 2,
                                                                                                            "_level": 5,
                                                                                                            "_root": null,
                                                                                                            "_tail": {
                                                                                                              "array": [
                                                                                                                "metric1",
                                                                                                                "CartID"
                                                                                                              ]
                                                                                                            },
                                                                                                            "__altered": false
                                                                                                          }
                                                                                                        ]
                                                                                                      ]
                                                                                                    },
                                                                                                    "__altered": false
                                                                                                  },
                                                                                                  {
                                                                                                    "size": 3,
                                                                                                    "_root": {
                                                                                                      "ownerID": {},
                                                                                                      "entries": [
                                                                                                        [
                                                                                                          "ownerID",
                                                                                                          {
                                                                                                            "size": 0,
                                                                                                            "__altered": false
                                                                                                          }
                                                                                                        ],
                                                                                                        [
                                                                                                          "bitmap",
                                                                                                          67108880
                                                                                                        ],
                                                                                                        [
                                                                                                          "nodes",
                                                                                                          {
                                                                                                            "size": 2,
                                                                                                            "_origin": 0,
                                                                                                            "_capacity": 2,
                                                                                                            "_level": 5,
                                                                                                            "_root": null,
                                                                                                            "_tail": {
                                                                                                              "array": [
                                                                                                                {
                                                                                                                  "size": 3,
                                                                                                                  "_root": {
                                                                                                                    "ownerID": {},
                                                                                                                    "entries": [
                                                                                                                      [
                                                                                                                        "ownerID",
                                                                                                                        {
                                                                                                                          "size": 0,
                                                                                                                          "__altered": false
                                                                                                                        }
                                                                                                                      ],
                                                                                                                      [
                                                                                                                        "keyHash",
                                                                                                                        955826306
                                                                                                                      ],
                                                                                                                      [
                                                                                                                        "entry",
                                                                                                                        {
                                                                                                                          "size": 2,
                                                                                                                          "_origin": 0,
                                                                                                                          "_capacity": 2,
                                                                                                                          "_level": 5,
                                                                                                                          "_root": null,
                                                                                                                          "_tail": {
                                                                                                                            "array": [
                                                                                                                              "metric2",
                                                                                                                              "Action"
                                                                                                                            ]
                                                                                                                          },
                                                                                                                          "__altered": false
                                                                                                                        }
                                                                                                                      ]
                                                                                                                    ]
                                                                                                                  },
                                                                                                                  "__altered": false
                                                                                                                },
                                                                                                                {
                                                                                                                  "size": 3,
                                                                                                                  "_root": {
                                                                                                                    "ownerID": {},
                                                                                                                    "entries": [
                                                                                                                      [
                                                                                                                        "ownerID",
                                                                                                                        {
                                                                                                                          "size": 0,
                                                                                                                          "__altered": false
                                                                                                                        }
                                                                                                                      ],
                                                                                                                      [
                                                                                                                        "keyHash",
                                                                                                                        346180418
                                                                                                                      ],
                                                                                                                      [
                                                                                                                        "entry",
                                                                                                                        {
                                                                                                                          "size": 2,
                                                                                                                          "_origin": 0,
                                                                                                                          "_capacity": 2,
                                                                                                                          "_level": 5,
                                                                                                                          "_root": null,
                                                                                                                          "_tail": {
                                                                                                                            "array": [
                                                                                                                              "timeseriesSort",
                                                                                                                              "array-order"
                                                                                                                            ]
                                                                                                                          },
                                                                                                                          "__altered": false
                                                                                                                        }
                                                                                                                      ]
                                                                                                                    ]
                                                                                                                  },
                                                                                                                  "__altered": false
                                                                                                                }
                                                                                                              ]
                                                                                                            },
                                                                                                            "__altered": false
                                                                                                          }
                                                                                                        ]
                                                                                                      ]
                                                                                                    },
                                                                                                    "__altered": false
                                                                                                  },
                                                                                                  {
                                                                                                    "size": 3,
                                                                                                    "_root": {
                                                                                                      "ownerID": {},
                                                                                                      "entries": [
                                                                                                        [
                                                                                                          "ownerID",
                                                                                                          {
                                                                                                            "size": 0,
                                                                                                            "__altered": false
                                                                                                          }
                                                                                                        ],
                                                                                                        [
                                                                                                          "keyHash",
                                                                                                          955826307
                                                                                                        ],
                                                                                                        [
                                                                                                          "entry",
                                                                                                          {
                                                                                                            "size": 2,
                                                                                                            "_origin": 0,
                                                                                                            "_capacity": 2,
                                                                                                            "_level": 5,
                                                                                                            "_root": null,
                                                                                                            "_tail": {
                                                                                                              "array": [
                                                                                                                "metric3",
                                                                                                                "none"
                                                                                                              ]
                                                                                                            },
                                                                                                            "__altered": false
                                                                                                          }
                                                                                                        ]
                                                                                                      ]
                                                                                                    },
                                                                                                    "__altered": false
                                                                                                  },
                                                                                                  {
                                                                                                    "size": 3,
                                                                                                    "_root": {
                                                                                                      "ownerID": {},
                                                                                                      "entries": [
                                                                                                        [
                                                                                                          "ownerID",
                                                                                                          {
                                                                                                            "size": 0,
                                                                                                            "__altered": false
                                                                                                          }
                                                                                                        ],
                                                                                                        [
                                                                                                          "keyHash",
                                                                                                          955826308
                                                                                                        ],
                                                                                                        [
                                                                                                          "entry",
                                                                                                          {
                                                                                                            "size": 2,
                                                                                                            "_origin": 0,
                                                                                                            "_capacity": 2,
                                                                                                            "_level": 5,
                                                                                                            "_root": null,
                                                                                                            "_tail": {
                                                                                                              "array": [
                                                                                                                "metric4",
                                                                                                                "none"
                                                                                                              ]
                                                                                                            },
                                                                                                            "__altered": false
                                                                                                          }
                                                                                                        ]
                                                                                                      ]
                                                                                                    },
                                                                                                    "__altered": false
                                                                                                  },
                                                                                                  {
                                                                                                    "size": 3,
                                                                                                    "_root": {
                                                                                                      "ownerID": {},
                                                                                                      "entries": [
                                                                                                        [
                                                                                                          "ownerID",
                                                                                                          {
                                                                                                            "size": 0,
                                                                                                            "__altered": false
                                                                                                          }
                                                                                                        ],
                                                                                                        [
                                                                                                          "keyHash",
                                                                                                          -37592730
                                                                                                        ],
                                                                                                        [
                                                                                                          "entry",
                                                                                                          {
                                                                                                            "size": 2,
                                                                                                            "_origin": 0,
                                                                                                            "_capacity": 2,
                                                                                                            "_level": 5,
                                                                                                            "_root": null,
                                                                                                            "_tail": {
                                                                                                              "array": [
                                                                                                                "networkLabel",
                                                                                                                "none"
                                                                                                              ]
                                                                                                            },
                                                                                                            "__altered": false
                                                                                                          }
                                                                                                        ]
                                                                                                      ]
                                                                                                    },
                                                                                                    "__altered": false
                                                                                                  },
                                                                                                  {
                                                                                                    "size": 3,
                                                                                                    "_root": {
                                                                                                      "ownerID": {},
                                                                                                      "entries": [
                                                                                                        [
                                                                                                          "ownerID",
                                                                                                          {
                                                                                                            "size": 0,
                                                                                                            "__altered": false
                                                                                                          }
                                                                                                        ],
                                                                                                        [
                                                                                                          "keyHash",
                                                                                                          3083433
                                                                                                        ],
                                                                                                        [
                                                                                                          "entry",
                                                                                                          {
                                                                                                            "size": 2,
                                                                                                            "_origin": 0,
                                                                                                            "_capacity": 2,
                                                                                                            "_level": 5,
                                                                                                            "_root": null,
                                                                                                            "_tail": {
                                                                                                              "array": [
                                                                                                                "dim1",
                                                                                                                "Item"
                                                                                                              ]
                                                                                                            },
                                                                                                            "__altered": false
                                                                                                          }
                                                                                                        ]
                                                                                                      ]
                                                                                                    },
                                                                                                    "__altered": false
                                                                                                  },
                                                                                                  {
                                                                                                    "size": 3,
                                                                                                    "_root": {
                                                                                                      "ownerID": {},
                                                                                                      "entries": [
                                                                                                        [
                                                                                                          "ownerID",
                                                                                                          {
                                                                                                            "size": 0,
                                                                                                            "__altered": false
                                                                                                          }
                                                                                                        ],
                                                                                                        [
                                                                                                          "keyHash",
                                                                                                          3083434
                                                                                                        ],
                                                                                                        [
                                                                                                          "entry",
                                                                                                          {
                                                                                                            "size": 2,
                                                                                                            "_origin": 0,
                                                                                                            "_capacity": 2,
                                                                                                            "_level": 5,
                                                                                                            "_root": null,
                                                                                                            "_tail": {
                                                                                                              "array": [
                                                                                                                "dim2",
                                                                                                                "Country"
                                                                                                              ]
                                                                                                            },
                                                                                                            "__altered": false
                                                                                                          }
                                                                                                        ]
                                                                                                      ]
                                                                                                    },
                                                                                                    "__altered": false
                                                                                                  },
                                                                                                  {
                                                                                                    "size": 3,
                                                                                                    "_root": {
                                                                                                      "ownerID": {},
                                                                                                      "entries": [
                                                                                                        [
                                                                                                          "ownerID",
                                                                                                          {
                                                                                                            "size": 0,
                                                                                                            "__altered": false
                                                                                                          }
                                                                                                        ],
                                                                                                        [
                                                                                                          "keyHash",
                                                                                                          3083435
                                                                                                        ],
                                                                                                        [
                                                                                                          "entry",
                                                                                                          {
                                                                                                            "size": 2,
                                                                                                            "_origin": 0,
                                                                                                            "_capacity": 2,
                                                                                                            "_level": 5,
                                                                                                            "_root": null,
                                                                                                            "_tail": {
                                                                                                              "array": [
                                                                                                                "dim3",
                                                                                                                "none"
                                                                                                              ]
                                                                                                            },
                                                                                                            "__altered": false
                                                                                                          }
                                                                                                        ]
                                                                                                      ]
                                                                                                    },
                                                                                                    "__altered": false
                                                                                                  }
                                                                                                ]
                                                                                              },
                                                                                              "__altered": false
                                                                                            }
                                                                                          ]
                                                                                        ]
                                                                                      },
                                                                                      "__altered": false
                                                                                    }
                                                                                  ],
                                                                                  [
                                                                                    "__altered",
                                                                                    false
                                                                                  ]
                                                                                ]
                                                                              },
                                                                              "__altered": false
                                                                            }
                                                                          ]
                                                                        },
                                                                        "__altered": false
                                                                      }
                                                                    ]
                                                                  ]
                                                                },
                                                                "__altered": false
                                                              }
                                                            ]
                                                          },
                                                          "__altered": false
                                                        }
                                                      ]
                                                    ]
                                                  },
                                                  "__altered": false
                                                }
                                              ],
                                              [
                                                "__altered",
                                                false
                                              ]
                                            ]
                                          },
                                          "__altered": false
                                        }
                                      ]
                                    },
                                    "__altered": false
                                  }
                                ]
                              },
                              "__altered": false
                            }
                          ]
                        ]
                      },
                      "__altered": false
                    }
                  ],
                  [
                    "__altered",
                    false
                  ],
                  [
                    "dx",
                    {
                      "size": 14,
                      "_root": {
                        "ownerID": {},
                        "bitmap": 1078182321,
                        "nodes": [
                          {
                            "ownerID": {},
                            "keyHash": -119117824,
                            "entry": [
                              "summaryType",
                              "violin"
                            ]
                          },
                          {
                            "ownerID": {},
                            "keyHash": -345406460,
                            "entry": [
                              "marginalGraphics",
                              "none"
                            ]
                          },
                          {
                            "ownerID": {},
                            "keyHash": 3619493,
                            "entry": [
                              "view",
                              "grid"
                            ]
                          },
                          {
                            "ownerID": {},
                            "keyHash": -592394905,
                            "entry": [
                              "areaType",
                              "hexbin"
                            ]
                          },
                          {
                            "ownerID": {},
                            "bitmap": 68165696,
                            "nodes": [
                              {
                                "ownerID": {},
                                "keyHash": -340014904,
                                "entry": [
                                  "selectedDimensions",
                                  {
                                    "size": 1,
                                    "_origin": 0,
                                    "_capacity": 1,
                                    "_level": 5,
                                    "_root": null,
                                    "_tail": {
                                      "array": [
                                        "Item"
                                      ]
                                    },
                                    "__altered": false
                                  }
                                ]
                              },
                              {
                                "ownerID": {},
                                "keyHash": 390943144,
                                "entry": [
                                  "selectedMetrics",
                                  {
                                    "size": 0,
                                    "_origin": 0,
                                    "_capacity": 0,
                                    "_level": 5,
                                    "__altered": false
                                  }
                                ]
                              },
                              {
                                "ownerID": {},
                                "keyHash": -866871672,
                                "entry": [
                                  "networkType",
                                  "force"
                                ]
                              },
                              {
                                "ownerID": {},
                                "keyHash": 113796936,
                                "entry": [
                                  "pieceType",
                                  "bar"
                                ]
                              }
                            ]
                          },
                          {
                            "ownerID": {},
                            "keyHash": 114923854,
                            "entry": [
                              "lineType",
                              "line"
                            ]
                          },
                          {
                            "ownerID": {},
                            "keyHash": 831288079,
                            "entry": [
                              "hierarchyType",
                              "dendrogram"
                            ]
                          },
                          {
                            "ownerID": {},
                            "keyHash": -281100944,
                            "entry": [
                              "colors",
                              {
                                "size": 19,
                                "_origin": 0,
                                "_capacity": 19,
                                "_level": 5,
                                "_root": null,
                                "_tail": {
                                  "array": [
                                    "#DA752E",
                                    "#E5C209",
                                    "#1441A0",
                                    "#B86117",
                                    "#4D430C",
                                    "#1DB390",
                                    "#B3331D",
                                    "#088EB2",
                                    "#417505",
                                    "#E479A8",
                                    "#F9F39E",
                                    "#5782DC",
                                    "#EBA97B",
                                    "#A2AB60",
                                    "#B291CF",
                                    "#8DD2C2",
                                    "#E6A19F",
                                    "#3DC7E0",
                                    "#98CE5B"
                                  ]
                                },
                                "__altered": false
                              }
                            ]
                          },
                          {
                            "ownerID": {},
                            "keyHash": 293080881,
                            "entry": [
                              "trendLine",
                              "none"
                            ]
                          },
                          {
                            "ownerID": {},
                            "keyHash": -136136138,
                            "entry": [
                              "barGrouping",
                              "Clustered"
                            ]
                          },
                          {
                            "ownerID": {},
                            "keyHash": 94623710,
                            "entry": [
                              "chart",
                              {
                                "size": 9,
                                "_root": {
                                  "ownerID": {},
                                  "bitmap": 3678,
                                  "nodes": [
                                    {
                                      "ownerID": {},
                                      "keyHash": 955826305,
                                      "entry": [
                                        "metric1",
                                        "CartID"
                                      ]
                                    },
                                    {
                                      "ownerID": {},
                                      "bitmap": 67108880,
                                      "nodes": [
                                        {
                                          "ownerID": {},
                                          "keyHash": 955826306,
                                          "entry": [
                                            "metric2",
                                            "Action"
                                          ]
                                        },
                                        {
                                          "ownerID": {},
                                          "keyHash": 346180418,
                                          "entry": [
                                            "timeseriesSort",
                                            "array-order"
                                          ]
                                        }
                                      ]
                                    },
                                    {
                                      "ownerID": {},
                                      "keyHash": 955826307,
                                      "entry": [
                                        "metric3",
                                        "none"
                                      ]
                                    },
                                    {
                                      "ownerID": {},
                                      "keyHash": 955826308,
                                      "entry": [
                                        "metric4",
                                        "none"
                                      ]
                                    },
                                    {
                                      "ownerID": {},
                                      "keyHash": -37592730,
                                      "entry": [
                                        "networkLabel",
                                        "none"
                                      ]
                                    },
                                    {
                                      "ownerID": {},
                                      "keyHash": 3083433,
                                      "entry": [
                                        "dim1",
                                        "Item"
                                      ]
                                    },
                                    {
                                      "ownerID": {},
                                      "keyHash": 3083434,
                                      "entry": [
                                        "dim2",
                                        "Country"
                                      ]
                                    },
                                    {
                                      "ownerID": {},
                                      "keyHash": 3083435,
                                      "entry": [
                                        "dim3",
                                        "none"
                                      ]
                                    }
                                  ]
                                },
                                "__altered": false
                              }
                            ]
                          }
                        ]
                      },
                      "__altered": false
                    }
                  ]
                ]
              },
              "__altered": false,
              "dx": {
                "summaryType": "violin",
                "marginalGraphics": "none",
                "view": "grid",
                "areaType": "hexbin",
                "selectedDimensions": [
                  "Item"
                ],
                "selectedMetrics": [],
                "networkType": "force",
                "pieceType": "bar",
                "lineType": "line",
                "hierarchyType": "dendrogram",
                "colors": [
                  "#DA752E",
                  "#E5C209",
                  "#1441A0",
                  "#B86117",
                  "#4D430C",
                  "#1DB390",
                  "#B3331D",
                  "#088EB2",
                  "#417505",
                  "#E479A8",
                  "#F9F39E",
                  "#5782DC",
                  "#EBA97B",
                  "#A2AB60",
                  "#B291CF",
                  "#8DD2C2",
                  "#E6A19F",
                  "#3DC7E0",
                  "#98CE5B"
                ],
                "trendLine": "none",
                "barGrouping": "Clustered",
                "chart": {
                  "metric1": "CartID",
                  "metric2": "Action",
                  "timeseriesSort": "array-order",
                  "metric3": "none",
                  "metric4": "none",
                  "networkLabel": "none",
                  "dim1": "Item",
                  "dim2": "Country",
                  "dim3": "none"
                }
              }
            }
          }
        }
      ],
      "execution_count": 5,
      "metadata": {
        "collapsed": true,
        "jupyter": {
          "source_hidden": false,
          "outputs_hidden": false
        },
        "nteract": {
          "transient": {
            "deleting": false
          }
        },
        "execution": {
          "iopub.status.busy": "2021-11-30T22:35:56.589Z",
          "iopub.status.idle": "2021-11-30T22:35:56.758Z",
          "shell.execute_reply": "2021-11-30T22:35:56.771Z"
        }
      },
      "id": "02dd3e6c-d150-45f9-a8e7-6e47ff6b2ae6"
    },
    {
      "cell_type": "code",
      "source": [
        "// Using GROUP BY to obtain the total revenue and quantity sold for each item\n",
        "\n",
        "QueryDefinition queryDefinition = new QueryDefinition(\"SELECT SUM(c.Price) as ItemRevenue, Count(1) AS ItemsSold FROM c GROUP BY c.Country\");\n",
        "\n",
        "FeedIterator<ItemSaleTotal> queryResultSetIterator = container.GetItemQueryIterator<ItemSaleTotal>(queryDefinition);\n",
        "\n",
        "List<ItemSaleTotal> itemSaleTotals = new List<ItemSaleTotal>();\n",
        "\n",
        "while (queryResultSetIterator.HasMoreResults)\n",
        "{\n",
        "    FeedResponse<ItemSaleTotal> currentResultSet = await queryResultSetIterator.ReadNextAsync();\n",
        "    foreach (ItemSaleTotal itemSaleTotal in currentResultSet)\n",
        "    {\n",
        "        itemSaleTotals.Add(itemSaleTotal);\n",
        "    }\n",
        "}\n",
        "\n",
        "itemSaleTotals\n"
      ],
      "outputs": [
        {
          "output_type": "execute_result",
          "execution_count": 6,
          "data": {
            "text/plain": "System.Collections.Generic.List`1[Submission#2+ItemSaleTotal]",
            "application/vnd.dataresource+json": {
              "data": [
                {
                  "Country": null,
                  "ItemRevenue": 9,
                  "ItemsSold": 1,
                  "index": 0
                },
                {
                  "Country": null,
                  "ItemRevenue": 55,
                  "ItemsSold": 1,
                  "index": 1
                },
                {
                  "Country": null,
                  "ItemRevenue": 7.5,
                  "ItemsSold": 2,
                  "index": 2
                },
                {
                  "Country": null,
                  "ItemRevenue": 19.99,
                  "ItemsSold": 1,
                  "index": 3
                },
                {
                  "Country": null,
                  "ItemRevenue": 350,
                  "ItemsSold": 1,
                  "index": 4
                },
                {
                  "Country": null,
                  "ItemRevenue": 19.99,
                  "ItemsSold": 1,
                  "index": 5
                }
              ],
              "schema": {
                "fields": [
                  {
                    "name": "index",
                    "type": "integer"
                  },
                  {
                    "name": "Country",
                    "type": "null"
                  },
                  {
                    "name": "ItemRevenue",
                    "type": "number"
                  },
                  {
                    "name": "ItemsSold",
                    "type": "integer"
                  }
                ],
                "primaryKey": [
                  "index"
                ]
              }
            }
          },
          "metadata": {
            "application/vnd.dataresource+json": {
              "size": 4,
              "_root": {
                "ownerID": {},
                "entries": [
                  [
                    "size",
                    1
                  ],
                  [
                    "_root",
                    {
                      "size": 2,
                      "_root": {
                        "ownerID": {},
                        "entries": [
                          [
                            "ownerID",
                            {
                              "size": 0,
                              "__altered": false
                            }
                          ],
                          [
                            "entries",
                            {
                              "size": 1,
                              "_origin": 0,
                              "_capacity": 1,
                              "_level": 5,
                              "_root": null,
                              "_tail": {
                                "array": [
                                  {
                                    "size": 2,
                                    "_origin": 0,
                                    "_capacity": 2,
                                    "_level": 5,
                                    "_root": null,
                                    "_tail": {
                                      "array": [
                                        "dx",
                                        {
                                          "size": 3,
                                          "_root": {
                                            "ownerID": {},
                                            "entries": [
                                              [
                                                "size",
                                                14
                                              ],
                                              [
                                                "_root",
                                                {
                                                  "size": 3,
                                                  "_root": {
                                                    "ownerID": {},
                                                    "entries": [
                                                      [
                                                        "ownerID",
                                                        {
                                                          "size": 0,
                                                          "__altered": false
                                                        }
                                                      ],
                                                      [
                                                        "bitmap",
                                                        1078182321
                                                      ],
                                                      [
                                                        "nodes",
                                                        {
                                                          "size": 11,
                                                          "_origin": 0,
                                                          "_capacity": 11,
                                                          "_level": 5,
                                                          "_root": null,
                                                          "_tail": {
                                                            "array": [
                                                              {
                                                                "size": 3,
                                                                "_root": {
                                                                  "ownerID": {},
                                                                  "entries": [
                                                                    [
                                                                      "ownerID",
                                                                      {
                                                                        "size": 0,
                                                                        "__altered": false
                                                                      }
                                                                    ],
                                                                    [
                                                                      "keyHash",
                                                                      -119117824
                                                                    ],
                                                                    [
                                                                      "entry",
                                                                      {
                                                                        "size": 2,
                                                                        "_origin": 0,
                                                                        "_capacity": 2,
                                                                        "_level": 5,
                                                                        "_root": null,
                                                                        "_tail": {
                                                                          "array": [
                                                                            "summaryType",
                                                                            "violin"
                                                                          ]
                                                                        },
                                                                        "__altered": false
                                                                      }
                                                                    ]
                                                                  ]
                                                                },
                                                                "__altered": false
                                                              },
                                                              {
                                                                "size": 3,
                                                                "_root": {
                                                                  "ownerID": {},
                                                                  "entries": [
                                                                    [
                                                                      "ownerID",
                                                                      {
                                                                        "size": 0,
                                                                        "__altered": false
                                                                      }
                                                                    ],
                                                                    [
                                                                      "keyHash",
                                                                      -345406460
                                                                    ],
                                                                    [
                                                                      "entry",
                                                                      {
                                                                        "size": 2,
                                                                        "_origin": 0,
                                                                        "_capacity": 2,
                                                                        "_level": 5,
                                                                        "_root": null,
                                                                        "_tail": {
                                                                          "array": [
                                                                            "marginalGraphics",
                                                                            "none"
                                                                          ]
                                                                        },
                                                                        "__altered": false
                                                                      }
                                                                    ]
                                                                  ]
                                                                },
                                                                "__altered": false
                                                              },
                                                              {
                                                                "size": 3,
                                                                "_root": {
                                                                  "ownerID": {},
                                                                  "entries": [
                                                                    [
                                                                      "ownerID",
                                                                      {
                                                                        "size": 0,
                                                                        "__altered": false
                                                                      }
                                                                    ],
                                                                    [
                                                                      "keyHash",
                                                                      3619493
                                                                    ],
                                                                    [
                                                                      "entry",
                                                                      {
                                                                        "size": 2,
                                                                        "_origin": 0,
                                                                        "_capacity": 2,
                                                                        "_level": 5,
                                                                        "_root": null,
                                                                        "_tail": {
                                                                          "array": [
                                                                            "view",
                                                                            "grid"
                                                                          ]
                                                                        },
                                                                        "__altered": false
                                                                      }
                                                                    ]
                                                                  ]
                                                                },
                                                                "__altered": false
                                                              },
                                                              {
                                                                "size": 3,
                                                                "_root": {
                                                                  "ownerID": {},
                                                                  "entries": [
                                                                    [
                                                                      "ownerID",
                                                                      {
                                                                        "size": 0,
                                                                        "__altered": false
                                                                      }
                                                                    ],
                                                                    [
                                                                      "keyHash",
                                                                      -592394905
                                                                    ],
                                                                    [
                                                                      "entry",
                                                                      {
                                                                        "size": 2,
                                                                        "_origin": 0,
                                                                        "_capacity": 2,
                                                                        "_level": 5,
                                                                        "_root": null,
                                                                        "_tail": {
                                                                          "array": [
                                                                            "areaType",
                                                                            "hexbin"
                                                                          ]
                                                                        },
                                                                        "__altered": false
                                                                      }
                                                                    ]
                                                                  ]
                                                                },
                                                                "__altered": false
                                                              },
                                                              {
                                                                "size": 3,
                                                                "_root": {
                                                                  "ownerID": {},
                                                                  "entries": [
                                                                    [
                                                                      "ownerID",
                                                                      {
                                                                        "size": 0,
                                                                        "__altered": false
                                                                      }
                                                                    ],
                                                                    [
                                                                      "bitmap",
                                                                      68165696
                                                                    ],
                                                                    [
                                                                      "nodes",
                                                                      {
                                                                        "size": 4,
                                                                        "_origin": 0,
                                                                        "_capacity": 4,
                                                                        "_level": 5,
                                                                        "_root": null,
                                                                        "_tail": {
                                                                          "array": [
                                                                            {
                                                                              "size": 3,
                                                                              "_root": {
                                                                                "ownerID": {},
                                                                                "entries": [
                                                                                  [
                                                                                    "ownerID",
                                                                                    {
                                                                                      "size": 0,
                                                                                      "__altered": false
                                                                                    }
                                                                                  ],
                                                                                  [
                                                                                    "keyHash",
                                                                                    -340014904
                                                                                  ],
                                                                                  [
                                                                                    "entry",
                                                                                    {
                                                                                      "size": 2,
                                                                                      "_origin": 0,
                                                                                      "_capacity": 2,
                                                                                      "_level": 5,
                                                                                      "_root": null,
                                                                                      "_tail": {
                                                                                        "array": [
                                                                                          "selectedDimensions",
                                                                                          {
                                                                                            "size": 5,
                                                                                            "_root": {
                                                                                              "ownerID": {},
                                                                                              "entries": [
                                                                                                [
                                                                                                  "size",
                                                                                                  0
                                                                                                ],
                                                                                                [
                                                                                                  "_origin",
                                                                                                  0
                                                                                                ],
                                                                                                [
                                                                                                  "_capacity",
                                                                                                  0
                                                                                                ],
                                                                                                [
                                                                                                  "_level",
                                                                                                  5
                                                                                                ],
                                                                                                [
                                                                                                  "__altered",
                                                                                                  false
                                                                                                ]
                                                                                              ]
                                                                                            },
                                                                                            "__altered": false
                                                                                          }
                                                                                        ]
                                                                                      },
                                                                                      "__altered": false
                                                                                    }
                                                                                  ]
                                                                                ]
                                                                              },
                                                                              "__altered": false
                                                                            },
                                                                            {
                                                                              "size": 3,
                                                                              "_root": {
                                                                                "ownerID": {},
                                                                                "entries": [
                                                                                  [
                                                                                    "ownerID",
                                                                                    {
                                                                                      "size": 0,
                                                                                      "__altered": false
                                                                                    }
                                                                                  ],
                                                                                  [
                                                                                    "keyHash",
                                                                                    390943144
                                                                                  ],
                                                                                  [
                                                                                    "entry",
                                                                                    {
                                                                                      "size": 2,
                                                                                      "_origin": 0,
                                                                                      "_capacity": 2,
                                                                                      "_level": 5,
                                                                                      "_root": null,
                                                                                      "_tail": {
                                                                                        "array": [
                                                                                          "selectedMetrics",
                                                                                          {
                                                                                            "size": 5,
                                                                                            "_root": {
                                                                                              "ownerID": {},
                                                                                              "entries": [
                                                                                                [
                                                                                                  "size",
                                                                                                  0
                                                                                                ],
                                                                                                [
                                                                                                  "_origin",
                                                                                                  0
                                                                                                ],
                                                                                                [
                                                                                                  "_capacity",
                                                                                                  0
                                                                                                ],
                                                                                                [
                                                                                                  "_level",
                                                                                                  5
                                                                                                ],
                                                                                                [
                                                                                                  "__altered",
                                                                                                  false
                                                                                                ]
                                                                                              ]
                                                                                            },
                                                                                            "__altered": false
                                                                                          }
                                                                                        ]
                                                                                      },
                                                                                      "__altered": false
                                                                                    }
                                                                                  ]
                                                                                ]
                                                                              },
                                                                              "__altered": false
                                                                            },
                                                                            {
                                                                              "size": 3,
                                                                              "_root": {
                                                                                "ownerID": {},
                                                                                "entries": [
                                                                                  [
                                                                                    "ownerID",
                                                                                    {
                                                                                      "size": 0,
                                                                                      "__altered": false
                                                                                    }
                                                                                  ],
                                                                                  [
                                                                                    "keyHash",
                                                                                    -866871672
                                                                                  ],
                                                                                  [
                                                                                    "entry",
                                                                                    {
                                                                                      "size": 2,
                                                                                      "_origin": 0,
                                                                                      "_capacity": 2,
                                                                                      "_level": 5,
                                                                                      "_root": null,
                                                                                      "_tail": {
                                                                                        "array": [
                                                                                          "networkType",
                                                                                          "force"
                                                                                        ]
                                                                                      },
                                                                                      "__altered": false
                                                                                    }
                                                                                  ]
                                                                                ]
                                                                              },
                                                                              "__altered": false
                                                                            },
                                                                            {
                                                                              "size": 3,
                                                                              "_root": {
                                                                                "ownerID": {},
                                                                                "entries": [
                                                                                  [
                                                                                    "ownerID",
                                                                                    {
                                                                                      "size": 0,
                                                                                      "__altered": false
                                                                                    }
                                                                                  ],
                                                                                  [
                                                                                    "keyHash",
                                                                                    113796936
                                                                                  ],
                                                                                  [
                                                                                    "entry",
                                                                                    {
                                                                                      "size": 2,
                                                                                      "_origin": 0,
                                                                                      "_capacity": 2,
                                                                                      "_level": 5,
                                                                                      "_root": null,
                                                                                      "_tail": {
                                                                                        "array": [
                                                                                          "pieceType",
                                                                                          "bar"
                                                                                        ]
                                                                                      },
                                                                                      "__altered": false
                                                                                    }
                                                                                  ]
                                                                                ]
                                                                              },
                                                                              "__altered": false
                                                                            }
                                                                          ]
                                                                        },
                                                                        "__altered": false
                                                                      }
                                                                    ]
                                                                  ]
                                                                },
                                                                "__altered": false
                                                              },
                                                              {
                                                                "size": 3,
                                                                "_root": {
                                                                  "ownerID": {},
                                                                  "entries": [
                                                                    [
                                                                      "ownerID",
                                                                      {
                                                                        "size": 0,
                                                                        "__altered": false
                                                                      }
                                                                    ],
                                                                    [
                                                                      "keyHash",
                                                                      114923854
                                                                    ],
                                                                    [
                                                                      "entry",
                                                                      {
                                                                        "size": 2,
                                                                        "_origin": 0,
                                                                        "_capacity": 2,
                                                                        "_level": 5,
                                                                        "_root": null,
                                                                        "_tail": {
                                                                          "array": [
                                                                            "lineType",
                                                                            "line"
                                                                          ]
                                                                        },
                                                                        "__altered": false
                                                                      }
                                                                    ]
                                                                  ]
                                                                },
                                                                "__altered": false
                                                              },
                                                              {
                                                                "size": 3,
                                                                "_root": {
                                                                  "ownerID": {},
                                                                  "entries": [
                                                                    [
                                                                      "ownerID",
                                                                      {
                                                                        "size": 0,
                                                                        "__altered": false
                                                                      }
                                                                    ],
                                                                    [
                                                                      "keyHash",
                                                                      831288079
                                                                    ],
                                                                    [
                                                                      "entry",
                                                                      {
                                                                        "size": 2,
                                                                        "_origin": 0,
                                                                        "_capacity": 2,
                                                                        "_level": 5,
                                                                        "_root": null,
                                                                        "_tail": {
                                                                          "array": [
                                                                            "hierarchyType",
                                                                            "dendrogram"
                                                                          ]
                                                                        },
                                                                        "__altered": false
                                                                      }
                                                                    ]
                                                                  ]
                                                                },
                                                                "__altered": false
                                                              },
                                                              {
                                                                "size": 3,
                                                                "_root": {
                                                                  "ownerID": {},
                                                                  "entries": [
                                                                    [
                                                                      "ownerID",
                                                                      {
                                                                        "size": 0,
                                                                        "__altered": false
                                                                      }
                                                                    ],
                                                                    [
                                                                      "keyHash",
                                                                      -281100944
                                                                    ],
                                                                    [
                                                                      "entry",
                                                                      {
                                                                        "size": 2,
                                                                        "_origin": 0,
                                                                        "_capacity": 2,
                                                                        "_level": 5,
                                                                        "_root": null,
                                                                        "_tail": {
                                                                          "array": [
                                                                            "colors",
                                                                            {
                                                                              "size": 7,
                                                                              "_root": {
                                                                                "ownerID": {},
                                                                                "entries": [
                                                                                  [
                                                                                    "size",
                                                                                    19
                                                                                  ],
                                                                                  [
                                                                                    "_origin",
                                                                                    0
                                                                                  ],
                                                                                  [
                                                                                    "_capacity",
                                                                                    19
                                                                                  ],
                                                                                  [
                                                                                    "_level",
                                                                                    5
                                                                                  ],
                                                                                  [
                                                                                    "_root",
                                                                                    null
                                                                                  ],
                                                                                  [
                                                                                    "_tail",
                                                                                    {
                                                                                      "size": 1,
                                                                                      "_root": {
                                                                                        "ownerID": {},
                                                                                        "entries": [
                                                                                          [
                                                                                            "array",
                                                                                            {
                                                                                              "size": 19,
                                                                                              "_origin": 0,
                                                                                              "_capacity": 19,
                                                                                              "_level": 5,
                                                                                              "_root": null,
                                                                                              "_tail": {
                                                                                                "array": [
                                                                                                  "#DA752E",
                                                                                                  "#E5C209",
                                                                                                  "#1441A0",
                                                                                                  "#B86117",
                                                                                                  "#4D430C",
                                                                                                  "#1DB390",
                                                                                                  "#B3331D",
                                                                                                  "#088EB2",
                                                                                                  "#417505",
                                                                                                  "#E479A8",
                                                                                                  "#F9F39E",
                                                                                                  "#5782DC",
                                                                                                  "#EBA97B",
                                                                                                  "#A2AB60",
                                                                                                  "#B291CF",
                                                                                                  "#8DD2C2",
                                                                                                  "#E6A19F",
                                                                                                  "#3DC7E0",
                                                                                                  "#98CE5B"
                                                                                                ]
                                                                                              },
                                                                                              "__altered": false
                                                                                            }
                                                                                          ]
                                                                                        ]
                                                                                      },
                                                                                      "__altered": false
                                                                                    }
                                                                                  ],
                                                                                  [
                                                                                    "__altered",
                                                                                    false
                                                                                  ]
                                                                                ]
                                                                              },
                                                                              "__altered": false
                                                                            }
                                                                          ]
                                                                        },
                                                                        "__altered": false
                                                                      }
                                                                    ]
                                                                  ]
                                                                },
                                                                "__altered": false
                                                              },
                                                              {
                                                                "size": 3,
                                                                "_root": {
                                                                  "ownerID": {},
                                                                  "entries": [
                                                                    [
                                                                      "ownerID",
                                                                      {
                                                                        "size": 0,
                                                                        "__altered": false
                                                                      }
                                                                    ],
                                                                    [
                                                                      "keyHash",
                                                                      293080881
                                                                    ],
                                                                    [
                                                                      "entry",
                                                                      {
                                                                        "size": 2,
                                                                        "_origin": 0,
                                                                        "_capacity": 2,
                                                                        "_level": 5,
                                                                        "_root": null,
                                                                        "_tail": {
                                                                          "array": [
                                                                            "trendLine",
                                                                            "none"
                                                                          ]
                                                                        },
                                                                        "__altered": false
                                                                      }
                                                                    ]
                                                                  ]
                                                                },
                                                                "__altered": false
                                                              },
                                                              {
                                                                "size": 3,
                                                                "_root": {
                                                                  "ownerID": {},
                                                                  "entries": [
                                                                    [
                                                                      "ownerID",
                                                                      {
                                                                        "size": 0,
                                                                        "__altered": false
                                                                      }
                                                                    ],
                                                                    [
                                                                      "keyHash",
                                                                      -136136138
                                                                    ],
                                                                    [
                                                                      "entry",
                                                                      {
                                                                        "size": 2,
                                                                        "_origin": 0,
                                                                        "_capacity": 2,
                                                                        "_level": 5,
                                                                        "_root": null,
                                                                        "_tail": {
                                                                          "array": [
                                                                            "barGrouping",
                                                                            "Clustered"
                                                                          ]
                                                                        },
                                                                        "__altered": false
                                                                      }
                                                                    ]
                                                                  ]
                                                                },
                                                                "__altered": false
                                                              },
                                                              {
                                                                "size": 3,
                                                                "_root": {
                                                                  "ownerID": {},
                                                                  "entries": [
                                                                    [
                                                                      "ownerID",
                                                                      {
                                                                        "size": 0,
                                                                        "__altered": false
                                                                      }
                                                                    ],
                                                                    [
                                                                      "keyHash",
                                                                      94623710
                                                                    ],
                                                                    [
                                                                      "entry",
                                                                      {
                                                                        "size": 2,
                                                                        "_origin": 0,
                                                                        "_capacity": 2,
                                                                        "_level": 5,
                                                                        "_root": null,
                                                                        "_tail": {
                                                                          "array": [
                                                                            "chart",
                                                                            {
                                                                              "size": 3,
                                                                              "_root": {
                                                                                "ownerID": {},
                                                                                "entries": [
                                                                                  [
                                                                                    "size",
                                                                                    9
                                                                                  ],
                                                                                  [
                                                                                    "_root",
                                                                                    {
                                                                                      "size": 3,
                                                                                      "_root": {
                                                                                        "ownerID": {},
                                                                                        "entries": [
                                                                                          [
                                                                                            "ownerID",
                                                                                            {
                                                                                              "size": 0,
                                                                                              "__altered": false
                                                                                            }
                                                                                          ],
                                                                                          [
                                                                                            "bitmap",
                                                                                            3678
                                                                                          ],
                                                                                          [
                                                                                            "nodes",
                                                                                            {
                                                                                              "size": 8,
                                                                                              "_origin": 0,
                                                                                              "_capacity": 8,
                                                                                              "_level": 5,
                                                                                              "_root": null,
                                                                                              "_tail": {
                                                                                                "array": [
                                                                                                  {
                                                                                                    "size": 3,
                                                                                                    "_root": {
                                                                                                      "ownerID": {},
                                                                                                      "entries": [
                                                                                                        [
                                                                                                          "ownerID",
                                                                                                          {
                                                                                                            "size": 0,
                                                                                                            "__altered": false
                                                                                                          }
                                                                                                        ],
                                                                                                        [
                                                                                                          "keyHash",
                                                                                                          955826305
                                                                                                        ],
                                                                                                        [
                                                                                                          "entry",
                                                                                                          {
                                                                                                            "size": 2,
                                                                                                            "_origin": 0,
                                                                                                            "_capacity": 2,
                                                                                                            "_level": 5,
                                                                                                            "_root": null,
                                                                                                            "_tail": {
                                                                                                              "array": [
                                                                                                                "metric1",
                                                                                                                "ItemRevenue"
                                                                                                              ]
                                                                                                            },
                                                                                                            "__altered": false
                                                                                                          }
                                                                                                        ]
                                                                                                      ]
                                                                                                    },
                                                                                                    "__altered": false
                                                                                                  },
                                                                                                  {
                                                                                                    "size": 3,
                                                                                                    "_root": {
                                                                                                      "ownerID": {},
                                                                                                      "entries": [
                                                                                                        [
                                                                                                          "ownerID",
                                                                                                          {
                                                                                                            "size": 0,
                                                                                                            "__altered": false
                                                                                                          }
                                                                                                        ],
                                                                                                        [
                                                                                                          "bitmap",
                                                                                                          67108880
                                                                                                        ],
                                                                                                        [
                                                                                                          "nodes",
                                                                                                          {
                                                                                                            "size": 2,
                                                                                                            "_origin": 0,
                                                                                                            "_capacity": 2,
                                                                                                            "_level": 5,
                                                                                                            "_root": null,
                                                                                                            "_tail": {
                                                                                                              "array": [
                                                                                                                {
                                                                                                                  "size": 3,
                                                                                                                  "_root": {
                                                                                                                    "ownerID": {},
                                                                                                                    "entries": [
                                                                                                                      [
                                                                                                                        "ownerID",
                                                                                                                        {
                                                                                                                          "size": 0,
                                                                                                                          "__altered": false
                                                                                                                        }
                                                                                                                      ],
                                                                                                                      [
                                                                                                                        "keyHash",
                                                                                                                        955826306
                                                                                                                      ],
                                                                                                                      [
                                                                                                                        "entry",
                                                                                                                        {
                                                                                                                          "size": 2,
                                                                                                                          "_origin": 0,
                                                                                                                          "_capacity": 2,
                                                                                                                          "_level": 5,
                                                                                                                          "_root": null,
                                                                                                                          "_tail": {
                                                                                                                            "array": [
                                                                                                                              "metric2",
                                                                                                                              "ItemsSold"
                                                                                                                            ]
                                                                                                                          },
                                                                                                                          "__altered": false
                                                                                                                        }
                                                                                                                      ]
                                                                                                                    ]
                                                                                                                  },
                                                                                                                  "__altered": false
                                                                                                                },
                                                                                                                {
                                                                                                                  "size": 3,
                                                                                                                  "_root": {
                                                                                                                    "ownerID": {},
                                                                                                                    "entries": [
                                                                                                                      [
                                                                                                                        "ownerID",
                                                                                                                        {
                                                                                                                          "size": 0,
                                                                                                                          "__altered": false
                                                                                                                        }
                                                                                                                      ],
                                                                                                                      [
                                                                                                                        "keyHash",
                                                                                                                        346180418
                                                                                                                      ],
                                                                                                                      [
                                                                                                                        "entry",
                                                                                                                        {
                                                                                                                          "size": 2,
                                                                                                                          "_origin": 0,
                                                                                                                          "_capacity": 2,
                                                                                                                          "_level": 5,
                                                                                                                          "_root": null,
                                                                                                                          "_tail": {
                                                                                                                            "array": [
                                                                                                                              "timeseriesSort",
                                                                                                                              "array-order"
                                                                                                                            ]
                                                                                                                          },
                                                                                                                          "__altered": false
                                                                                                                        }
                                                                                                                      ]
                                                                                                                    ]
                                                                                                                  },
                                                                                                                  "__altered": false
                                                                                                                }
                                                                                                              ]
                                                                                                            },
                                                                                                            "__altered": false
                                                                                                          }
                                                                                                        ]
                                                                                                      ]
                                                                                                    },
                                                                                                    "__altered": false
                                                                                                  },
                                                                                                  {
                                                                                                    "size": 3,
                                                                                                    "_root": {
                                                                                                      "ownerID": {},
                                                                                                      "entries": [
                                                                                                        [
                                                                                                          "ownerID",
                                                                                                          {
                                                                                                            "size": 0,
                                                                                                            "__altered": false
                                                                                                          }
                                                                                                        ],
                                                                                                        [
                                                                                                          "keyHash",
                                                                                                          955826307
                                                                                                        ],
                                                                                                        [
                                                                                                          "entry",
                                                                                                          {
                                                                                                            "size": 2,
                                                                                                            "_origin": 0,
                                                                                                            "_capacity": 2,
                                                                                                            "_level": 5,
                                                                                                            "_root": null,
                                                                                                            "_tail": {
                                                                                                              "array": [
                                                                                                                "metric3",
                                                                                                                "none"
                                                                                                              ]
                                                                                                            },
                                                                                                            "__altered": false
                                                                                                          }
                                                                                                        ]
                                                                                                      ]
                                                                                                    },
                                                                                                    "__altered": false
                                                                                                  },
                                                                                                  {
                                                                                                    "size": 3,
                                                                                                    "_root": {
                                                                                                      "ownerID": {},
                                                                                                      "entries": [
                                                                                                        [
                                                                                                          "ownerID",
                                                                                                          {
                                                                                                            "size": 0,
                                                                                                            "__altered": false
                                                                                                          }
                                                                                                        ],
                                                                                                        [
                                                                                                          "keyHash",
                                                                                                          955826308
                                                                                                        ],
                                                                                                        [
                                                                                                          "entry",
                                                                                                          {
                                                                                                            "size": 2,
                                                                                                            "_origin": 0,
                                                                                                            "_capacity": 2,
                                                                                                            "_level": 5,
                                                                                                            "_root": null,
                                                                                                            "_tail": {
                                                                                                              "array": [
                                                                                                                "metric4",
                                                                                                                "none"
                                                                                                              ]
                                                                                                            },
                                                                                                            "__altered": false
                                                                                                          }
                                                                                                        ]
                                                                                                      ]
                                                                                                    },
                                                                                                    "__altered": false
                                                                                                  },
                                                                                                  {
                                                                                                    "size": 3,
                                                                                                    "_root": {
                                                                                                      "ownerID": {},
                                                                                                      "entries": [
                                                                                                        [
                                                                                                          "ownerID",
                                                                                                          {
                                                                                                            "size": 0,
                                                                                                            "__altered": false
                                                                                                          }
                                                                                                        ],
                                                                                                        [
                                                                                                          "keyHash",
                                                                                                          -37592730
                                                                                                        ],
                                                                                                        [
                                                                                                          "entry",
                                                                                                          {
                                                                                                            "size": 2,
                                                                                                            "_origin": 0,
                                                                                                            "_capacity": 2,
                                                                                                            "_level": 5,
                                                                                                            "_root": null,
                                                                                                            "_tail": {
                                                                                                              "array": [
                                                                                                                "networkLabel",
                                                                                                                "none"
                                                                                                              ]
                                                                                                            },
                                                                                                            "__altered": false
                                                                                                          }
                                                                                                        ]
                                                                                                      ]
                                                                                                    },
                                                                                                    "__altered": false
                                                                                                  },
                                                                                                  {
                                                                                                    "size": 3,
                                                                                                    "_root": {
                                                                                                      "ownerID": {},
                                                                                                      "entries": [
                                                                                                        [
                                                                                                          "ownerID",
                                                                                                          {
                                                                                                            "size": 0,
                                                                                                            "__altered": false
                                                                                                          }
                                                                                                        ],
                                                                                                        [
                                                                                                          "keyHash",
                                                                                                          3083433
                                                                                                        ],
                                                                                                        [
                                                                                                          "entry",
                                                                                                          {
                                                                                                            "size": 2,
                                                                                                            "_origin": 0,
                                                                                                            "_capacity": 2,
                                                                                                            "_level": 5,
                                                                                                            "_root": null,
                                                                                                            "_tail": {
                                                                                                              "array": [
                                                                                                                "dim1",
                                                                                                                "none"
                                                                                                              ]
                                                                                                            },
                                                                                                            "__altered": false
                                                                                                          }
                                                                                                        ]
                                                                                                      ]
                                                                                                    },
                                                                                                    "__altered": false
                                                                                                  },
                                                                                                  {
                                                                                                    "size": 3,
                                                                                                    "_root": {
                                                                                                      "ownerID": {},
                                                                                                      "entries": [
                                                                                                        [
                                                                                                          "ownerID",
                                                                                                          {
                                                                                                            "size": 0,
                                                                                                            "__altered": false
                                                                                                          }
                                                                                                        ],
                                                                                                        [
                                                                                                          "keyHash",
                                                                                                          3083434
                                                                                                        ],
                                                                                                        [
                                                                                                          "entry",
                                                                                                          {
                                                                                                            "size": 2,
                                                                                                            "_origin": 0,
                                                                                                            "_capacity": 2,
                                                                                                            "_level": 5,
                                                                                                            "_root": null,
                                                                                                            "_tail": {
                                                                                                              "array": [
                                                                                                                "dim2",
                                                                                                                "none"
                                                                                                              ]
                                                                                                            },
                                                                                                            "__altered": false
                                                                                                          }
                                                                                                        ]
                                                                                                      ]
                                                                                                    },
                                                                                                    "__altered": false
                                                                                                  },
                                                                                                  {
                                                                                                    "size": 3,
                                                                                                    "_root": {
                                                                                                      "ownerID": {},
                                                                                                      "entries": [
                                                                                                        [
                                                                                                          "ownerID",
                                                                                                          {
                                                                                                            "size": 0,
                                                                                                            "__altered": false
                                                                                                          }
                                                                                                        ],
                                                                                                        [
                                                                                                          "keyHash",
                                                                                                          3083435
                                                                                                        ],
                                                                                                        [
                                                                                                          "entry",
                                                                                                          {
                                                                                                            "size": 2,
                                                                                                            "_origin": 0,
                                                                                                            "_capacity": 2,
                                                                                                            "_level": 5,
                                                                                                            "_root": null,
                                                                                                            "_tail": {
                                                                                                              "array": [
                                                                                                                "dim3",
                                                                                                                "none"
                                                                                                              ]
                                                                                                            },
                                                                                                            "__altered": false
                                                                                                          }
                                                                                                        ]
                                                                                                      ]
                                                                                                    },
                                                                                                    "__altered": false
                                                                                                  }
                                                                                                ]
                                                                                              },
                                                                                              "__altered": false
                                                                                            }
                                                                                          ]
                                                                                        ]
                                                                                      },
                                                                                      "__altered": false
                                                                                    }
                                                                                  ],
                                                                                  [
                                                                                    "__altered",
                                                                                    false
                                                                                  ]
                                                                                ]
                                                                              },
                                                                              "__altered": false
                                                                            }
                                                                          ]
                                                                        },
                                                                        "__altered": false
                                                                      }
                                                                    ]
                                                                  ]
                                                                },
                                                                "__altered": false
                                                              }
                                                            ]
                                                          },
                                                          "__altered": false
                                                        }
                                                      ]
                                                    ]
                                                  },
                                                  "__altered": false
                                                }
                                              ],
                                              [
                                                "__altered",
                                                false
                                              ]
                                            ]
                                          },
                                          "__altered": false
                                        }
                                      ]
                                    },
                                    "__altered": false
                                  }
                                ]
                              },
                              "__altered": false
                            }
                          ]
                        ]
                      },
                      "__altered": false
                    }
                  ],
                  [
                    "__altered",
                    false
                  ],
                  [
                    "dx",
                    {
                      "size": 14,
                      "_root": {
                        "ownerID": {},
                        "bitmap": 1078182321,
                        "nodes": [
                          {
                            "ownerID": {},
                            "keyHash": -119117824,
                            "entry": [
                              "summaryType",
                              "violin"
                            ]
                          },
                          {
                            "ownerID": {},
                            "keyHash": -345406460,
                            "entry": [
                              "marginalGraphics",
                              "none"
                            ]
                          },
                          {
                            "ownerID": {},
                            "keyHash": 3619493,
                            "entry": [
                              "view",
                              "grid"
                            ]
                          },
                          {
                            "ownerID": {},
                            "keyHash": -592394905,
                            "entry": [
                              "areaType",
                              "hexbin"
                            ]
                          },
                          {
                            "ownerID": {},
                            "bitmap": 68165696,
                            "nodes": [
                              {
                                "ownerID": {},
                                "keyHash": -340014904,
                                "entry": [
                                  "selectedDimensions",
                                  {
                                    "size": 0,
                                    "_origin": 0,
                                    "_capacity": 0,
                                    "_level": 5,
                                    "__altered": false
                                  }
                                ]
                              },
                              {
                                "ownerID": {},
                                "keyHash": 390943144,
                                "entry": [
                                  "selectedMetrics",
                                  {
                                    "size": 0,
                                    "_origin": 0,
                                    "_capacity": 0,
                                    "_level": 5,
                                    "__altered": false
                                  }
                                ]
                              },
                              {
                                "ownerID": {},
                                "keyHash": -866871672,
                                "entry": [
                                  "networkType",
                                  "force"
                                ]
                              },
                              {
                                "ownerID": {},
                                "keyHash": 113796936,
                                "entry": [
                                  "pieceType",
                                  "bar"
                                ]
                              }
                            ]
                          },
                          {
                            "ownerID": {},
                            "keyHash": 114923854,
                            "entry": [
                              "lineType",
                              "line"
                            ]
                          },
                          {
                            "ownerID": {},
                            "keyHash": 831288079,
                            "entry": [
                              "hierarchyType",
                              "dendrogram"
                            ]
                          },
                          {
                            "ownerID": {},
                            "keyHash": -281100944,
                            "entry": [
                              "colors",
                              {
                                "size": 19,
                                "_origin": 0,
                                "_capacity": 19,
                                "_level": 5,
                                "_root": null,
                                "_tail": {
                                  "array": [
                                    "#DA752E",
                                    "#E5C209",
                                    "#1441A0",
                                    "#B86117",
                                    "#4D430C",
                                    "#1DB390",
                                    "#B3331D",
                                    "#088EB2",
                                    "#417505",
                                    "#E479A8",
                                    "#F9F39E",
                                    "#5782DC",
                                    "#EBA97B",
                                    "#A2AB60",
                                    "#B291CF",
                                    "#8DD2C2",
                                    "#E6A19F",
                                    "#3DC7E0",
                                    "#98CE5B"
                                  ]
                                },
                                "__altered": false
                              }
                            ]
                          },
                          {
                            "ownerID": {},
                            "keyHash": 293080881,
                            "entry": [
                              "trendLine",
                              "none"
                            ]
                          },
                          {
                            "ownerID": {},
                            "keyHash": -136136138,
                            "entry": [
                              "barGrouping",
                              "Clustered"
                            ]
                          },
                          {
                            "ownerID": {},
                            "keyHash": 94623710,
                            "entry": [
                              "chart",
                              {
                                "size": 9,
                                "_root": {
                                  "ownerID": {},
                                  "bitmap": 3678,
                                  "nodes": [
                                    {
                                      "ownerID": {},
                                      "keyHash": 955826305,
                                      "entry": [
                                        "metric1",
                                        "ItemRevenue"
                                      ]
                                    },
                                    {
                                      "ownerID": {},
                                      "bitmap": 67108880,
                                      "nodes": [
                                        {
                                          "ownerID": {},
                                          "keyHash": 955826306,
                                          "entry": [
                                            "metric2",
                                            "ItemsSold"
                                          ]
                                        },
                                        {
                                          "ownerID": {},
                                          "keyHash": 346180418,
                                          "entry": [
                                            "timeseriesSort",
                                            "array-order"
                                          ]
                                        }
                                      ]
                                    },
                                    {
                                      "ownerID": {},
                                      "keyHash": 955826307,
                                      "entry": [
                                        "metric3",
                                        "none"
                                      ]
                                    },
                                    {
                                      "ownerID": {},
                                      "keyHash": 955826308,
                                      "entry": [
                                        "metric4",
                                        "none"
                                      ]
                                    },
                                    {
                                      "ownerID": {},
                                      "keyHash": -37592730,
                                      "entry": [
                                        "networkLabel",
                                        "none"
                                      ]
                                    },
                                    {
                                      "ownerID": {},
                                      "keyHash": 3083433,
                                      "entry": [
                                        "dim1",
                                        "none"
                                      ]
                                    },
                                    {
                                      "ownerID": {},
                                      "keyHash": 3083434,
                                      "entry": [
                                        "dim2",
                                        "none"
                                      ]
                                    },
                                    {
                                      "ownerID": {},
                                      "keyHash": 3083435,
                                      "entry": [
                                        "dim3",
                                        "none"
                                      ]
                                    }
                                  ]
                                },
                                "__altered": false
                              }
                            ]
                          }
                        ]
                      },
                      "__altered": false
                    }
                  ]
                ]
              },
              "__altered": false,
              "dx": {
                "summaryType": "violin",
                "marginalGraphics": "none",
                "view": "grid",
                "areaType": "hexbin",
                "selectedDimensions": [],
                "selectedMetrics": [],
                "networkType": "force",
                "pieceType": "bar",
                "lineType": "line",
                "hierarchyType": "dendrogram",
                "colors": [
                  "#DA752E",
                  "#E5C209",
                  "#1441A0",
                  "#B86117",
                  "#4D430C",
                  "#1DB390",
                  "#B3331D",
                  "#088EB2",
                  "#417505",
                  "#E479A8",
                  "#F9F39E",
                  "#5782DC",
                  "#EBA97B",
                  "#A2AB60",
                  "#B291CF",
                  "#8DD2C2",
                  "#E6A19F",
                  "#3DC7E0",
                  "#98CE5B"
                ],
                "trendLine": "none",
                "barGrouping": "Clustered",
                "chart": {
                  "metric1": "ItemRevenue",
                  "metric2": "ItemsSold",
                  "timeseriesSort": "array-order",
                  "metric3": "none",
                  "metric4": "none",
                  "networkLabel": "none",
                  "dim1": "none",
                  "dim2": "none",
                  "dim3": "none"
                }
              }
            }
          }
        }
      ],
      "execution_count": 6,
      "metadata": {
        "collapsed": true,
        "jupyter": {
          "source_hidden": false,
          "outputs_hidden": false
        },
        "nteract": {
          "transient": {
            "deleting": false
          }
        },
        "execution": {
          "iopub.status.busy": "2021-11-30T22:36:00.002Z",
          "iopub.status.idle": "2021-11-30T22:36:00.287Z",
          "shell.execute_reply": "2021-11-30T22:36:00.295Z"
        }
      },
      "id": "1c088b2f-5b80-427c-9179-f6f2a4746252"
    },
    {
      "cell_type": "markdown",
      "source": [
        "## Adding a new property to a document\n",
        "\n",
        "Documents within your Azure Cosmos containers can have different structures. Unlike when using a relational database, you don't have to define a schema. Adding a new property to a single document doesn't require any changes at the container-level. \n",
        "\n",
        "Here's an example:"
      ],
      "metadata": {
        "nteract": {
          "transient": {
            "deleting": false
          }
        }
      },
      "id": "f724fb55-0d86-4402-ae03-97ca35698e7f"
    },
    {
      "cell_type": "code",
      "source": [
        "// First, we'll read the item that we want to modify\n",
        "ItemSaleWithDiscount itemSale = await container.ReadItemAsync<ItemSaleWithDiscount>(\"5ee27756-c380-40c6-adf0-93f48139da1e\", new PartitionKey(\"5ee27756-c380-40c6-adf0-93f48139da1e\"));"
      ],
      "outputs": [
        {
          "output_type": "execute_result",
          "execution_count": 7,
          "data": {},
          "metadata": {}
        }
      ],
      "execution_count": 7,
      "metadata": {
        "collapsed": true,
        "jupyter": {
          "source_hidden": false,
          "outputs_hidden": false
        },
        "nteract": {
          "transient": {
            "deleting": false
          }
        },
        "execution": {
          "iopub.status.busy": "2021-11-30T22:36:04.229Z",
          "iopub.status.idle": "2021-11-30T22:36:04.293Z",
          "shell.execute_reply": "2021-11-30T22:36:04.309Z"
        }
      },
      "id": "005741a1-7656-4983-a31d-4be91cdadc9b"
    },
    {
      "cell_type": "code",
      "source": [
        "// Then, we'll modify the ItemSale that we previously read and add the new property \"IsDiscounted\". We can go ahead and immediately update this in our Sales container, without any changes in settings for that container.\n",
        "itemSale.IsDiscounted = true;\n",
        "ItemResponse<ItemSaleWithDiscount> item = await container.UpsertItemAsync<ItemSaleWithDiscount>(itemSale, new PartitionKey(itemSale.id));\n",
        "\n"
      ],
      "outputs": [
        {
          "output_type": "execute_result",
          "execution_count": 8,
          "data": {},
          "metadata": {}
        }
      ],
      "execution_count": 8,
      "metadata": {
        "collapsed": true,
        "jupyter": {
          "source_hidden": false,
          "outputs_hidden": false
        },
        "nteract": {
          "transient": {
            "deleting": false
          }
        },
        "execution": {
          "iopub.status.busy": "2021-11-30T22:36:06.457Z",
          "iopub.status.idle": "2021-11-30T22:36:06.521Z",
          "shell.execute_reply": "2021-11-30T22:36:06.545Z"
        }
      },
      "id": "0f96cd84-ae38-496f-b114-1673064ca4cc"
    },
    {
      "cell_type": "markdown",
      "source": [
        "## Automatic indexing\n",
        "\n",
        "This property is instantly available to use in query filters. You don't need to add any new indexes or tune query performance."
      ],
      "metadata": {
        "nteract": {
          "transient": {
            "deleting": false
          }
        }
      },
      "id": "dfc2fa77-d04a-41e8-9f64-886d36446cc8"
    },
    {
      "cell_type": "code",
      "source": [
        "// Using the new IsDiscounted property\n",
        "\n",
        "QueryDefinition queryDefinition = new QueryDefinition(\"SELECT c.Action, c.Price as ItemRevenue, c.Country, c.Item FROM c WHERE c.IsDiscounted = true\");\n",
        "\n",
        "FeedIterator<ItemSaleWithDiscount> queryResultSetIterator = container.GetItemQueryIterator<ItemSaleWithDiscount>(queryDefinition);\n",
        "\n",
        "List<ItemSaleWithDiscount> itemSales = new List<ItemSaleWithDiscount>();\n",
        "\n",
        "while (queryResultSetIterator.HasMoreResults)\n",
        "{\n",
        "    FeedResponse<ItemSaleWithDiscount> currentResultSet = await queryResultSetIterator.ReadNextAsync();\n",
        "    foreach (ItemSaleWithDiscount itemSaleWithDiscount in currentResultSet)\n",
        "    \n",
        "        itemSales.Add(itemSaleWithDiscount);\n",
        "}\n",
        "\n",
        "itemSales"
      ],
      "outputs": [
        {
          "output_type": "execute_result",
          "execution_count": 9,
          "data": {
            "text/plain": "System.Collections.Generic.List`1[Submission#2+ItemSaleWithDiscount]",
            "application/vnd.dataresource+json": {
              "data": [
                {
                  "id": null,
                  "CartID": 0,
                  "Action": 1,
                  "Item": "Button-Up Shirt",
                  "Price": 0,
                  "UserName": null,
                  "Country": "Syrian Arab Republic",
                  "EventDate": null,
                  "Year": 0,
                  "Latitude": 0,
                  "Longitude": 0,
                  "Address": null,
                  "IsDiscounted": false,
                  "index": 0
                }
              ],
              "schema": {
                "fields": [
                  {
                    "name": "index",
                    "type": "integer"
                  },
                  {
                    "name": "id",
                    "type": "null"
                  },
                  {
                    "name": "CartID",
                    "type": "integer"
                  },
                  {
                    "name": "Action",
                    "type": "integer"
                  },
                  {
                    "name": "Item",
                    "type": "string"
                  },
                  {
                    "name": "Price",
                    "type": "number"
                  },
                  {
                    "name": "UserName",
                    "type": "null"
                  },
                  {
                    "name": "Country",
                    "type": "string"
                  },
                  {
                    "name": "EventDate",
                    "type": "null"
                  },
                  {
                    "name": "Year",
                    "type": "integer"
                  },
                  {
                    "name": "Latitude",
                    "type": "number"
                  },
                  {
                    "name": "Longitude",
                    "type": "number"
                  },
                  {
                    "name": "Address",
                    "type": "null"
                  },
                  {
                    "name": "IsDiscounted",
                    "type": "boolean"
                  }
                ],
                "primaryKey": [
                  "index"
                ]
              }
            }
          },
          "metadata": {
            "application/vnd.dataresource+json": {
              "size": 4,
              "_root": {
                "ownerID": {},
                "entries": [
                  [
                    "size",
                    1
                  ],
                  [
                    "_root",
                    {
                      "size": 2,
                      "_root": {
                        "ownerID": {},
                        "entries": [
                          [
                            "ownerID",
                            {
                              "size": 0,
                              "__altered": false
                            }
                          ],
                          [
                            "entries",
                            {
                              "size": 1,
                              "_origin": 0,
                              "_capacity": 1,
                              "_level": 5,
                              "_root": null,
                              "_tail": {
                                "array": [
                                  {
                                    "size": 2,
                                    "_origin": 0,
                                    "_capacity": 2,
                                    "_level": 5,
                                    "_root": null,
                                    "_tail": {
                                      "array": [
                                        "dx",
                                        {
                                          "size": 3,
                                          "_root": {
                                            "ownerID": {},
                                            "entries": [
                                              [
                                                "size",
                                                14
                                              ],
                                              [
                                                "_root",
                                                {
                                                  "size": 3,
                                                  "_root": {
                                                    "ownerID": {},
                                                    "entries": [
                                                      [
                                                        "ownerID",
                                                        {
                                                          "size": 0,
                                                          "__altered": false
                                                        }
                                                      ],
                                                      [
                                                        "bitmap",
                                                        1078182321
                                                      ],
                                                      [
                                                        "nodes",
                                                        {
                                                          "size": 11,
                                                          "_origin": 0,
                                                          "_capacity": 11,
                                                          "_level": 5,
                                                          "_root": null,
                                                          "_tail": {
                                                            "array": [
                                                              {
                                                                "size": 3,
                                                                "_root": {
                                                                  "ownerID": {},
                                                                  "entries": [
                                                                    [
                                                                      "ownerID",
                                                                      {
                                                                        "size": 0,
                                                                        "__altered": false
                                                                      }
                                                                    ],
                                                                    [
                                                                      "keyHash",
                                                                      -119117824
                                                                    ],
                                                                    [
                                                                      "entry",
                                                                      {
                                                                        "size": 2,
                                                                        "_origin": 0,
                                                                        "_capacity": 2,
                                                                        "_level": 5,
                                                                        "_root": null,
                                                                        "_tail": {
                                                                          "array": [
                                                                            "summaryType",
                                                                            "violin"
                                                                          ]
                                                                        },
                                                                        "__altered": false
                                                                      }
                                                                    ]
                                                                  ]
                                                                },
                                                                "__altered": false
                                                              },
                                                              {
                                                                "size": 3,
                                                                "_root": {
                                                                  "ownerID": {},
                                                                  "entries": [
                                                                    [
                                                                      "ownerID",
                                                                      {
                                                                        "size": 0,
                                                                        "__altered": false
                                                                      }
                                                                    ],
                                                                    [
                                                                      "keyHash",
                                                                      -345406460
                                                                    ],
                                                                    [
                                                                      "entry",
                                                                      {
                                                                        "size": 2,
                                                                        "_origin": 0,
                                                                        "_capacity": 2,
                                                                        "_level": 5,
                                                                        "_root": null,
                                                                        "_tail": {
                                                                          "array": [
                                                                            "marginalGraphics",
                                                                            "none"
                                                                          ]
                                                                        },
                                                                        "__altered": false
                                                                      }
                                                                    ]
                                                                  ]
                                                                },
                                                                "__altered": false
                                                              },
                                                              {
                                                                "size": 3,
                                                                "_root": {
                                                                  "ownerID": {},
                                                                  "entries": [
                                                                    [
                                                                      "ownerID",
                                                                      {
                                                                        "size": 0,
                                                                        "__altered": false
                                                                      }
                                                                    ],
                                                                    [
                                                                      "keyHash",
                                                                      3619493
                                                                    ],
                                                                    [
                                                                      "entry",
                                                                      {
                                                                        "size": 2,
                                                                        "_origin": 0,
                                                                        "_capacity": 2,
                                                                        "_level": 5,
                                                                        "_root": null,
                                                                        "_tail": {
                                                                          "array": [
                                                                            "view",
                                                                            "grid"
                                                                          ]
                                                                        },
                                                                        "__altered": false
                                                                      }
                                                                    ]
                                                                  ]
                                                                },
                                                                "__altered": false
                                                              },
                                                              {
                                                                "size": 3,
                                                                "_root": {
                                                                  "ownerID": {},
                                                                  "entries": [
                                                                    [
                                                                      "ownerID",
                                                                      {
                                                                        "size": 0,
                                                                        "__altered": false
                                                                      }
                                                                    ],
                                                                    [
                                                                      "keyHash",
                                                                      -592394905
                                                                    ],
                                                                    [
                                                                      "entry",
                                                                      {
                                                                        "size": 2,
                                                                        "_origin": 0,
                                                                        "_capacity": 2,
                                                                        "_level": 5,
                                                                        "_root": null,
                                                                        "_tail": {
                                                                          "array": [
                                                                            "areaType",
                                                                            "hexbin"
                                                                          ]
                                                                        },
                                                                        "__altered": false
                                                                      }
                                                                    ]
                                                                  ]
                                                                },
                                                                "__altered": false
                                                              },
                                                              {
                                                                "size": 3,
                                                                "_root": {
                                                                  "ownerID": {},
                                                                  "entries": [
                                                                    [
                                                                      "ownerID",
                                                                      {
                                                                        "size": 0,
                                                                        "__altered": false
                                                                      }
                                                                    ],
                                                                    [
                                                                      "bitmap",
                                                                      68165696
                                                                    ],
                                                                    [
                                                                      "nodes",
                                                                      {
                                                                        "size": 4,
                                                                        "_origin": 0,
                                                                        "_capacity": 4,
                                                                        "_level": 5,
                                                                        "_root": null,
                                                                        "_tail": {
                                                                          "array": [
                                                                            {
                                                                              "size": 3,
                                                                              "_root": {
                                                                                "ownerID": {},
                                                                                "entries": [
                                                                                  [
                                                                                    "ownerID",
                                                                                    {
                                                                                      "size": 0,
                                                                                      "__altered": false
                                                                                    }
                                                                                  ],
                                                                                  [
                                                                                    "keyHash",
                                                                                    -340014904
                                                                                  ],
                                                                                  [
                                                                                    "entry",
                                                                                    {
                                                                                      "size": 2,
                                                                                      "_origin": 0,
                                                                                      "_capacity": 2,
                                                                                      "_level": 5,
                                                                                      "_root": null,
                                                                                      "_tail": {
                                                                                        "array": [
                                                                                          "selectedDimensions",
                                                                                          {
                                                                                            "size": 7,
                                                                                            "_root": {
                                                                                              "ownerID": {},
                                                                                              "entries": [
                                                                                                [
                                                                                                  "size",
                                                                                                  1
                                                                                                ],
                                                                                                [
                                                                                                  "_origin",
                                                                                                  0
                                                                                                ],
                                                                                                [
                                                                                                  "_capacity",
                                                                                                  1
                                                                                                ],
                                                                                                [
                                                                                                  "_level",
                                                                                                  5
                                                                                                ],
                                                                                                [
                                                                                                  "_root",
                                                                                                  null
                                                                                                ],
                                                                                                [
                                                                                                  "_tail",
                                                                                                  {
                                                                                                    "size": 1,
                                                                                                    "_root": {
                                                                                                      "ownerID": {},
                                                                                                      "entries": [
                                                                                                        [
                                                                                                          "array",
                                                                                                          {
                                                                                                            "size": 1,
                                                                                                            "_origin": 0,
                                                                                                            "_capacity": 1,
                                                                                                            "_level": 5,
                                                                                                            "_root": null,
                                                                                                            "_tail": {
                                                                                                              "array": [
                                                                                                                "Item"
                                                                                                              ]
                                                                                                            },
                                                                                                            "__altered": false
                                                                                                          }
                                                                                                        ]
                                                                                                      ]
                                                                                                    },
                                                                                                    "__altered": false
                                                                                                  }
                                                                                                ],
                                                                                                [
                                                                                                  "__altered",
                                                                                                  false
                                                                                                ]
                                                                                              ]
                                                                                            },
                                                                                            "__altered": false
                                                                                          }
                                                                                        ]
                                                                                      },
                                                                                      "__altered": false
                                                                                    }
                                                                                  ]
                                                                                ]
                                                                              },
                                                                              "__altered": false
                                                                            },
                                                                            {
                                                                              "size": 3,
                                                                              "_root": {
                                                                                "ownerID": {},
                                                                                "entries": [
                                                                                  [
                                                                                    "ownerID",
                                                                                    {
                                                                                      "size": 0,
                                                                                      "__altered": false
                                                                                    }
                                                                                  ],
                                                                                  [
                                                                                    "keyHash",
                                                                                    390943144
                                                                                  ],
                                                                                  [
                                                                                    "entry",
                                                                                    {
                                                                                      "size": 2,
                                                                                      "_origin": 0,
                                                                                      "_capacity": 2,
                                                                                      "_level": 5,
                                                                                      "_root": null,
                                                                                      "_tail": {
                                                                                        "array": [
                                                                                          "selectedMetrics",
                                                                                          {
                                                                                            "size": 5,
                                                                                            "_root": {
                                                                                              "ownerID": {},
                                                                                              "entries": [
                                                                                                [
                                                                                                  "size",
                                                                                                  0
                                                                                                ],
                                                                                                [
                                                                                                  "_origin",
                                                                                                  0
                                                                                                ],
                                                                                                [
                                                                                                  "_capacity",
                                                                                                  0
                                                                                                ],
                                                                                                [
                                                                                                  "_level",
                                                                                                  5
                                                                                                ],
                                                                                                [
                                                                                                  "__altered",
                                                                                                  false
                                                                                                ]
                                                                                              ]
                                                                                            },
                                                                                            "__altered": false
                                                                                          }
                                                                                        ]
                                                                                      },
                                                                                      "__altered": false
                                                                                    }
                                                                                  ]
                                                                                ]
                                                                              },
                                                                              "__altered": false
                                                                            },
                                                                            {
                                                                              "size": 3,
                                                                              "_root": {
                                                                                "ownerID": {},
                                                                                "entries": [
                                                                                  [
                                                                                    "ownerID",
                                                                                    {
                                                                                      "size": 0,
                                                                                      "__altered": false
                                                                                    }
                                                                                  ],
                                                                                  [
                                                                                    "keyHash",
                                                                                    -866871672
                                                                                  ],
                                                                                  [
                                                                                    "entry",
                                                                                    {
                                                                                      "size": 2,
                                                                                      "_origin": 0,
                                                                                      "_capacity": 2,
                                                                                      "_level": 5,
                                                                                      "_root": null,
                                                                                      "_tail": {
                                                                                        "array": [
                                                                                          "networkType",
                                                                                          "force"
                                                                                        ]
                                                                                      },
                                                                                      "__altered": false
                                                                                    }
                                                                                  ]
                                                                                ]
                                                                              },
                                                                              "__altered": false
                                                                            },
                                                                            {
                                                                              "size": 3,
                                                                              "_root": {
                                                                                "ownerID": {},
                                                                                "entries": [
                                                                                  [
                                                                                    "ownerID",
                                                                                    {
                                                                                      "size": 0,
                                                                                      "__altered": false
                                                                                    }
                                                                                  ],
                                                                                  [
                                                                                    "keyHash",
                                                                                    113796936
                                                                                  ],
                                                                                  [
                                                                                    "entry",
                                                                                    {
                                                                                      "size": 2,
                                                                                      "_origin": 0,
                                                                                      "_capacity": 2,
                                                                                      "_level": 5,
                                                                                      "_root": null,
                                                                                      "_tail": {
                                                                                        "array": [
                                                                                          "pieceType",
                                                                                          "bar"
                                                                                        ]
                                                                                      },
                                                                                      "__altered": false
                                                                                    }
                                                                                  ]
                                                                                ]
                                                                              },
                                                                              "__altered": false
                                                                            }
                                                                          ]
                                                                        },
                                                                        "__altered": false
                                                                      }
                                                                    ]
                                                                  ]
                                                                },
                                                                "__altered": false
                                                              },
                                                              {
                                                                "size": 3,
                                                                "_root": {
                                                                  "ownerID": {},
                                                                  "entries": [
                                                                    [
                                                                      "ownerID",
                                                                      {
                                                                        "size": 0,
                                                                        "__altered": false
                                                                      }
                                                                    ],
                                                                    [
                                                                      "keyHash",
                                                                      114923854
                                                                    ],
                                                                    [
                                                                      "entry",
                                                                      {
                                                                        "size": 2,
                                                                        "_origin": 0,
                                                                        "_capacity": 2,
                                                                        "_level": 5,
                                                                        "_root": null,
                                                                        "_tail": {
                                                                          "array": [
                                                                            "lineType",
                                                                            "line"
                                                                          ]
                                                                        },
                                                                        "__altered": false
                                                                      }
                                                                    ]
                                                                  ]
                                                                },
                                                                "__altered": false
                                                              },
                                                              {
                                                                "size": 3,
                                                                "_root": {
                                                                  "ownerID": {},
                                                                  "entries": [
                                                                    [
                                                                      "ownerID",
                                                                      {
                                                                        "size": 0,
                                                                        "__altered": false
                                                                      }
                                                                    ],
                                                                    [
                                                                      "keyHash",
                                                                      831288079
                                                                    ],
                                                                    [
                                                                      "entry",
                                                                      {
                                                                        "size": 2,
                                                                        "_origin": 0,
                                                                        "_capacity": 2,
                                                                        "_level": 5,
                                                                        "_root": null,
                                                                        "_tail": {
                                                                          "array": [
                                                                            "hierarchyType",
                                                                            "dendrogram"
                                                                          ]
                                                                        },
                                                                        "__altered": false
                                                                      }
                                                                    ]
                                                                  ]
                                                                },
                                                                "__altered": false
                                                              },
                                                              {
                                                                "size": 3,
                                                                "_root": {
                                                                  "ownerID": {},
                                                                  "entries": [
                                                                    [
                                                                      "ownerID",
                                                                      {
                                                                        "size": 0,
                                                                        "__altered": false
                                                                      }
                                                                    ],
                                                                    [
                                                                      "keyHash",
                                                                      -281100944
                                                                    ],
                                                                    [
                                                                      "entry",
                                                                      {
                                                                        "size": 2,
                                                                        "_origin": 0,
                                                                        "_capacity": 2,
                                                                        "_level": 5,
                                                                        "_root": null,
                                                                        "_tail": {
                                                                          "array": [
                                                                            "colors",
                                                                            {
                                                                              "size": 7,
                                                                              "_root": {
                                                                                "ownerID": {},
                                                                                "entries": [
                                                                                  [
                                                                                    "size",
                                                                                    19
                                                                                  ],
                                                                                  [
                                                                                    "_origin",
                                                                                    0
                                                                                  ],
                                                                                  [
                                                                                    "_capacity",
                                                                                    19
                                                                                  ],
                                                                                  [
                                                                                    "_level",
                                                                                    5
                                                                                  ],
                                                                                  [
                                                                                    "_root",
                                                                                    null
                                                                                  ],
                                                                                  [
                                                                                    "_tail",
                                                                                    {
                                                                                      "size": 1,
                                                                                      "_root": {
                                                                                        "ownerID": {},
                                                                                        "entries": [
                                                                                          [
                                                                                            "array",
                                                                                            {
                                                                                              "size": 19,
                                                                                              "_origin": 0,
                                                                                              "_capacity": 19,
                                                                                              "_level": 5,
                                                                                              "_root": null,
                                                                                              "_tail": {
                                                                                                "array": [
                                                                                                  "#DA752E",
                                                                                                  "#E5C209",
                                                                                                  "#1441A0",
                                                                                                  "#B86117",
                                                                                                  "#4D430C",
                                                                                                  "#1DB390",
                                                                                                  "#B3331D",
                                                                                                  "#088EB2",
                                                                                                  "#417505",
                                                                                                  "#E479A8",
                                                                                                  "#F9F39E",
                                                                                                  "#5782DC",
                                                                                                  "#EBA97B",
                                                                                                  "#A2AB60",
                                                                                                  "#B291CF",
                                                                                                  "#8DD2C2",
                                                                                                  "#E6A19F",
                                                                                                  "#3DC7E0",
                                                                                                  "#98CE5B"
                                                                                                ]
                                                                                              },
                                                                                              "__altered": false
                                                                                            }
                                                                                          ]
                                                                                        ]
                                                                                      },
                                                                                      "__altered": false
                                                                                    }
                                                                                  ],
                                                                                  [
                                                                                    "__altered",
                                                                                    false
                                                                                  ]
                                                                                ]
                                                                              },
                                                                              "__altered": false
                                                                            }
                                                                          ]
                                                                        },
                                                                        "__altered": false
                                                                      }
                                                                    ]
                                                                  ]
                                                                },
                                                                "__altered": false
                                                              },
                                                              {
                                                                "size": 3,
                                                                "_root": {
                                                                  "ownerID": {},
                                                                  "entries": [
                                                                    [
                                                                      "ownerID",
                                                                      {
                                                                        "size": 0,
                                                                        "__altered": false
                                                                      }
                                                                    ],
                                                                    [
                                                                      "keyHash",
                                                                      293080881
                                                                    ],
                                                                    [
                                                                      "entry",
                                                                      {
                                                                        "size": 2,
                                                                        "_origin": 0,
                                                                        "_capacity": 2,
                                                                        "_level": 5,
                                                                        "_root": null,
                                                                        "_tail": {
                                                                          "array": [
                                                                            "trendLine",
                                                                            "none"
                                                                          ]
                                                                        },
                                                                        "__altered": false
                                                                      }
                                                                    ]
                                                                  ]
                                                                },
                                                                "__altered": false
                                                              },
                                                              {
                                                                "size": 3,
                                                                "_root": {
                                                                  "ownerID": {},
                                                                  "entries": [
                                                                    [
                                                                      "ownerID",
                                                                      {
                                                                        "size": 0,
                                                                        "__altered": false
                                                                      }
                                                                    ],
                                                                    [
                                                                      "keyHash",
                                                                      -136136138
                                                                    ],
                                                                    [
                                                                      "entry",
                                                                      {
                                                                        "size": 2,
                                                                        "_origin": 0,
                                                                        "_capacity": 2,
                                                                        "_level": 5,
                                                                        "_root": null,
                                                                        "_tail": {
                                                                          "array": [
                                                                            "barGrouping",
                                                                            "Clustered"
                                                                          ]
                                                                        },
                                                                        "__altered": false
                                                                      }
                                                                    ]
                                                                  ]
                                                                },
                                                                "__altered": false
                                                              },
                                                              {
                                                                "size": 3,
                                                                "_root": {
                                                                  "ownerID": {},
                                                                  "entries": [
                                                                    [
                                                                      "ownerID",
                                                                      {
                                                                        "size": 0,
                                                                        "__altered": false
                                                                      }
                                                                    ],
                                                                    [
                                                                      "keyHash",
                                                                      94623710
                                                                    ],
                                                                    [
                                                                      "entry",
                                                                      {
                                                                        "size": 2,
                                                                        "_origin": 0,
                                                                        "_capacity": 2,
                                                                        "_level": 5,
                                                                        "_root": null,
                                                                        "_tail": {
                                                                          "array": [
                                                                            "chart",
                                                                            {
                                                                              "size": 3,
                                                                              "_root": {
                                                                                "ownerID": {},
                                                                                "entries": [
                                                                                  [
                                                                                    "size",
                                                                                    9
                                                                                  ],
                                                                                  [
                                                                                    "_root",
                                                                                    {
                                                                                      "size": 3,
                                                                                      "_root": {
                                                                                        "ownerID": {},
                                                                                        "entries": [
                                                                                          [
                                                                                            "ownerID",
                                                                                            {
                                                                                              "size": 0,
                                                                                              "__altered": false
                                                                                            }
                                                                                          ],
                                                                                          [
                                                                                            "bitmap",
                                                                                            3678
                                                                                          ],
                                                                                          [
                                                                                            "nodes",
                                                                                            {
                                                                                              "size": 8,
                                                                                              "_origin": 0,
                                                                                              "_capacity": 8,
                                                                                              "_level": 5,
                                                                                              "_root": null,
                                                                                              "_tail": {
                                                                                                "array": [
                                                                                                  {
                                                                                                    "size": 3,
                                                                                                    "_root": {
                                                                                                      "ownerID": {},
                                                                                                      "entries": [
                                                                                                        [
                                                                                                          "ownerID",
                                                                                                          {
                                                                                                            "size": 0,
                                                                                                            "__altered": false
                                                                                                          }
                                                                                                        ],
                                                                                                        [
                                                                                                          "keyHash",
                                                                                                          955826305
                                                                                                        ],
                                                                                                        [
                                                                                                          "entry",
                                                                                                          {
                                                                                                            "size": 2,
                                                                                                            "_origin": 0,
                                                                                                            "_capacity": 2,
                                                                                                            "_level": 5,
                                                                                                            "_root": null,
                                                                                                            "_tail": {
                                                                                                              "array": [
                                                                                                                "metric1",
                                                                                                                "CartID"
                                                                                                              ]
                                                                                                            },
                                                                                                            "__altered": false
                                                                                                          }
                                                                                                        ]
                                                                                                      ]
                                                                                                    },
                                                                                                    "__altered": false
                                                                                                  },
                                                                                                  {
                                                                                                    "size": 3,
                                                                                                    "_root": {
                                                                                                      "ownerID": {},
                                                                                                      "entries": [
                                                                                                        [
                                                                                                          "ownerID",
                                                                                                          {
                                                                                                            "size": 0,
                                                                                                            "__altered": false
                                                                                                          }
                                                                                                        ],
                                                                                                        [
                                                                                                          "bitmap",
                                                                                                          67108880
                                                                                                        ],
                                                                                                        [
                                                                                                          "nodes",
                                                                                                          {
                                                                                                            "size": 2,
                                                                                                            "_origin": 0,
                                                                                                            "_capacity": 2,
                                                                                                            "_level": 5,
                                                                                                            "_root": null,
                                                                                                            "_tail": {
                                                                                                              "array": [
                                                                                                                {
                                                                                                                  "size": 3,
                                                                                                                  "_root": {
                                                                                                                    "ownerID": {},
                                                                                                                    "entries": [
                                                                                                                      [
                                                                                                                        "ownerID",
                                                                                                                        {
                                                                                                                          "size": 0,
                                                                                                                          "__altered": false
                                                                                                                        }
                                                                                                                      ],
                                                                                                                      [
                                                                                                                        "keyHash",
                                                                                                                        955826306
                                                                                                                      ],
                                                                                                                      [
                                                                                                                        "entry",
                                                                                                                        {
                                                                                                                          "size": 2,
                                                                                                                          "_origin": 0,
                                                                                                                          "_capacity": 2,
                                                                                                                          "_level": 5,
                                                                                                                          "_root": null,
                                                                                                                          "_tail": {
                                                                                                                            "array": [
                                                                                                                              "metric2",
                                                                                                                              "Action"
                                                                                                                            ]
                                                                                                                          },
                                                                                                                          "__altered": false
                                                                                                                        }
                                                                                                                      ]
                                                                                                                    ]
                                                                                                                  },
                                                                                                                  "__altered": false
                                                                                                                },
                                                                                                                {
                                                                                                                  "size": 3,
                                                                                                                  "_root": {
                                                                                                                    "ownerID": {},
                                                                                                                    "entries": [
                                                                                                                      [
                                                                                                                        "ownerID",
                                                                                                                        {
                                                                                                                          "size": 0,
                                                                                                                          "__altered": false
                                                                                                                        }
                                                                                                                      ],
                                                                                                                      [
                                                                                                                        "keyHash",
                                                                                                                        346180418
                                                                                                                      ],
                                                                                                                      [
                                                                                                                        "entry",
                                                                                                                        {
                                                                                                                          "size": 2,
                                                                                                                          "_origin": 0,
                                                                                                                          "_capacity": 2,
                                                                                                                          "_level": 5,
                                                                                                                          "_root": null,
                                                                                                                          "_tail": {
                                                                                                                            "array": [
                                                                                                                              "timeseriesSort",
                                                                                                                              "array-order"
                                                                                                                            ]
                                                                                                                          },
                                                                                                                          "__altered": false
                                                                                                                        }
                                                                                                                      ]
                                                                                                                    ]
                                                                                                                  },
                                                                                                                  "__altered": false
                                                                                                                }
                                                                                                              ]
                                                                                                            },
                                                                                                            "__altered": false
                                                                                                          }
                                                                                                        ]
                                                                                                      ]
                                                                                                    },
                                                                                                    "__altered": false
                                                                                                  },
                                                                                                  {
                                                                                                    "size": 3,
                                                                                                    "_root": {
                                                                                                      "ownerID": {},
                                                                                                      "entries": [
                                                                                                        [
                                                                                                          "ownerID",
                                                                                                          {
                                                                                                            "size": 0,
                                                                                                            "__altered": false
                                                                                                          }
                                                                                                        ],
                                                                                                        [
                                                                                                          "keyHash",
                                                                                                          955826307
                                                                                                        ],
                                                                                                        [
                                                                                                          "entry",
                                                                                                          {
                                                                                                            "size": 2,
                                                                                                            "_origin": 0,
                                                                                                            "_capacity": 2,
                                                                                                            "_level": 5,
                                                                                                            "_root": null,
                                                                                                            "_tail": {
                                                                                                              "array": [
                                                                                                                "metric3",
                                                                                                                "none"
                                                                                                              ]
                                                                                                            },
                                                                                                            "__altered": false
                                                                                                          }
                                                                                                        ]
                                                                                                      ]
                                                                                                    },
                                                                                                    "__altered": false
                                                                                                  },
                                                                                                  {
                                                                                                    "size": 3,
                                                                                                    "_root": {
                                                                                                      "ownerID": {},
                                                                                                      "entries": [
                                                                                                        [
                                                                                                          "ownerID",
                                                                                                          {
                                                                                                            "size": 0,
                                                                                                            "__altered": false
                                                                                                          }
                                                                                                        ],
                                                                                                        [
                                                                                                          "keyHash",
                                                                                                          955826308
                                                                                                        ],
                                                                                                        [
                                                                                                          "entry",
                                                                                                          {
                                                                                                            "size": 2,
                                                                                                            "_origin": 0,
                                                                                                            "_capacity": 2,
                                                                                                            "_level": 5,
                                                                                                            "_root": null,
                                                                                                            "_tail": {
                                                                                                              "array": [
                                                                                                                "metric4",
                                                                                                                "none"
                                                                                                              ]
                                                                                                            },
                                                                                                            "__altered": false
                                                                                                          }
                                                                                                        ]
                                                                                                      ]
                                                                                                    },
                                                                                                    "__altered": false
                                                                                                  },
                                                                                                  {
                                                                                                    "size": 3,
                                                                                                    "_root": {
                                                                                                      "ownerID": {},
                                                                                                      "entries": [
                                                                                                        [
                                                                                                          "ownerID",
                                                                                                          {
                                                                                                            "size": 0,
                                                                                                            "__altered": false
                                                                                                          }
                                                                                                        ],
                                                                                                        [
                                                                                                          "keyHash",
                                                                                                          -37592730
                                                                                                        ],
                                                                                                        [
                                                                                                          "entry",
                                                                                                          {
                                                                                                            "size": 2,
                                                                                                            "_origin": 0,
                                                                                                            "_capacity": 2,
                                                                                                            "_level": 5,
                                                                                                            "_root": null,
                                                                                                            "_tail": {
                                                                                                              "array": [
                                                                                                                "networkLabel",
                                                                                                                "none"
                                                                                                              ]
                                                                                                            },
                                                                                                            "__altered": false
                                                                                                          }
                                                                                                        ]
                                                                                                      ]
                                                                                                    },
                                                                                                    "__altered": false
                                                                                                  },
                                                                                                  {
                                                                                                    "size": 3,
                                                                                                    "_root": {
                                                                                                      "ownerID": {},
                                                                                                      "entries": [
                                                                                                        [
                                                                                                          "ownerID",
                                                                                                          {
                                                                                                            "size": 0,
                                                                                                            "__altered": false
                                                                                                          }
                                                                                                        ],
                                                                                                        [
                                                                                                          "keyHash",
                                                                                                          3083433
                                                                                                        ],
                                                                                                        [
                                                                                                          "entry",
                                                                                                          {
                                                                                                            "size": 2,
                                                                                                            "_origin": 0,
                                                                                                            "_capacity": 2,
                                                                                                            "_level": 5,
                                                                                                            "_root": null,
                                                                                                            "_tail": {
                                                                                                              "array": [
                                                                                                                "dim1",
                                                                                                                "Item"
                                                                                                              ]
                                                                                                            },
                                                                                                            "__altered": false
                                                                                                          }
                                                                                                        ]
                                                                                                      ]
                                                                                                    },
                                                                                                    "__altered": false
                                                                                                  },
                                                                                                  {
                                                                                                    "size": 3,
                                                                                                    "_root": {
                                                                                                      "ownerID": {},
                                                                                                      "entries": [
                                                                                                        [
                                                                                                          "ownerID",
                                                                                                          {
                                                                                                            "size": 0,
                                                                                                            "__altered": false
                                                                                                          }
                                                                                                        ],
                                                                                                        [
                                                                                                          "keyHash",
                                                                                                          3083434
                                                                                                        ],
                                                                                                        [
                                                                                                          "entry",
                                                                                                          {
                                                                                                            "size": 2,
                                                                                                            "_origin": 0,
                                                                                                            "_capacity": 2,
                                                                                                            "_level": 5,
                                                                                                            "_root": null,
                                                                                                            "_tail": {
                                                                                                              "array": [
                                                                                                                "dim2",
                                                                                                                "Country"
                                                                                                              ]
                                                                                                            },
                                                                                                            "__altered": false
                                                                                                          }
                                                                                                        ]
                                                                                                      ]
                                                                                                    },
                                                                                                    "__altered": false
                                                                                                  },
                                                                                                  {
                                                                                                    "size": 3,
                                                                                                    "_root": {
                                                                                                      "ownerID": {},
                                                                                                      "entries": [
                                                                                                        [
                                                                                                          "ownerID",
                                                                                                          {
                                                                                                            "size": 0,
                                                                                                            "__altered": false
                                                                                                          }
                                                                                                        ],
                                                                                                        [
                                                                                                          "keyHash",
                                                                                                          3083435
                                                                                                        ],
                                                                                                        [
                                                                                                          "entry",
                                                                                                          {
                                                                                                            "size": 2,
                                                                                                            "_origin": 0,
                                                                                                            "_capacity": 2,
                                                                                                            "_level": 5,
                                                                                                            "_root": null,
                                                                                                            "_tail": {
                                                                                                              "array": [
                                                                                                                "dim3",
                                                                                                                "none"
                                                                                                              ]
                                                                                                            },
                                                                                                            "__altered": false
                                                                                                          }
                                                                                                        ]
                                                                                                      ]
                                                                                                    },
                                                                                                    "__altered": false
                                                                                                  }
                                                                                                ]
                                                                                              },
                                                                                              "__altered": false
                                                                                            }
                                                                                          ]
                                                                                        ]
                                                                                      },
                                                                                      "__altered": false
                                                                                    }
                                                                                  ],
                                                                                  [
                                                                                    "__altered",
                                                                                    false
                                                                                  ]
                                                                                ]
                                                                              },
                                                                              "__altered": false
                                                                            }
                                                                          ]
                                                                        },
                                                                        "__altered": false
                                                                      }
                                                                    ]
                                                                  ]
                                                                },
                                                                "__altered": false
                                                              }
                                                            ]
                                                          },
                                                          "__altered": false
                                                        }
                                                      ]
                                                    ]
                                                  },
                                                  "__altered": false
                                                }
                                              ],
                                              [
                                                "__altered",
                                                false
                                              ]
                                            ]
                                          },
                                          "__altered": false
                                        }
                                      ]
                                    },
                                    "__altered": false
                                  }
                                ]
                              },
                              "__altered": false
                            }
                          ]
                        ]
                      },
                      "__altered": false
                    }
                  ],
                  [
                    "__altered",
                    false
                  ],
                  [
                    "dx",
                    {
                      "size": 14,
                      "_root": {
                        "ownerID": {},
                        "bitmap": 1078182321,
                        "nodes": [
                          {
                            "ownerID": {},
                            "keyHash": -119117824,
                            "entry": [
                              "summaryType",
                              "violin"
                            ]
                          },
                          {
                            "ownerID": {},
                            "keyHash": -345406460,
                            "entry": [
                              "marginalGraphics",
                              "none"
                            ]
                          },
                          {
                            "ownerID": {},
                            "keyHash": 3619493,
                            "entry": [
                              "view",
                              "grid"
                            ]
                          },
                          {
                            "ownerID": {},
                            "keyHash": -592394905,
                            "entry": [
                              "areaType",
                              "hexbin"
                            ]
                          },
                          {
                            "ownerID": {},
                            "bitmap": 68165696,
                            "nodes": [
                              {
                                "ownerID": {},
                                "keyHash": -340014904,
                                "entry": [
                                  "selectedDimensions",
                                  {
                                    "size": 1,
                                    "_origin": 0,
                                    "_capacity": 1,
                                    "_level": 5,
                                    "_root": null,
                                    "_tail": {
                                      "array": [
                                        "Item"
                                      ]
                                    },
                                    "__altered": false
                                  }
                                ]
                              },
                              {
                                "ownerID": {},
                                "keyHash": 390943144,
                                "entry": [
                                  "selectedMetrics",
                                  {
                                    "size": 0,
                                    "_origin": 0,
                                    "_capacity": 0,
                                    "_level": 5,
                                    "__altered": false
                                  }
                                ]
                              },
                              {
                                "ownerID": {},
                                "keyHash": -866871672,
                                "entry": [
                                  "networkType",
                                  "force"
                                ]
                              },
                              {
                                "ownerID": {},
                                "keyHash": 113796936,
                                "entry": [
                                  "pieceType",
                                  "bar"
                                ]
                              }
                            ]
                          },
                          {
                            "ownerID": {},
                            "keyHash": 114923854,
                            "entry": [
                              "lineType",
                              "line"
                            ]
                          },
                          {
                            "ownerID": {},
                            "keyHash": 831288079,
                            "entry": [
                              "hierarchyType",
                              "dendrogram"
                            ]
                          },
                          {
                            "ownerID": {},
                            "keyHash": -281100944,
                            "entry": [
                              "colors",
                              {
                                "size": 19,
                                "_origin": 0,
                                "_capacity": 19,
                                "_level": 5,
                                "_root": null,
                                "_tail": {
                                  "array": [
                                    "#DA752E",
                                    "#E5C209",
                                    "#1441A0",
                                    "#B86117",
                                    "#4D430C",
                                    "#1DB390",
                                    "#B3331D",
                                    "#088EB2",
                                    "#417505",
                                    "#E479A8",
                                    "#F9F39E",
                                    "#5782DC",
                                    "#EBA97B",
                                    "#A2AB60",
                                    "#B291CF",
                                    "#8DD2C2",
                                    "#E6A19F",
                                    "#3DC7E0",
                                    "#98CE5B"
                                  ]
                                },
                                "__altered": false
                              }
                            ]
                          },
                          {
                            "ownerID": {},
                            "keyHash": 293080881,
                            "entry": [
                              "trendLine",
                              "none"
                            ]
                          },
                          {
                            "ownerID": {},
                            "keyHash": -136136138,
                            "entry": [
                              "barGrouping",
                              "Clustered"
                            ]
                          },
                          {
                            "ownerID": {},
                            "keyHash": 94623710,
                            "entry": [
                              "chart",
                              {
                                "size": 9,
                                "_root": {
                                  "ownerID": {},
                                  "bitmap": 3678,
                                  "nodes": [
                                    {
                                      "ownerID": {},
                                      "keyHash": 955826305,
                                      "entry": [
                                        "metric1",
                                        "CartID"
                                      ]
                                    },
                                    {
                                      "ownerID": {},
                                      "bitmap": 67108880,
                                      "nodes": [
                                        {
                                          "ownerID": {},
                                          "keyHash": 955826306,
                                          "entry": [
                                            "metric2",
                                            "Action"
                                          ]
                                        },
                                        {
                                          "ownerID": {},
                                          "keyHash": 346180418,
                                          "entry": [
                                            "timeseriesSort",
                                            "array-order"
                                          ]
                                        }
                                      ]
                                    },
                                    {
                                      "ownerID": {},
                                      "keyHash": 955826307,
                                      "entry": [
                                        "metric3",
                                        "none"
                                      ]
                                    },
                                    {
                                      "ownerID": {},
                                      "keyHash": 955826308,
                                      "entry": [
                                        "metric4",
                                        "none"
                                      ]
                                    },
                                    {
                                      "ownerID": {},
                                      "keyHash": -37592730,
                                      "entry": [
                                        "networkLabel",
                                        "none"
                                      ]
                                    },
                                    {
                                      "ownerID": {},
                                      "keyHash": 3083433,
                                      "entry": [
                                        "dim1",
                                        "Item"
                                      ]
                                    },
                                    {
                                      "ownerID": {},
                                      "keyHash": 3083434,
                                      "entry": [
                                        "dim2",
                                        "Country"
                                      ]
                                    },
                                    {
                                      "ownerID": {},
                                      "keyHash": 3083435,
                                      "entry": [
                                        "dim3",
                                        "none"
                                      ]
                                    }
                                  ]
                                },
                                "__altered": false
                              }
                            ]
                          }
                        ]
                      },
                      "__altered": false
                    }
                  ]
                ]
              },
              "__altered": false,
              "dx": {
                "summaryType": "violin",
                "marginalGraphics": "none",
                "view": "grid",
                "areaType": "hexbin",
                "selectedDimensions": [
                  "Item"
                ],
                "selectedMetrics": [],
                "networkType": "force",
                "pieceType": "bar",
                "lineType": "line",
                "hierarchyType": "dendrogram",
                "colors": [
                  "#DA752E",
                  "#E5C209",
                  "#1441A0",
                  "#B86117",
                  "#4D430C",
                  "#1DB390",
                  "#B3331D",
                  "#088EB2",
                  "#417505",
                  "#E479A8",
                  "#F9F39E",
                  "#5782DC",
                  "#EBA97B",
                  "#A2AB60",
                  "#B291CF",
                  "#8DD2C2",
                  "#E6A19F",
                  "#3DC7E0",
                  "#98CE5B"
                ],
                "trendLine": "none",
                "barGrouping": "Clustered",
                "chart": {
                  "metric1": "CartID",
                  "metric2": "Action",
                  "timeseriesSort": "array-order",
                  "metric3": "none",
                  "metric4": "none",
                  "networkLabel": "none",
                  "dim1": "Item",
                  "dim2": "Country",
                  "dim3": "none"
                }
              }
            }
          }
        }
      ],
      "execution_count": 9,
      "metadata": {
        "collapsed": true,
        "jupyter": {
          "source_hidden": false,
          "outputs_hidden": false
        },
        "nteract": {
          "transient": {
            "deleting": false
          }
        },
        "execution": {
          "iopub.status.busy": "2021-11-30T22:36:09.402Z",
          "iopub.status.idle": "2021-11-30T22:36:09.477Z",
          "shell.execute_reply": "2021-11-30T22:36:09.497Z"
        }
      },
      "id": "05d73c9b-247c-43ed-9185-7874d831e13b"
    }
  ],
  "metadata": {
    "language_info": {
      "name": "csharp",
      "version": "7.3",
      "mimetype": "application/json",
      "file_extension": "ipynb",
      "codemirror_mode": "text/x-csharp"
    },
    "nteract": {
      "version": "dataExplorer 1.0"
    },
    "kernelspec": {
      "name": "csharp",
      "displayName": "CSharp",
      "language": "csharp"
    }
  },
  "nbformat": 4,
  "nbformat_minor": 5
}