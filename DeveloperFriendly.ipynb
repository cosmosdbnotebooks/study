{
  "cells": [
    {
      "cell_type": "markdown",
      "source": [
        "# Get started with Azure Cosmos DB development\n",
        "\n",
        "Built-in Jupyter notebooks in Azure Cosmos DB allow to easily ingest and view your data - all within the Azure Portal. In this notebook, we'll learn how to create an Azure Cosmos container, ingest data, and query data.\n",
        "\n",
        "To run this C# notebook, be sure to select the **CSharp** kernel in the command bar, so we can get all the language support features we need.\n"
      ],
      "metadata": {
        "nteract": {
          "transient": {
            "deleting": false
          }
        }
      },
      "id": "6fbe2861-7208-4c93-9183-02096bd1f6b2"
    },
    {
      "cell_type": "markdown",
      "source": [
        "## Create database and containers\n",
        "First, we'll create a new database and container to hold our data. Note when we create the container, we select a value for the partition key: we'll partition our data by the item id value, as it has a high cardinality (important for workloads during a lot of writes, e.g. IOT workloads) and evenly distributes the request and storage volume. Choosing a good partition key is \"key\" to getting good scale and performance from Azure Cosmos DB, so it's important we follow the [best practices](https://docs.microsoft.com/azure/cosmos-db/partitioning-overview)!\n",
        "\n",
        "### The type of container this will create depends on the capacity mode of your Cosmos DB account:\n",
        "- On a provisioned throughput account, this will create a container provisioned at 400 RU/s, the minimum RU/s for any provisioned throughput container.\n",
        "- On a serverless account, this will create a serverless container."
      ],
      "metadata": {
        "nteract": {
          "transient": {
            "deleting": false
          }
        }
      },
      "id": "8ba5f9b6-0bbf-4c10-a4ee-f1616c91d4af"
    },
    {
      "cell_type": "code",
      "source": [
        "using System;\n",
        "using Microsoft.Azure.Cosmos;\n",
        "using System.Collections;\n",
        "\n",
        "// Initialize a new instance of CosmosClient using the built-in account endpoint and key parameters\n",
        "CosmosClient cosmosClient = new CosmosClient(Cosmos.Endpoint, Cosmos.Key);\n",
        "\n",
        "// Create a new database and a new container\n",
        "Microsoft.Azure.Cosmos.Database database = await cosmosClient.CreateDatabaseIfNotExistsAsync(\"WebsiteData\");\n",
        "Container container = await database.CreateContainerIfNotExistsAsync(\"Sales\", \"/id\");\n",
        "\n",
        "Display.AsMarkdown(@\"\n",
        "Created database WebsiteData and container Sales. You can see these new resources by refreshing your resource pane under the Data section.\n",
        "\");"
      ],
      "outputs": [
        {
          "output_type": "execute_result",
          "execution_count": 29,
          "data": {},
          "metadata": {}
        },
        {
          "output_type": "display_data",
          "data": {
            "text/plain": "<IPython.core.display.Markdown object>",
            "text/markdown": "\nCreated database WebsiteData and container Sales. You can see these new resources by refreshing your resource pane under the Data section.\n"
          },
          "metadata": {}
        }
      ],
      "execution_count": 2,
      "metadata": {
        "collapsed": true,
        "jupyter": {
          "source_hidden": false,
          "outputs_hidden": false
        },
        "nteract": {
          "transient": {
            "deleting": false
          }
        },
        "execution": {
          "iopub.status.busy": "2021-11-16T23:52:12.583Z",
          "iopub.execute_input": "2021-11-16T23:52:12.606Z",
          "iopub.status.idle": "2021-11-16T23:52:12.622Z",
          "shell.execute_reply": "2021-11-16T23:52:12.675Z"
        }
      },
      "id": "eced2e04-0b5c-4c65-b3f9-8d32a1ad4e0c"
    },
    {
      "cell_type": "code",
      "source": [
        "// Creating custom classes to use later\n",
        " public class ItemSale\n",
        "    {\n",
        "        public string id { get; set; }\n",
        "        public int CartID { get; set; }\n",
        "        public ActionType Action { get; set; }\n",
        "        public string Item { get; set; }\n",
        "        public double Price { get; set; }\n",
        "        public string UserName { get; set; }\n",
        "        public string Country { get; set; }\n",
        "        public string EventDate { get; set; }\n",
        "        public int Year { get; set; }\n",
        "        public double Latitude { get; set; }\n",
        "        public double Longitude { get; set; }\n",
        "        public string Address { get; set; }\n",
        "        public bool IsDiscounted { get; set; }\n",
        "    }    \n",
        "\n",
        "    public enum ActionType\n",
        "    {\n",
        "        Viewed,\n",
        "        Added,\n",
        "        Purchased\n",
        "    }"
      ],
      "outputs": [
        {
          "output_type": "execute_result",
          "execution_count": 41,
          "data": {},
          "metadata": {}
        }
      ],
      "execution_count": 41,
      "metadata": {
        "collapsed": true,
        "jupyter": {
          "source_hidden": false,
          "outputs_hidden": false
        },
        "nteract": {
          "transient": {
            "deleting": false
          }
        },
        "execution": {
          "iopub.status.busy": "2021-11-16T23:54:11.699Z",
          "iopub.status.idle": "2021-11-16T23:54:11.756Z",
          "shell.execute_reply": "2021-11-16T23:54:11.768Z"
        }
      },
      "id": "131a66e2-4d64-4e55-b7be-6c5d5a3ac6a5"
    },
    {
      "cell_type": "code",
      "source": [
        "%%upload --databaseName WebsiteData --containerName Sales --url https://cosmosnotebooksdata.blob.core.windows.net/notebookdata/websiteData-small.json"
      ],
      "outputs": [
        {
          "output_type": "display_data",
          "data": {
            "text/html": "\r\n<span style='color:#0078D4'>\r\nDocuments successfully uploaded to Sales <br/>\r\nTotal number of documents imported:<br/>\r\n&nbsp;&nbsp;Success: <b>7</b> <br/>\r\n&nbsp;&nbsp;Failure: <b>0</b> <br/>\r\nTotal time taken : <b>00:00:00</b> hours <br/>\r\nTotal RUs consumed : <b>74.69</b> <br/>\r\n<br/>\r\n</span>\r\n"
          },
          "metadata": {}
        }
      ],
      "execution_count": 31,
      "metadata": {
        "collapsed": true,
        "jupyter": {
          "source_hidden": false,
          "outputs_hidden": false
        },
        "nteract": {
          "transient": {
            "deleting": false
          }
        },
        "execution": {
          "iopub.status.busy": "2021-11-16T23:52:14.374Z",
          "iopub.status.idle": "2021-11-16T23:52:14.895Z",
          "shell.execute_reply": "2021-11-16T23:52:14.905Z"
        }
      },
      "id": "d5839f59-1de1-4475-a89d-1ad7d2309dac"
    },
    {
      "cell_type": "markdown",
      "source": [
        "## Querying your data\n",
        "\n",
        "Next, we'll write some SQL queries to explore the data in the Sales container. In Azure Cosmos DB SQL API, you can query your data with SQL queries. Azure Cosmos DB SQL is different from the ANSI SQL you might already be familiar with because it's designed for querying JSON documents, as opposed to relational database tables. However, most SQL concepts still apply in Azure Cosmos DB and if you're already familar with SQL, it is easy to learn how to write queries in Azure Cosmos DB.\n",
        "\n",
        "### The below examples will explore basic query features in Azure Cosmos DB. Here are some things to keep in mind:\n",
        "\n",
        "    - Azure Cosmos DB indexes all properties by default, so you don't need to manually create indexes. Later on, you can remove unused indexes and add on composite indexes to further improve query performance\n",
        "    - You don't need to be an expert in database performance to run queries in Azure Cosmos DB. There's virtually no query tuning required and queries automatically use indexes.\n",
        "    - All queries deduct from your per-second budget of request units (RUs). Queries that are more complex or have higher latency tend to consume more RUs. All queries consume at least 2 RUs.\n"
      ],
      "metadata": {
        "nteract": {
          "transient": {
            "deleting": false
          }
        }
      },
      "id": "51708f4c-e129-48ac-943a-8a5f3aab1db1"
    },
    {
      "cell_type": "code",
      "source": [
        "// Projecting specific property values in the SELECT clause\n",
        "\n",
        "%%sql --database WebsiteData --container Sales\n",
        "SELECT c.Action, c.Price as ItemRevenue, c.Country, c.Item FROM c"
      ],
      "outputs": [
        {
          "output_type": "execute_result",
          "execution_count": 42,
          "data": {
            "text/plain": "Microsoft.CodeAnalysis.Scripting.CompilationErrorException: (3,1): error CS1525: Invalid expression term '%'\n   at Microsoft.CodeAnalysis.Scripting.ScriptBuilder.ThrowIfAnyCompilationErrors(DiagnosticBag diagnostics, DiagnosticFormatter formatter)\n   at Microsoft.CodeAnalysis.Scripting.ScriptBuilder.CreateExecutor[T](ScriptCompiler compiler, Compilation compilation, Boolean emitDebugInformation, CancellationToken cancellationToken)\n   at Microsoft.CodeAnalysis.Scripting.Script`1.GetExecutor(CancellationToken cancellationToken)\n   at Microsoft.CodeAnalysis.Scripting.Script`1.RunFromAsync(ScriptState previousState, Func`2 catchException, CancellationToken cancellationToken)\n   at Microsoft.Azure.Cosmos.Tools.NotebookService.Service.NugetResolver.CosmosCSharpScript.ExecuteInternalAsync(ScriptState`1 scriptState, String code, ScriptOptions scriptOptions) in /Service/NugetResolver/CosmosCSharpScript.cs:line 48\n   at Microsoft.Azure.Cosmos.Tools.NotebookService.Service.NugetResolver.CosmosCSharpScript.ExecuteAsync(ScriptState`1 scriptState, String code, ScriptOptions scriptOptions) in /Service/NugetResolver/CosmosCSharpScript.cs:line 21\n   at Microsoft.Azure.Cosmos.Tools.NotebookService.Service.CosmosCSharpKernel.ExecuteCommandAsync(String code, KernelConnection connection, ExecuteRequestMessage executeRequest) in /Service/Kernels/CosmosCSharpKernel.cs:line 137"
          },
          "metadata": {}
        }
      ],
      "execution_count": 42,
      "metadata": {
        "collapsed": true,
        "jupyter": {
          "source_hidden": false,
          "outputs_hidden": false
        },
        "nteract": {
          "transient": {
            "deleting": false
          }
        },
        "execution": {
          "iopub.status.busy": "2021-11-16T23:54:14.536Z",
          "iopub.status.idle": "2021-11-16T23:54:14.593Z",
          "shell.execute_reply": "2021-11-16T23:54:14.604Z",
          "iopub.execute_input": "2021-11-15T21:54:48.807Z"
        }
      },
      "id": "06f57163-fa0e-4809-b168-54ffee5091d5"
    },
    {
      "cell_type": "code",
      "source": [
        "// Using the WHERE clause to filter to a specific country\n",
        "\n",
        "%%sql --database WebsiteData --container Sales\n",
        "SELECT c.Action, c.Price as ItemRevenue, c.Country, c.Item FROM c WHERE c.Country = \"Iceland\""
      ],
      "outputs": [
        {
          "output_type": "execute_result",
          "execution_count": 33,
          "data": {
            "text/plain": "Microsoft.CodeAnalysis.Scripting.CompilationErrorException: (3,1): error CS1525: Invalid expression term '%'\n   at Microsoft.CodeAnalysis.Scripting.ScriptBuilder.ThrowIfAnyCompilationErrors(DiagnosticBag diagnostics, DiagnosticFormatter formatter)\n   at Microsoft.CodeAnalysis.Scripting.ScriptBuilder.CreateExecutor[T](ScriptCompiler compiler, Compilation compilation, Boolean emitDebugInformation, CancellationToken cancellationToken)\n   at Microsoft.CodeAnalysis.Scripting.Script`1.GetExecutor(CancellationToken cancellationToken)\n   at Microsoft.CodeAnalysis.Scripting.Script`1.RunFromAsync(ScriptState previousState, Func`2 catchException, CancellationToken cancellationToken)\n   at Microsoft.Azure.Cosmos.Tools.NotebookService.Service.NugetResolver.CosmosCSharpScript.ExecuteInternalAsync(ScriptState`1 scriptState, String code, ScriptOptions scriptOptions) in /Service/NugetResolver/CosmosCSharpScript.cs:line 48\n   at Microsoft.Azure.Cosmos.Tools.NotebookService.Service.NugetResolver.CosmosCSharpScript.ExecuteAsync(ScriptState`1 scriptState, String code, ScriptOptions scriptOptions) in /Service/NugetResolver/CosmosCSharpScript.cs:line 21\n   at Microsoft.Azure.Cosmos.Tools.NotebookService.Service.CosmosCSharpKernel.ExecuteCommandAsync(String code, KernelConnection connection, ExecuteRequestMessage executeRequest) in /Service/Kernels/CosmosCSharpKernel.cs:line 137"
          },
          "metadata": {}
        }
      ],
      "execution_count": 33,
      "metadata": {
        "collapsed": true,
        "jupyter": {
          "source_hidden": false,
          "outputs_hidden": false
        },
        "nteract": {
          "transient": {
            "deleting": false
          }
        },
        "execution": {
          "iopub.status.busy": "2021-11-16T23:52:19.934Z",
          "iopub.status.idle": "2021-11-16T23:52:19.994Z",
          "shell.execute_reply": "2021-11-16T23:52:20.004Z"
        }
      },
      "id": "02dd3e6c-d150-45f9-a8e7-6e47ff6b2ae6"
    },
    {
      "cell_type": "code",
      "source": [
        "// Using GROUP BY to obtain the total revenue and quantity sold for each item\n",
        "\n",
        "%%sql --database WebsiteData --container Sales\n",
        "SELECT SUM(c.Price) as ItemRevenue, count() AS ItemsSold FROM c GROUP BY c.Country"
      ],
      "outputs": [
        {
          "output_type": "execute_result",
          "execution_count": 34,
          "data": {
            "text/plain": "Microsoft.CodeAnalysis.Scripting.CompilationErrorException: (3,1): error CS1525: Invalid expression term '%'\n   at Microsoft.CodeAnalysis.Scripting.ScriptBuilder.ThrowIfAnyCompilationErrors(DiagnosticBag diagnostics, DiagnosticFormatter formatter)\n   at Microsoft.CodeAnalysis.Scripting.ScriptBuilder.CreateExecutor[T](ScriptCompiler compiler, Compilation compilation, Boolean emitDebugInformation, CancellationToken cancellationToken)\n   at Microsoft.CodeAnalysis.Scripting.Script`1.GetExecutor(CancellationToken cancellationToken)\n   at Microsoft.CodeAnalysis.Scripting.Script`1.RunFromAsync(ScriptState previousState, Func`2 catchException, CancellationToken cancellationToken)\n   at Microsoft.Azure.Cosmos.Tools.NotebookService.Service.NugetResolver.CosmosCSharpScript.ExecuteInternalAsync(ScriptState`1 scriptState, String code, ScriptOptions scriptOptions) in /Service/NugetResolver/CosmosCSharpScript.cs:line 48\n   at Microsoft.Azure.Cosmos.Tools.NotebookService.Service.NugetResolver.CosmosCSharpScript.ExecuteAsync(ScriptState`1 scriptState, String code, ScriptOptions scriptOptions) in /Service/NugetResolver/CosmosCSharpScript.cs:line 21\n   at Microsoft.Azure.Cosmos.Tools.NotebookService.Service.CosmosCSharpKernel.ExecuteCommandAsync(String code, KernelConnection connection, ExecuteRequestMessage executeRequest) in /Service/Kernels/CosmosCSharpKernel.cs:line 137"
          },
          "metadata": {}
        }
      ],
      "execution_count": 34,
      "metadata": {
        "collapsed": true,
        "jupyter": {
          "source_hidden": false,
          "outputs_hidden": false
        },
        "nteract": {
          "transient": {
            "deleting": false
          }
        },
        "execution": {
          "iopub.status.busy": "2021-11-16T23:52:22.671Z",
          "iopub.status.idle": "2021-11-16T23:52:22.726Z",
          "shell.execute_reply": "2021-11-16T23:52:22.738Z"
        }
      },
      "id": "1c088b2f-5b80-427c-9179-f6f2a4746252"
    },
    {
      "cell_type": "markdown",
      "source": [
        "## Adding a new property to a document\n",
        "\n",
        "Documents within your Azure Cosmos containers can have different structures. Unlike when using a relational database, you don't have to define a schema. Adding a new property to a single document doesn't require any changes at the container-level. Here's an example"
      ],
      "metadata": {
        "nteract": {
          "transient": {
            "deleting": false
          }
        }
      },
      "id": "f724fb55-0d86-4402-ae03-97ca35698e7f"
    },
    {
      "cell_type": "code",
      "source": [
        "// First, we'll read the item that we want to modify\n",
        "ItemSale itemSale = await container.ReadItemAsync<ItemSale>(\"5ee27756-c380-40c6-adf0-93f48139da1e\", new PartitionKey(\"5ee27756-c380-40c6-adf0-93f48139da1e\"));"
      ],
      "outputs": [
        {
          "output_type": "execute_result",
          "execution_count": 44,
          "data": {},
          "metadata": {}
        }
      ],
      "execution_count": 44,
      "metadata": {
        "collapsed": true,
        "jupyter": {
          "source_hidden": false,
          "outputs_hidden": false
        },
        "nteract": {
          "transient": {
            "deleting": false
          }
        },
        "execution": {
          "iopub.status.busy": "2021-11-16T23:54:19.851Z",
          "iopub.status.idle": "2021-11-16T23:54:19.907Z",
          "shell.execute_reply": "2021-11-16T23:54:19.919Z"
        }
      },
      "id": "005741a1-7656-4983-a31d-4be91cdadc9b"
    },
    {
      "cell_type": "code",
      "source": [
        "// Finally, we'll modify the ItemSale that we previously read and add the new property \"IsDiscounted\". We can go ahead and immediately update this in our Sales container, without any changes in settings for that container.\n",
        "itemSale.IsDiscounted = true;\n",
        "ItemResponse<ItemSaleWithDiscount> item = await container.UpsertItemAsync<ItemSale>(itemSale, new PartitionKey(itemSale.id));\n",
        "\n"
      ],
      "outputs": [
        {
          "output_type": "execute_result",
          "execution_count": 45,
          "data": {
            "text/plain": "Microsoft.CodeAnalysis.Scripting.CompilationErrorException: (3,43): error CS0029: Cannot implicitly convert type 'Microsoft.Azure.Cosmos.ItemResponse<ItemSale>' to 'Microsoft.Azure.Cosmos.ItemResponse<ItemSaleWithDiscount>'\n   at Microsoft.CodeAnalysis.Scripting.ScriptBuilder.ThrowIfAnyCompilationErrors(DiagnosticBag diagnostics, DiagnosticFormatter formatter)\n   at Microsoft.CodeAnalysis.Scripting.ScriptBuilder.CreateExecutor[T](ScriptCompiler compiler, Compilation compilation, Boolean emitDebugInformation, CancellationToken cancellationToken)\n   at Microsoft.CodeAnalysis.Scripting.Script`1.GetExecutor(CancellationToken cancellationToken)\n   at Microsoft.CodeAnalysis.Scripting.Script`1.RunFromAsync(ScriptState previousState, Func`2 catchException, CancellationToken cancellationToken)\n   at Microsoft.Azure.Cosmos.Tools.NotebookService.Service.NugetResolver.CosmosCSharpScript.ExecuteInternalAsync(ScriptState`1 scriptState, String code, ScriptOptions scriptOptions) in /Service/NugetResolver/CosmosCSharpScript.cs:line 48\n   at Microsoft.Azure.Cosmos.Tools.NotebookService.Service.NugetResolver.CosmosCSharpScript.ExecuteAsync(ScriptState`1 scriptState, String code, ScriptOptions scriptOptions) in /Service/NugetResolver/CosmosCSharpScript.cs:line 21\n   at Microsoft.Azure.Cosmos.Tools.NotebookService.Service.CosmosCSharpKernel.ExecuteCommandAsync(String code, KernelConnection connection, ExecuteRequestMessage executeRequest) in /Service/Kernels/CosmosCSharpKernel.cs:line 137"
          },
          "metadata": {}
        }
      ],
      "execution_count": 45,
      "metadata": {
        "collapsed": true,
        "jupyter": {
          "source_hidden": false,
          "outputs_hidden": false
        },
        "nteract": {
          "transient": {
            "deleting": false
          }
        },
        "execution": {
          "iopub.status.busy": "2021-11-16T23:54:21.330Z",
          "iopub.status.idle": "2021-11-16T23:54:21.392Z",
          "shell.execute_reply": "2021-11-16T23:54:21.402Z"
        }
      },
      "id": "0f96cd84-ae38-496f-b114-1673064ca4cc"
    },
    {
      "cell_type": "markdown",
      "source": [
        "This property is instantly available to use in query filters. You don't need to add any new indexes or tune query performance."
      ],
      "metadata": {
        "nteract": {
          "transient": {
            "deleting": false
          }
        }
      },
      "id": "dfc2fa77-d04a-41e8-9f64-886d36446cc8"
    },
    {
      "cell_type": "code",
      "source": [
        "%%sql --database WebsiteData --container Sales\n",
        "SELECT c.Action, c.Price as ItemRevenue, c.Country, c.Item FROM c WHERE c.OnClearance = true"
      ],
      "outputs": [],
      "execution_count": null,
      "metadata": {
        "collapsed": true,
        "jupyter": {
          "source_hidden": false,
          "outputs_hidden": false
        },
        "nteract": {
          "transient": {
            "deleting": false
          }
        }
      },
      "id": "05d73c9b-247c-43ed-9185-7874d831e13b"
    }
  ],
  "metadata": {
    "language_info": {
      "name": "csharp",
      "version": "7.3",
      "mimetype": "application/json",
      "file_extension": "ipynb",
      "codemirror_mode": "text/x-csharp"
    },
    "nteract": {
      "version": "dataExplorer 1.0"
    },
    "kernelspec": {
      "name": "csharp",
      "displayName": "CSharp",
      "language": "csharp"
    }
  },
  "nbformat": 4,
  "nbformat_minor": 5
}