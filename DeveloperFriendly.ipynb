{
  "cells": [
    {
      "cell_type": "markdown",
      "source": [
        "# Get started with Azure Cosmos DB development\n",
        "\n",
        "Built-in Jupyter notebooks in Azure Cosmos DB allow to easily ingest and view your data - all within the Azure Portal. In this notebook, we'll learn how to create an Azure Cosmos container, ingest data, and query data.\n",
        "\n",
        "To run this C# notebook, be sure to select the **CSharp** kernel in the command bar, so we can get all the language support features we need.\n"
      ],
      "metadata": {
        "nteract": {
          "transient": {
            "deleting": false
          }
        }
      },
      "id": "6fbe2861-7208-4c93-9183-02096bd1f6b2"
    },
    {
      "cell_type": "markdown",
      "source": [
        "## Create database and containers\n",
        "First, we'll create a new database and container to hold our data. Note when we create the container, we select a value for the partition key: we'll partition our data by the item id value, as it has a high cardinality (important for workloads during a lot of writes, e.g. IOT workloads) and evenly distributes the request and storage volume. Choosing a good partition key is \"key\" to getting good scale and performance from Azure Cosmos DB, so it's important we follow the [best practices](https://docs.microsoft.com/azure/cosmos-db/partitioning-overview)!\n",
        "\n",
        "### The type of container this will create depends on the capacity mode of your Cosmos DB account:\n",
        "- On a provisioned throughput account, this will create a container provisioned at 400 RU/s, the minimum RU/s for any provisioned throughput container.\n",
        "- On a serverless account, this will create a serverless container."
      ],
      "metadata": {
        "nteract": {
          "transient": {
            "deleting": false
          }
        }
      },
      "id": "8ba5f9b6-0bbf-4c10-a4ee-f1616c91d4af"
    },
    {
      "cell_type": "code",
      "source": [
        "using System;\n",
        "using Microsoft.Azure.Cosmos;\n",
        "using System.Collections;\n",
        "\n",
        "// Initialize a new instance of CosmosClient using the built-in account endpoint and key parameters\n",
        "CosmosClient cosmosClient = new CosmosClient(Cosmos.Endpoint, Cosmos.Key);\n",
        "\n",
        "// Create a new database and a new container\n",
        "Microsoft.Azure.Cosmos.Database database = await cosmosClient.CreateDatabaseIfNotExistsAsync(\"WebsiteData\");\n",
        "Container container = await database.CreateContainerIfNotExistsAsync(\"Sales\", \"/id\");\n",
        "\n",
        "Display.AsMarkdown(@\"\n",
        "Created database WebsiteData and container Sales. You can see these new resources by refreshing your resource pane under the Data section.\n",
        "\");"
      ],
      "outputs": [
        {
          "output_type": "execute_result",
          "execution_count": 16,
          "data": {},
          "metadata": {}
        },
        {
          "output_type": "display_data",
          "data": {
            "text/plain": "<IPython.core.display.Markdown object>",
            "text/markdown": "\nCreated database WebsiteData and container Sales. You can see these new resources by refreshing your resource pane under the Data section.\n"
          },
          "metadata": {}
        }
      ],
      "execution_count": 2,
      "metadata": {
        "collapsed": true,
        "jupyter": {
          "source_hidden": false,
          "outputs_hidden": false
        },
        "nteract": {
          "transient": {
            "deleting": false
          }
        },
        "execution": {
          "iopub.status.busy": "2021-11-15T21:53:35.981Z",
          "iopub.execute_input": "2021-11-15T21:53:35.998Z",
          "iopub.status.idle": "2021-11-15T21:53:36.022Z",
          "shell.execute_reply": "2021-11-15T21:53:36.044Z"
        }
      },
      "id": "eced2e04-0b5c-4c65-b3f9-8d32a1ad4e0c"
    },
    {
      "cell_type": "code",
      "source": [
        "%%upload --databaseName WebsiteData --containerName Sales --url https://cosmosnotebooksdata.blob.core.windows.net/notebookdata/websiteData-small.json"
      ],
      "outputs": [
        {
          "output_type": "display_data",
          "data": {
            "text/html": "\r\n<span style='color:#0078D4'>\r\nDocuments successfully uploaded to Sales <br/>\r\nTotal number of documents imported:<br/>\r\n&nbsp;&nbsp;Success: <b>7</b> <br/>\r\n&nbsp;&nbsp;Failure: <b>0</b> <br/>\r\nTotal time taken : <b>00:00:00</b> hours <br/>\r\nTotal RUs consumed : <b>74.69</b> <br/>\r\n<br/>\r\n</span>\r\n"
          },
          "metadata": {}
        }
      ],
      "execution_count": 17,
      "metadata": {
        "collapsed": true,
        "jupyter": {
          "source_hidden": false,
          "outputs_hidden": false
        },
        "nteract": {
          "transient": {
            "deleting": false
          }
        },
        "execution": {
          "iopub.status.busy": "2021-11-15T21:53:37.821Z",
          "iopub.status.idle": "2021-11-15T21:53:38.450Z",
          "shell.execute_reply": "2021-11-15T21:53:38.456Z"
        }
      },
      "id": "d5839f59-1de1-4475-a89d-1ad7d2309dac"
    },
    {
      "cell_type": "markdown",
      "source": [
        "## Querying your data\n",
        "\n",
        "Next, we'll write some SQL queries to explore the data in the Sales container. In Azure Cosmos DB SQL API, you can query your data with SQL queries. Azure Cosmos DB SQL is different from the ANSI SQL you might already be familiar with because it's designed for querying JSON documents, as opposed to relational database tables. However, most SQL concepts still apply in Azure Cosmos DB and if you're already familar with SQL, it is easy to learn how to write queries in Azure Cosmos DB.\n",
        "\n",
        "### Let's explore some examples below."
      ],
      "metadata": {
        "nteract": {
          "transient": {
            "deleting": false
          }
        }
      },
      "id": "51708f4c-e129-48ac-943a-8a5f3aab1db1"
    },
    {
      "cell_type": "code",
      "source": [
        "%%sql --database WebsiteData --container Sales\n",
        "SELECT c.Action, c.Price as ItemRevenue, c.Country, c.Item FROM c"
      ],
      "outputs": [
        {
          "output_type": "display_data",
          "data": {
            "text/html": "\r\n<div>\r\n  <style type='text/css' scoped>\r\n.collapsible {\r\n  background-color: #fff;\r\n  color: #0078D4;\r\n  cursor: pointer;\r\n  padding: 10px;\r\n  border: none;\r\n  text-align: left;\r\n  outline: none;\r\n  font-size: 15px;\r\n  border-radius: 5px;\r\n  margin: 5px\r\n}\r\n\r\n.active, .collapsible:hover {\r\n  color: #4db2ff;\r\n}\r\n\r\n.content {\r\n  margin: 2px;\r\n  padding: 0 18px;\r\n  overflow: hidden;\r\n  background-color: #fff;\r\n  height: 0px;\r\n  -moz-transition: height .2s ease-out;\r\n  -ms-transition: height .2s ease-out;\r\n  -o-transition: height .2s ease-out;\r\n  -webkit-transition: height .2s ease-out;\r\n  transition: height .2s ease-out;\r\n}\r\n</style>\r\n\r\n<button type='button' class='collapsible'>▶ View Query Metrics</button>\r\n  \r\n<div class='content'>\r\n  <div class='measuringWrapper'>\r\n    <span style=\"color:#0078D4\"><b>totalExecutionTimeInMs    </b>:    17.58<br/><b>queryCompileTimeInMs    </b>:    0.48<br/><b>queryLogicalPlanBuildTimeInMs    </b>:    0.06<br/><b>queryPhysicalPlanBuildTimeInMs    </b>:    0.02<br/><b>queryOptimizationTimeInMs    </b>:    0<br/><b>VMExecutionTimeInMs    </b>:    16.479999999999997<br/><b>indexLookupTimeInMs    </b>:    0<br/><b>documentLoadTimeInMs    </b>:    10.719999999999999<br/><b>systemFunctionExecuteTimeInMs    </b>:    0<br/><b>userFunctionExecuteTimeInMs    </b>:    0<br/><b>retrievedDocumentCount    </b>:    2654<br/><b>retrievedDocumentSize    </b>:    1365585<br/><b>outputDocumentCount    </b>:    2654<br/><b>outputDocumentSize    </b>:    220967<br/><b>writeOutputTimeInMs    </b>:    2.09<br/><b>averageIndexUtilizationRation    </b>:    1<br/></span>\r\n  </div>\r\n</div>\r\n\r\n<script>\r\nvar coll = document.getElementsByClassName('collapsible');\r\nvar i;\r\n\r\nfor (i = 0; i < coll.length; i++) {\r\n  \r\n  coll[i].addEventListener('click', function() {\r\n    this.classList.toggle('active');\r\n    var content = this.nextElementSibling;\r\n    \r\n    if (content.clientHeight != 0) {\r\n      this.textContent = '▶ View Query Metrics';\r\n      content.style.height = '0px';\r\n    }\r\n    else {\r\n      this.textContent = '▼ Hide Query Metrics';\r\n      content.style.height = content.children[0].clientHeight + 'px';\r\n    }\r\n  });\r\n}\r\n</script>\r\n</div>"
          },
          "metadata": {}
        },
        {
          "output_type": "display_data",
          "data": {
            "text/plain": "         Action  ItemRevenue                   Country             Item\n0        Viewed       350.00                   Iceland   Cosmos T-shirt\n1        Viewed        80.00                  Paraguay      Light Jeans\n2     Purchased        20.00  Central African Republic           Gloves\n3         Added        31.99                    Tuvalu     Denim Jacket\n4        Viewed        79.99          Christmas Island    Walking Shoes\n...         ...          ...                       ...              ...\n2649     Viewed        90.00                  Honduras       Dark Jeans\n2650      Added        22.50                     Tonga  Athletic Shorts\n2651      Added        90.00     Sao Tome and Principe       Dark Jeans\n2652     Viewed        80.00                   Algeria      Light Jeans\n2653      Added       350.00                    Rwanda   Cosmos T-shirt\n\n[2654 rows x 4 columns]",
            "text/html": "<div>\n<style scoped>\n    .dataframe tbody tr th:only-of-type {\n        vertical-align: middle;\n    }\n\n    .dataframe tbody tr th {\n        vertical-align: top;\n    }\n\n    .dataframe thead th {\n        text-align: right;\n    }\n</style>\n<table border=\"1\" class=\"dataframe\">\n  <thead>\n    <tr style=\"text-align: right;\">\n      <th></th>\n      <th>Action</th>\n      <th>ItemRevenue</th>\n      <th>Country</th>\n      <th>Item</th>\n    </tr>\n  </thead>\n  <tbody>\n    <tr>\n      <th>0</th>\n      <td>Viewed</td>\n      <td>350.00</td>\n      <td>Iceland</td>\n      <td>Cosmos T-shirt</td>\n    </tr>\n    <tr>\n      <th>1</th>\n      <td>Viewed</td>\n      <td>80.00</td>\n      <td>Paraguay</td>\n      <td>Light Jeans</td>\n    </tr>\n    <tr>\n      <th>2</th>\n      <td>Purchased</td>\n      <td>20.00</td>\n      <td>Central African Republic</td>\n      <td>Gloves</td>\n    </tr>\n    <tr>\n      <th>3</th>\n      <td>Added</td>\n      <td>31.99</td>\n      <td>Tuvalu</td>\n      <td>Denim Jacket</td>\n    </tr>\n    <tr>\n      <th>4</th>\n      <td>Viewed</td>\n      <td>79.99</td>\n      <td>Christmas Island</td>\n      <td>Walking Shoes</td>\n    </tr>\n    <tr>\n      <th>...</th>\n      <td>...</td>\n      <td>...</td>\n      <td>...</td>\n      <td>...</td>\n    </tr>\n    <tr>\n      <th>2649</th>\n      <td>Viewed</td>\n      <td>90.00</td>\n      <td>Honduras</td>\n      <td>Dark Jeans</td>\n    </tr>\n    <tr>\n      <th>2650</th>\n      <td>Added</td>\n      <td>22.50</td>\n      <td>Tonga</td>\n      <td>Athletic Shorts</td>\n    </tr>\n    <tr>\n      <th>2651</th>\n      <td>Added</td>\n      <td>90.00</td>\n      <td>Sao Tome and Principe</td>\n      <td>Dark Jeans</td>\n    </tr>\n    <tr>\n      <th>2652</th>\n      <td>Viewed</td>\n      <td>80.00</td>\n      <td>Algeria</td>\n      <td>Light Jeans</td>\n    </tr>\n    <tr>\n      <th>2653</th>\n      <td>Added</td>\n      <td>350.00</td>\n      <td>Rwanda</td>\n      <td>Cosmos T-shirt</td>\n    </tr>\n  </tbody>\n</table>\n<p>2654 rows × 4 columns</p>\n</div>"
          },
          "metadata": {}
        }
      ],
      "execution_count": 1,
      "metadata": {
        "collapsed": true,
        "jupyter": {
          "source_hidden": false,
          "outputs_hidden": false
        },
        "nteract": {
          "transient": {
            "deleting": false
          }
        },
        "execution": {
          "iopub.status.busy": "2021-11-15T21:54:47.962Z",
          "iopub.status.idle": "2021-11-15T21:54:48.822Z",
          "shell.execute_reply": "2021-11-15T21:54:48.814Z",
          "iopub.execute_input": "2021-11-15T21:54:48.807Z"
        }
      },
      "id": "06f57163-fa0e-4809-b168-54ffee5091d5"
    },
    {
      "cell_type": "code",
      "source": [],
      "outputs": [],
      "execution_count": null,
      "metadata": {
        "collapsed": true,
        "jupyter": {
          "source_hidden": false,
          "outputs_hidden": false
        },
        "nteract": {
          "transient": {
            "deleting": false
          }
        }
      },
      "id": "9778623c-d72d-4798-a026-623360eeccac"
    },
    {
      "cell_type": "code",
      "source": [],
      "outputs": [],
      "execution_count": null,
      "metadata": {
        "collapsed": true,
        "jupyter": {
          "source_hidden": false,
          "outputs_hidden": false
        },
        "nteract": {
          "transient": {
            "deleting": false
          }
        }
      },
      "id": "02dd3e6c-d150-45f9-a8e7-6e47ff6b2ae6"
    }
  ],
  "metadata": {
    "language_info": {
      "name": "python",
      "version": "3.7",
      "mimetype": "application/json",
      "file_extension": "ipynb"
    },
    "nteract": {
      "version": "dataExplorer 1.0"
    },
    "kernelspec": {
      "name": "python3",
      "displayName": "Python 3",
      "language": "python"
    }
  },
  "nbformat": 4,
  "nbformat_minor": 5
}