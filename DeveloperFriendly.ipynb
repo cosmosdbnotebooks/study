{
  "cells": [
    {
      "cell_type": "markdown",
      "source": [
        "# Get started with Azure Cosmos DB development\n",
        "\n",
        "Built-in Jupyter notebooks in Azure Cosmos DB allow to easily ingest and view your data - all within the Azure Portal. In this notebook, we'll learn how to create an Azure Cosmos container, ingest data, and query data.\n",
        "\n",
        "To run this C# notebook, be sure to select the **CSharp** kernel in the command bar, so we can get all the language support features we need.\n"
      ],
      "metadata": {
        "nteract": {
          "transient": {
            "deleting": false
          }
        }
      },
      "id": "6fbe2861-7208-4c93-9183-02096bd1f6b2"
    },
    {
      "cell_type": "markdown",
      "source": [
        "## Create database and containers\n",
        "First, we'll create a new database and container to hold our data. Note when we create the container, we select a value for the partition key: we'll partition our data by the item id value, as it has a high cardinality (important for workloads during a lot of writes, e.g. IOT workloads) and evenly distributes the request and storage volume. Choosing a good partition key is \"key\" to getting good scale and performance from Azure Cosmos DB, so it's important we follow the [best practices](https://docs.microsoft.com/azure/cosmos-db/partitioning-overview)!\n",
        "\n",
        "### The type of container this will create depends on the capacity mode of your Cosmos DB account:\n",
        "- On a provisioned throughput account, this will create a container provisioned at 400 RU/s, the minimum RU/s for any provisioned throughput container.\n",
        "- On a serverless account, this will create a serverless container."
      ],
      "metadata": {
        "nteract": {
          "transient": {
            "deleting": false
          }
        }
      },
      "id": "8ba5f9b6-0bbf-4c10-a4ee-f1616c91d4af"
    },
    {
      "cell_type": "code",
      "source": [
        "using System;\n",
        "using Microsoft.Azure.Cosmos;\n",
        "using System.Collections;\n",
        "\n",
        "// Initialize a new instance of CosmosClient using the built-in account endpoint and key parameters\n",
        "CosmosClient cosmosClient = new CosmosClient(Cosmos.Endpoint, Cosmos.Key);\n",
        "\n",
        "// Create a new database and a new container\n",
        "Microsoft.Azure.Cosmos.Database database = await cosmosClient.CreateDatabaseIfNotExistsAsync(\"WebsiteData\");\n",
        "Container container = await database.CreateContainerIfNotExistsAsync(\"Sales\", \"/id\");\n",
        "\n",
        "Display.AsMarkdown(@\"\n",
        "Created database WebsiteData and container Sales. You can see these new resources by refreshing your resource pane under the Data section.\n",
        "\");"
      ],
      "outputs": [
        {
          "output_type": "execute_result",
          "execution_count": 16,
          "data": {},
          "metadata": {}
        },
        {
          "output_type": "display_data",
          "data": {
            "text/plain": "<IPython.core.display.Markdown object>",
            "text/markdown": "\nCreated database WebsiteData and container Sales. You can see these new resources by refreshing your resource pane under the Data section.\n"
          },
          "metadata": {}
        }
      ],
      "execution_count": 2,
      "metadata": {
        "collapsed": true,
        "jupyter": {
          "source_hidden": false,
          "outputs_hidden": false
        },
        "nteract": {
          "transient": {
            "deleting": false
          }
        },
        "execution": {
          "iopub.status.busy": "2021-11-15T21:53:35.981Z",
          "iopub.execute_input": "2021-11-15T21:53:35.998Z",
          "iopub.status.idle": "2021-11-15T21:53:36.022Z",
          "shell.execute_reply": "2021-11-15T21:53:36.044Z"
        }
      },
      "id": "eced2e04-0b5c-4c65-b3f9-8d32a1ad4e0c"
    },
    {
      "cell_type": "code",
      "source": [
        "%%upload --databaseName WebsiteData --containerName Sales --url https://cosmosnotebooksdata.blob.core.windows.net/notebookdata/websiteData-small.json"
      ],
      "outputs": [
        {
          "output_type": "display_data",
          "data": {
            "text/html": "\r\n<span style='color:#0078D4'>\r\nDocuments successfully uploaded to Sales <br/>\r\nTotal number of documents imported:<br/>\r\n&nbsp;&nbsp;Success: <b>7</b> <br/>\r\n&nbsp;&nbsp;Failure: <b>0</b> <br/>\r\nTotal time taken : <b>00:00:01</b> hours <br/>\r\nTotal RUs consumed : <b>74.69</b> <br/>\r\n<br/>\r\n</span>\r\n"
          },
          "metadata": {}
        }
      ],
      "execution_count": 4,
      "metadata": {
        "collapsed": true,
        "jupyter": {
          "source_hidden": false,
          "outputs_hidden": false
        },
        "nteract": {
          "transient": {
            "deleting": false
          }
        },
        "execution": {
          "iopub.status.busy": "2021-11-16T00:11:28.718Z",
          "iopub.status.idle": "2021-11-16T00:11:30.483Z",
          "shell.execute_reply": "2021-11-16T00:11:30.505Z"
        }
      },
      "id": "d5839f59-1de1-4475-a89d-1ad7d2309dac"
    },
    {
      "cell_type": "markdown",
      "source": [
        "## Querying your data\n",
        "\n",
        "Next, we'll write some SQL queries to explore the data in the Sales container. In Azure Cosmos DB SQL API, you can query your data with SQL queries. Azure Cosmos DB SQL is different from the ANSI SQL you might already be familiar with because it's designed for querying JSON documents, as opposed to relational database tables. However, most SQL concepts still apply in Azure Cosmos DB and if you're already familar with SQL, it is easy to learn how to write queries in Azure Cosmos DB.\n",
        "\n",
        "### The below examples will explore basic query features in Azure Cosmos DB. Here are some things to keep in mind:\n",
        "\n",
        "- Azure Cosmos DB indexes all properties by default, so you don't need to manually create indexes. Later on, you can remove unused indexes and add on composite indexes to further improve query performance\n",
        "- You don't need to be an expert in database performance to run queries in Azure Cosmos DB. There's virtually no query tuning required and queries automatically use indexes.\n",
        "- All queries deduct from your per-second budget of request units (RUs). Queries that are more complex or have higher latency tend to consume more RUs. All queries consume at least 2 RUs.\n"
      ],
      "metadata": {
        "nteract": {
          "transient": {
            "deleting": false
          }
        }
      },
      "id": "51708f4c-e129-48ac-943a-8a5f3aab1db1"
    },
    {
      "cell_type": "code",
      "source": [
        "%%sql --database WebsiteData --container Sales\n",
        "SELECT c.Action, c.Price as ItemRevenue, c.Country, c.Item FROM c"
      ],
      "outputs": [
        {
          "output_type": "execute_result",
          "execution_count": 7,
          "data": {
            "text/plain": "Microsoft.CodeAnalysis.Scripting.CompilationErrorException: (1,1): error CS1525: Invalid expression term '%'\n   at Microsoft.CodeAnalysis.Scripting.ScriptBuilder.ThrowIfAnyCompilationErrors(DiagnosticBag diagnostics, DiagnosticFormatter formatter)\n   at Microsoft.CodeAnalysis.Scripting.ScriptBuilder.CreateExecutor[T](ScriptCompiler compiler, Compilation compilation, Boolean emitDebugInformation, CancellationToken cancellationToken)\n   at Microsoft.CodeAnalysis.Scripting.Script`1.GetExecutor(CancellationToken cancellationToken)\n   at Microsoft.CodeAnalysis.Scripting.Script`1.RunFromAsync(ScriptState previousState, Func`2 catchException, CancellationToken cancellationToken)\n   at Microsoft.CodeAnalysis.Scripting.ScriptState.ContinueWithAsync(String code, ScriptOptions options, Func`2 catchException, CancellationToken cancellationToken)\n   at Microsoft.Azure.Cosmos.Tools.NotebookService.Service.NugetResolver.CosmosCSharpScript.ExecuteInternalAsync(ScriptState`1 scriptState, String code, ScriptOptions scriptOptions) in /Service/NugetResolver/CosmosCSharpScript.cs:line 44\n   at Microsoft.Azure.Cosmos.Tools.NotebookService.Service.NugetResolver.CosmosCSharpScript.ExecuteAsync(ScriptState`1 scriptState, String code, ScriptOptions scriptOptions) in /Service/NugetResolver/CosmosCSharpScript.cs:line 21\n   at Microsoft.Azure.Cosmos.Tools.NotebookService.Service.CosmosCSharpKernel.ExecuteCommandAsync(String code, KernelConnection connection, ExecuteRequestMessage executeRequest) in /Service/Kernels/CosmosCSharpKernel.cs:line 114"
          },
          "metadata": {}
        }
      ],
      "execution_count": 7,
      "metadata": {
        "collapsed": true,
        "jupyter": {
          "source_hidden": false,
          "outputs_hidden": false
        },
        "nteract": {
          "transient": {
            "deleting": false
          }
        },
        "execution": {
          "iopub.status.busy": "2021-11-16T00:11:41.607Z",
          "iopub.status.idle": "2021-11-16T00:11:41.671Z",
          "shell.execute_reply": "2021-11-16T00:11:41.729Z",
          "iopub.execute_input": "2021-11-15T21:54:48.807Z"
        }
      },
      "id": "06f57163-fa0e-4809-b168-54ffee5091d5"
    },
    {
      "cell_type": "code",
      "source": [
        "### Using the "
      ],
      "outputs": [],
      "execution_count": null,
      "metadata": {
        "collapsed": true,
        "jupyter": {
          "source_hidden": false,
          "outputs_hidden": false
        },
        "nteract": {
          "transient": {
            "deleting": false
          }
        }
      },
      "id": "9778623c-d72d-4798-a026-623360eeccac"
    },
    {
      "cell_type": "code",
      "source": [],
      "outputs": [],
      "execution_count": null,
      "metadata": {
        "collapsed": true,
        "jupyter": {
          "source_hidden": false,
          "outputs_hidden": false
        },
        "nteract": {
          "transient": {
            "deleting": false
          }
        }
      },
      "id": "02dd3e6c-d150-45f9-a8e7-6e47ff6b2ae6"
    }
  ],
  "metadata": {
    "language_info": {
      "name": "csharp",
      "version": "7.3",
      "mimetype": "application/json",
      "file_extension": "ipynb",
      "codemirror_mode": "text/x-csharp"
    },
    "nteract": {
      "version": "dataExplorer 1.0"
    },
    "kernelspec": {
      "name": "csharp",
      "displayName": "CSharp",
      "language": "csharp"
    }
  },
  "nbformat": 4,
  "nbformat_minor": 5
}